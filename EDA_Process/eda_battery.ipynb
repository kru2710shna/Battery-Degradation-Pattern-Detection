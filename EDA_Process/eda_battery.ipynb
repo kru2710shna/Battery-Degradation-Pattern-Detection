{
 "cells": [
  {
   "cell_type": "code",
   "execution_count": 1,
   "id": "42717d1f",
   "metadata": {},
   "outputs": [
    {
     "name": "stdout",
     "output_type": "stream",
     "text": [
      "Code Checker\n"
     ]
    }
   ],
   "source": [
    "print(\"Code Checker\")"
   ]
  },
  {
   "cell_type": "markdown",
   "id": "91e3ced8",
   "metadata": {},
   "source": [
    "# Import "
   ]
  },
  {
   "cell_type": "code",
   "execution_count": 5,
   "id": "a5ff27f9",
   "metadata": {},
   "outputs": [
    {
     "data": {
      "text/plain": [
       "PosixPath('../Data/raw/raw_battery_dataset.csv')"
      ]
     },
     "execution_count": 5,
     "metadata": {},
     "output_type": "execute_result"
    }
   ],
   "source": [
    "import os, json, math, textwrap\n",
    "import numpy as np\n",
    "import pandas as pd\n",
    "\n",
    "from pathlib import Path\n",
    "from sklearn.ensemble import IsolationForest\n",
    "from sklearn.linear_model import LinearRegression\n",
    "from scipy.signal import savgol_filter\n",
    "\n",
    "DATA_DIR = Path(\"../Data\")\n",
    "RAW = DATA_DIR / \"raw\" / \"raw_battery_dataset.csv\"\n",
    "PROC_DIR = DATA_DIR / \"processed\"\n",
    "RES_DIR = DATA_DIR / \"results\"\n",
    "PROC_DIR.mkdir(parents=True, exist_ok=True)\n",
    "RES_DIR.mkdir(parents=True, exist_ok=True)\n",
    "RAW\n"
   ]
  },
  {
   "cell_type": "markdown",
   "id": "6aaaa522",
   "metadata": {},
   "source": [
    "# CSV Load"
   ]
  },
  {
   "cell_type": "code",
   "execution_count": 6,
   "id": "39ff876e",
   "metadata": {},
   "outputs": [
    {
     "name": "stdout",
     "output_type": "stream",
     "text": [
      "(680, 11)\n"
     ]
    },
    {
     "data": {
      "text/html": [
       "<div>\n",
       "<style scoped>\n",
       "    .dataframe tbody tr th:only-of-type {\n",
       "        vertical-align: middle;\n",
       "    }\n",
       "\n",
       "    .dataframe tbody tr th {\n",
       "        vertical-align: top;\n",
       "    }\n",
       "\n",
       "    .dataframe thead th {\n",
       "        text-align: right;\n",
       "    }\n",
       "</style>\n",
       "<table border=\"1\" class=\"dataframe\">\n",
       "  <thead>\n",
       "    <tr style=\"text-align: right;\">\n",
       "      <th></th>\n",
       "      <th>battery_id</th>\n",
       "      <th>cycle</th>\n",
       "      <th>chI</th>\n",
       "      <th>chV</th>\n",
       "      <th>chT</th>\n",
       "      <th>disI</th>\n",
       "      <th>disV</th>\n",
       "      <th>disT</th>\n",
       "      <th>BCt</th>\n",
       "      <th>SOH</th>\n",
       "      <th>RUL</th>\n",
       "    </tr>\n",
       "  </thead>\n",
       "  <tbody>\n",
       "    <tr>\n",
       "      <th>0</th>\n",
       "      <td>B5</td>\n",
       "      <td>1</td>\n",
       "      <td>1.440147</td>\n",
       "      <td>4.254682</td>\n",
       "      <td>23.988733</td>\n",
       "      <td>1.894407</td>\n",
       "      <td>3.273523</td>\n",
       "      <td>32.980834</td>\n",
       "      <td>1.986196</td>\n",
       "      <td>99.309790</td>\n",
       "      <td>219</td>\n",
       "    </tr>\n",
       "    <tr>\n",
       "      <th>1</th>\n",
       "      <td>B5</td>\n",
       "      <td>2</td>\n",
       "      <td>1.416595</td>\n",
       "      <td>4.159825</td>\n",
       "      <td>25.665347</td>\n",
       "      <td>1.829949</td>\n",
       "      <td>4.038741</td>\n",
       "      <td>32.257920</td>\n",
       "      <td>1.986240</td>\n",
       "      <td>99.311985</td>\n",
       "      <td>218</td>\n",
       "    </tr>\n",
       "    <tr>\n",
       "      <th>2</th>\n",
       "      <td>B5</td>\n",
       "      <td>3</td>\n",
       "      <td>1.420272</td>\n",
       "      <td>4.276323</td>\n",
       "      <td>25.407910</td>\n",
       "      <td>1.942105</td>\n",
       "      <td>3.214433</td>\n",
       "      <td>35.134801</td>\n",
       "      <td>1.984252</td>\n",
       "      <td>99.212608</td>\n",
       "      <td>217</td>\n",
       "    </tr>\n",
       "    <tr>\n",
       "      <th>3</th>\n",
       "      <td>B5</td>\n",
       "      <td>4</td>\n",
       "      <td>1.337680</td>\n",
       "      <td>4.236697</td>\n",
       "      <td>27.069757</td>\n",
       "      <td>2.073577</td>\n",
       "      <td>3.134529</td>\n",
       "      <td>32.082988</td>\n",
       "      <td>1.969236</td>\n",
       "      <td>98.461812</td>\n",
       "      <td>216</td>\n",
       "    </tr>\n",
       "    <tr>\n",
       "      <th>4</th>\n",
       "      <td>B5</td>\n",
       "      <td>5</td>\n",
       "      <td>1.263946</td>\n",
       "      <td>4.142791</td>\n",
       "      <td>26.478353</td>\n",
       "      <td>2.049885</td>\n",
       "      <td>3.729341</td>\n",
       "      <td>32.483154</td>\n",
       "      <td>1.974862</td>\n",
       "      <td>98.743106</td>\n",
       "      <td>215</td>\n",
       "    </tr>\n",
       "  </tbody>\n",
       "</table>\n",
       "</div>"
      ],
      "text/plain": [
       "  battery_id  cycle       chI       chV        chT      disI      disV  \\\n",
       "0         B5      1  1.440147  4.254682  23.988733  1.894407  3.273523   \n",
       "1         B5      2  1.416595  4.159825  25.665347  1.829949  4.038741   \n",
       "2         B5      3  1.420272  4.276323  25.407910  1.942105  3.214433   \n",
       "3         B5      4  1.337680  4.236697  27.069757  2.073577  3.134529   \n",
       "4         B5      5  1.263946  4.142791  26.478353  2.049885  3.729341   \n",
       "\n",
       "        disT       BCt        SOH  RUL  \n",
       "0  32.980834  1.986196  99.309790  219  \n",
       "1  32.257920  1.986240  99.311985  218  \n",
       "2  35.134801  1.984252  99.212608  217  \n",
       "3  32.082988  1.969236  98.461812  216  \n",
       "4  32.483154  1.974862  98.743106  215  "
      ]
     },
     "execution_count": 6,
     "metadata": {},
     "output_type": "execute_result"
    }
   ],
   "source": [
    "# Read with robust options (handles stray commas/na)\n",
    "df_raw = pd.read_csv(RAW)\n",
    "print(df_raw.shape)\n",
    "df_raw.head()\n"
   ]
  },
  {
   "cell_type": "markdown",
   "id": "a016ade5",
   "metadata": {},
   "source": [
    "#### Battery_id - EACH CELL\n",
    "#### cycle - Indicates Test Cycle Number: A FULL CHARGE + DISCHARGE COUNTS AS 1 CYCLE \n",
    "#### chl - CHARGING CURRENT\n",
    "#### chv - CHARGING VOLTAGE\n",
    "#### cht - CHARGING TEMPERATURE\n",
    "#### disl - DISCHARGING CURRENT - CURRENT DRAWN WHILE DISCHARGE\n",
    "#### disv - DISCHARGING VOLTAGE - VOLTAGE DRAWN WHILE DISCHARGE\n",
    "#### dist - DISCHARGING TEMPERATURE - TEMPERATURE DRAWN WHILE DISCHARGE\n",
    "#### BCt - BATTERY CAPACITY - HOW MUCH CHARGE A CELL CAN STORE\n",
    "#### SOH - STATE OF HEALTH\n",
    "#### RUL - REMAINING USEFUL LIFE\n",
    "\n"
   ]
  },
  {
   "cell_type": "code",
   "execution_count": 7,
   "id": "f4252a6e",
   "metadata": {},
   "outputs": [
    {
     "name": "stdout",
     "output_type": "stream",
     "text": [
      "(680, 11)\n"
     ]
    },
    {
     "data": {
      "text/html": [
       "<div>\n",
       "<style scoped>\n",
       "    .dataframe tbody tr th:only-of-type {\n",
       "        vertical-align: middle;\n",
       "    }\n",
       "\n",
       "    .dataframe tbody tr th {\n",
       "        vertical-align: top;\n",
       "    }\n",
       "\n",
       "    .dataframe thead th {\n",
       "        text-align: right;\n",
       "    }\n",
       "</style>\n",
       "<table border=\"1\" class=\"dataframe\">\n",
       "  <thead>\n",
       "    <tr style=\"text-align: right;\">\n",
       "      <th></th>\n",
       "      <th>battery_id</th>\n",
       "      <th>cycle</th>\n",
       "      <th>charge_current</th>\n",
       "      <th>charge_voltage</th>\n",
       "      <th>charge_temp</th>\n",
       "      <th>discharge_current</th>\n",
       "      <th>discharge_voltage</th>\n",
       "      <th>discharge_temp</th>\n",
       "      <th>capacity</th>\n",
       "      <th>soh</th>\n",
       "      <th>rul</th>\n",
       "    </tr>\n",
       "  </thead>\n",
       "  <tbody>\n",
       "    <tr>\n",
       "      <th>0</th>\n",
       "      <td>B5</td>\n",
       "      <td>1</td>\n",
       "      <td>1.440147</td>\n",
       "      <td>4.254682</td>\n",
       "      <td>23.988733</td>\n",
       "      <td>1.894407</td>\n",
       "      <td>3.273523</td>\n",
       "      <td>32.980834</td>\n",
       "      <td>1.986196</td>\n",
       "      <td>99.309790</td>\n",
       "      <td>219</td>\n",
       "    </tr>\n",
       "    <tr>\n",
       "      <th>1</th>\n",
       "      <td>B5</td>\n",
       "      <td>2</td>\n",
       "      <td>1.416595</td>\n",
       "      <td>4.159825</td>\n",
       "      <td>25.665347</td>\n",
       "      <td>1.829949</td>\n",
       "      <td>4.038741</td>\n",
       "      <td>32.257920</td>\n",
       "      <td>1.986240</td>\n",
       "      <td>99.311985</td>\n",
       "      <td>218</td>\n",
       "    </tr>\n",
       "    <tr>\n",
       "      <th>2</th>\n",
       "      <td>B5</td>\n",
       "      <td>3</td>\n",
       "      <td>1.420272</td>\n",
       "      <td>4.276323</td>\n",
       "      <td>25.407910</td>\n",
       "      <td>1.942105</td>\n",
       "      <td>3.214433</td>\n",
       "      <td>35.134801</td>\n",
       "      <td>1.984252</td>\n",
       "      <td>99.212608</td>\n",
       "      <td>217</td>\n",
       "    </tr>\n",
       "    <tr>\n",
       "      <th>3</th>\n",
       "      <td>B5</td>\n",
       "      <td>4</td>\n",
       "      <td>1.337680</td>\n",
       "      <td>4.236697</td>\n",
       "      <td>27.069757</td>\n",
       "      <td>2.073577</td>\n",
       "      <td>3.134529</td>\n",
       "      <td>32.082988</td>\n",
       "      <td>1.969236</td>\n",
       "      <td>98.461812</td>\n",
       "      <td>216</td>\n",
       "    </tr>\n",
       "    <tr>\n",
       "      <th>4</th>\n",
       "      <td>B5</td>\n",
       "      <td>5</td>\n",
       "      <td>1.263946</td>\n",
       "      <td>4.142791</td>\n",
       "      <td>26.478353</td>\n",
       "      <td>2.049885</td>\n",
       "      <td>3.729341</td>\n",
       "      <td>32.483154</td>\n",
       "      <td>1.974862</td>\n",
       "      <td>98.743106</td>\n",
       "      <td>215</td>\n",
       "    </tr>\n",
       "  </tbody>\n",
       "</table>\n",
       "</div>"
      ],
      "text/plain": [
       "  battery_id  cycle  charge_current  charge_voltage  charge_temp  \\\n",
       "0         B5      1        1.440147        4.254682    23.988733   \n",
       "1         B5      2        1.416595        4.159825    25.665347   \n",
       "2         B5      3        1.420272        4.276323    25.407910   \n",
       "3         B5      4        1.337680        4.236697    27.069757   \n",
       "4         B5      5        1.263946        4.142791    26.478353   \n",
       "\n",
       "   discharge_current  discharge_voltage  discharge_temp  capacity        soh  \\\n",
       "0           1.894407           3.273523       32.980834  1.986196  99.309790   \n",
       "1           1.829949           4.038741       32.257920  1.986240  99.311985   \n",
       "2           1.942105           3.214433       35.134801  1.984252  99.212608   \n",
       "3           2.073577           3.134529       32.082988  1.969236  98.461812   \n",
       "4           2.049885           3.729341       32.483154  1.974862  98.743106   \n",
       "\n",
       "   rul  \n",
       "0  219  \n",
       "1  218  \n",
       "2  217  \n",
       "3  216  \n",
       "4  215  "
      ]
     },
     "execution_count": 7,
     "metadata": {},
     "output_type": "execute_result"
    }
   ],
   "source": [
    "# === Canonical Mapping (specific to Kaggle Li-ion dataset) ===\n",
    "canonical_map = {\n",
    "    \"battery_id\": \"battery_id\",        # identifier\n",
    "    \"cycle\": \"cycle\",                  # cycle index\n",
    "    \"chI\": \"charge_current\",           # charging current (A)\n",
    "    \"chV\": \"charge_voltage\",           # charging voltage (V)\n",
    "    \"chT\": \"charge_temp\",              # charging temperature (°C)\n",
    "    \"disI\": \"discharge_current\",       # discharging current (A)\n",
    "    \"disV\": \"discharge_voltage\",       # discharging voltage (V)\n",
    "    \"disT\": \"discharge_temp\",          # discharging temperature (°C)\n",
    "    \"BCt\": \"capacity\",                 # battery capacity (Ah)\n",
    "    \"SOH\": \"soh\",                      # state of health (%)\n",
    "    \"RUL\": \"rul\"                       # remaining useful life (cycles)\n",
    "}\n",
    "\n",
    "df = df_raw.rename(columns=canonical_map)\n",
    "df = df[list(canonical_map.values())]\n",
    "\n",
    "# Ensure numeric columns are clean\n",
    "num_cols = [\n",
    "    \"cycle\", \"charge_current\", \"charge_voltage\", \"charge_temp\",\n",
    "    \"discharge_current\", \"discharge_voltage\", \"discharge_temp\",\n",
    "    \"capacity\", \"soh\", \"rul\"\n",
    "]\n",
    "df[num_cols] = df[num_cols].apply(pd.to_numeric, errors=\"coerce\")\n",
    "\n",
    "# Sort for consistency\n",
    "df = df.sort_values(by=[\"battery_id\", \"cycle\"]).reset_index(drop=True)\n",
    "print(df.shape)\n",
    "df.head()\n"
   ]
  },
  {
   "cell_type": "markdown",
   "id": "2b138e4e",
   "metadata": {},
   "source": [
    "# PREPROCESS"
   ]
  },
  {
   "cell_type": "code",
   "execution_count": 8,
   "id": "85942e38",
   "metadata": {},
   "outputs": [
    {
     "name": "stderr",
     "output_type": "stream",
     "text": [
      "/var/folders/6y/8rwnfv1s3855864m6xpflvj00000gn/T/ipykernel_13420/945817531.py:6: FutureWarning: DataFrame.fillna with 'method' is deprecated and will raise in a future version. Use obj.ffill() or obj.bfill() instead.\n",
      "  df_clean[num_cols] = df_clean[num_cols].fillna(method=\"bfill\").fillna(method=\"ffill\")\n"
     ]
    },
    {
     "data": {
      "text/html": [
       "<div>\n",
       "<style scoped>\n",
       "    .dataframe tbody tr th:only-of-type {\n",
       "        vertical-align: middle;\n",
       "    }\n",
       "\n",
       "    .dataframe tbody tr th {\n",
       "        vertical-align: top;\n",
       "    }\n",
       "\n",
       "    .dataframe thead tr th {\n",
       "        text-align: left;\n",
       "    }\n",
       "\n",
       "    .dataframe thead tr:last-of-type th {\n",
       "        text-align: right;\n",
       "    }\n",
       "</style>\n",
       "<table border=\"1\" class=\"dataframe\">\n",
       "  <thead>\n",
       "    <tr>\n",
       "      <th></th>\n",
       "      <th colspan=\"2\" halign=\"left\">cycle</th>\n",
       "      <th colspan=\"2\" halign=\"left\">capacity</th>\n",
       "      <th colspan=\"2\" halign=\"left\">soh</th>\n",
       "      <th colspan=\"2\" halign=\"left\">rul</th>\n",
       "    </tr>\n",
       "    <tr>\n",
       "      <th></th>\n",
       "      <th>min</th>\n",
       "      <th>max</th>\n",
       "      <th>min</th>\n",
       "      <th>max</th>\n",
       "      <th>min</th>\n",
       "      <th>max</th>\n",
       "      <th>min</th>\n",
       "      <th>max</th>\n",
       "    </tr>\n",
       "    <tr>\n",
       "      <th>battery_id</th>\n",
       "      <th></th>\n",
       "      <th></th>\n",
       "      <th></th>\n",
       "      <th></th>\n",
       "      <th></th>\n",
       "      <th></th>\n",
       "      <th></th>\n",
       "      <th></th>\n",
       "    </tr>\n",
       "  </thead>\n",
       "  <tbody>\n",
       "    <tr>\n",
       "      <th>B5</th>\n",
       "      <td>1</td>\n",
       "      <td>220</td>\n",
       "      <td>0.898</td>\n",
       "      <td>1.986</td>\n",
       "      <td>44.913</td>\n",
       "      <td>99.312</td>\n",
       "      <td>0</td>\n",
       "      <td>219</td>\n",
       "    </tr>\n",
       "    <tr>\n",
       "      <th>B6</th>\n",
       "      <td>1</td>\n",
       "      <td>210</td>\n",
       "      <td>0.942</td>\n",
       "      <td>1.994</td>\n",
       "      <td>47.110</td>\n",
       "      <td>99.685</td>\n",
       "      <td>0</td>\n",
       "      <td>209</td>\n",
       "    </tr>\n",
       "    <tr>\n",
       "      <th>B7</th>\n",
       "      <td>1</td>\n",
       "      <td>250</td>\n",
       "      <td>0.751</td>\n",
       "      <td>1.991</td>\n",
       "      <td>37.549</td>\n",
       "      <td>99.545</td>\n",
       "      <td>0</td>\n",
       "      <td>249</td>\n",
       "    </tr>\n",
       "  </tbody>\n",
       "</table>\n",
       "</div>"
      ],
      "text/plain": [
       "           cycle      capacity            soh         rul     \n",
       "             min  max      min    max     min     max min  max\n",
       "battery_id                                                    \n",
       "B5             1  220    0.898  1.986  44.913  99.312   0  219\n",
       "B6             1  210    0.942  1.994  47.110  99.685   0  209\n",
       "B7             1  250    0.751  1.991  37.549  99.545   0  249"
      ]
     },
     "execution_count": 8,
     "metadata": {},
     "output_type": "execute_result"
    }
   ],
   "source": [
    "# === Cleaning ===\n",
    "df_clean = df.copy()\n",
    "\n",
    "# Interpolate and fill missing data\n",
    "df_clean[num_cols] = df_clean[num_cols].interpolate(limit_direction=\"both\")\n",
    "df_clean[num_cols] = df_clean[num_cols].fillna(method=\"bfill\").fillna(method=\"ffill\")\n",
    "\n",
    "# Verify per-battery data ranges\n",
    "summary = df_clean.groupby(\"battery_id\").agg({\n",
    "    \"cycle\": [\"min\", \"max\"],\n",
    "    \"capacity\": [\"min\", \"max\"],\n",
    "    \"soh\": [\"min\", \"max\"],\n",
    "    \"rul\": [\"min\", \"max\"]\n",
    "}).round(3)\n",
    "\n",
    "summary\n"
   ]
  },
  {
   "cell_type": "markdown",
   "id": "b2c7fd7a",
   "metadata": {},
   "source": [
    "# SIGNAL SMOOTHING "
   ]
  },
  {
   "cell_type": "code",
   "execution_count": 9,
   "id": "dd2f19f1",
   "metadata": {},
   "outputs": [
    {
     "data": {
      "text/plain": [
       "{'charge_voltage': {'resid_std': 0.04186645901180995,\n",
       "  'derivative_roughness': 0.00016502358598027129},\n",
       " 'discharge_voltage': {'resid_std': 0.26353847947908626,\n",
       "  'derivative_roughness': 0.0064116521485236624},\n",
       " 'charge_temp': {'resid_std': 1.3166496307241928,\n",
       "  'derivative_roughness': 0.16459058134095864},\n",
       " 'discharge_temp': {'resid_std': 1.5956915632270232,\n",
       "  'derivative_roughness': 0.24668977201018358},\n",
       " 'capacity': {'resid_std': 0.004118676748971825,\n",
       "  'derivative_roughness': 0.0033926097284148844}}"
      ]
     },
     "execution_count": 9,
     "metadata": {},
     "output_type": "execute_result"
    }
   ],
   "source": [
    "from scipy.signal import savgol_filter\n",
    "import numpy as np\n",
    "import pandas as pd\n",
    "\n",
    "# Columns to smooth\n",
    "SMOOTH_COLS = [\"charge_voltage\",\"discharge_voltage\",\"charge_temp\",\"discharge_temp\",\"capacity\"]\n",
    "\n",
    "def sg_safe(x, window=11, polyorder=2):\n",
    "    x = np.asarray(x)\n",
    "    n = len(x)\n",
    "    # enforce odd window and >= poly+2\n",
    "    w = max(window, polyorder + 2 if (polyorder + 2) % 2 == 1 else polyorder + 3)\n",
    "    if n < w: \n",
    "        w = max(3, n - (1 - n % 2))  # nearest odd <= n\n",
    "    if w < 3: \n",
    "        return x\n",
    "    try:\n",
    "        return savgol_filter(x, w, polyorder)\n",
    "    except ValueError:\n",
    "        return x\n",
    "\n",
    "def ema_vec(x, span=10):\n",
    "    return pd.Series(x).ewm(span=span, adjust=False).mean().values\n",
    "\n",
    "# --- (Optional) small auto-tuner per-battery+signal ---\n",
    "def choose_sg_window(series, candidates=(7,9,11,13,15)):\n",
    "    x = np.asarray(series)\n",
    "    best_w, best_score = None, np.inf\n",
    "    for w in candidates:\n",
    "        xs = sg_safe(x, window=w, polyorder=2)\n",
    "        resid = x - xs\n",
    "        rough = np.var(np.diff(xs))           # smoother wants lower\n",
    "        fiterr = np.var(resid)                # don’t drift far from data\n",
    "        score = 0.6*rough + 0.4*fiterr        # weight shape more than fit\n",
    "        if score < best_score:\n",
    "            best_w, best_score = w, score\n",
    "    return best_w or 11\n",
    "\n",
    "# Apply smoothing per battery_id to respect trajectories\n",
    "df_smooth = df_clean.copy()\n",
    "for bid, g in df_smooth.groupby(\"battery_id\"):\n",
    "    idx = g.index\n",
    "    # auto-pick one SG window per battery for consistency\n",
    "    ref_window = choose_sg_window(g[\"capacity\"].values) if \"capacity\" in g else 11\n",
    "    for col in SMOOTH_COLS:\n",
    "        if col in g:\n",
    "            df_smooth.loc[idx, f\"{col}_sg\"]  = sg_safe(g[col].values, window=ref_window, polyorder=2)\n",
    "            df_smooth.loc[idx, f\"{col}_ema\"] = ema_vec(g[col].values, span=10)\n",
    "\n",
    "# Replace df_clean with smoothed frame for downstream cells\n",
    "df_clean = df_smooth\n",
    "\n",
    "# Quick quality check metrics (optional display)\n",
    "def smoothing_qc(raw, smooth):\n",
    "    resid = raw - smooth\n",
    "    return {\n",
    "        \"resid_std\": float(np.nanstd(resid)),\n",
    "        \"derivative_roughness\": float(np.nanvar(np.diff(smooth)))\n",
    "    }\n",
    "\n",
    "qc_report = {}\n",
    "for col in SMOOTH_COLS:\n",
    "    if f\"{col}_sg\" in df_clean:\n",
    "        qc_report[col] = smoothing_qc(df_clean[col].values, df_clean[f\"{col}_sg\"].values)\n",
    "qc_report\n"
   ]
  },
  {
   "cell_type": "markdown",
   "id": "74fbc83e",
   "metadata": {},
   "source": [
    "# Feature Eng"
   ]
  },
  {
   "cell_type": "code",
   "execution_count": 11,
   "id": "2970426f",
   "metadata": {},
   "outputs": [
    {
     "data": {
      "text/html": [
       "<div>\n",
       "<style scoped>\n",
       "    .dataframe tbody tr th:only-of-type {\n",
       "        vertical-align: middle;\n",
       "    }\n",
       "\n",
       "    .dataframe tbody tr th {\n",
       "        vertical-align: top;\n",
       "    }\n",
       "\n",
       "    .dataframe thead th {\n",
       "        text-align: right;\n",
       "    }\n",
       "</style>\n",
       "<table border=\"1\" class=\"dataframe\">\n",
       "  <thead>\n",
       "    <tr style=\"text-align: right;\">\n",
       "      <th></th>\n",
       "      <th>battery_id</th>\n",
       "      <th>cycle</th>\n",
       "      <th>capacity</th>\n",
       "      <th>capacity_diff</th>\n",
       "      <th>capacity_trend</th>\n",
       "      <th>discharge_voltage_sg</th>\n",
       "      <th>voltage_trend</th>\n",
       "      <th>discharge_temp_sg</th>\n",
       "      <th>degradation_index</th>\n",
       "    </tr>\n",
       "  </thead>\n",
       "  <tbody>\n",
       "    <tr>\n",
       "      <th>0</th>\n",
       "      <td>B5</td>\n",
       "      <td>1</td>\n",
       "      <td>1.986196</td>\n",
       "      <td>NaN</td>\n",
       "      <td>NaN</td>\n",
       "      <td>3.586320</td>\n",
       "      <td>NaN</td>\n",
       "      <td>32.665136</td>\n",
       "      <td>-0.0</td>\n",
       "    </tr>\n",
       "    <tr>\n",
       "      <th>1</th>\n",
       "      <td>B5</td>\n",
       "      <td>2</td>\n",
       "      <td>1.986240</td>\n",
       "      <td>0.000044</td>\n",
       "      <td>NaN</td>\n",
       "      <td>3.464015</td>\n",
       "      <td>NaN</td>\n",
       "      <td>33.075559</td>\n",
       "      <td>-0.0</td>\n",
       "    </tr>\n",
       "    <tr>\n",
       "      <th>2</th>\n",
       "      <td>B5</td>\n",
       "      <td>3</td>\n",
       "      <td>1.984252</td>\n",
       "      <td>-0.001988</td>\n",
       "      <td>NaN</td>\n",
       "      <td>3.381713</td>\n",
       "      <td>NaN</td>\n",
       "      <td>33.381165</td>\n",
       "      <td>-0.0</td>\n",
       "    </tr>\n",
       "    <tr>\n",
       "      <th>3</th>\n",
       "      <td>B5</td>\n",
       "      <td>4</td>\n",
       "      <td>1.969236</td>\n",
       "      <td>-0.015016</td>\n",
       "      <td>NaN</td>\n",
       "      <td>3.339415</td>\n",
       "      <td>NaN</td>\n",
       "      <td>33.581955</td>\n",
       "      <td>-0.0</td>\n",
       "    </tr>\n",
       "    <tr>\n",
       "      <th>4</th>\n",
       "      <td>B5</td>\n",
       "      <td>5</td>\n",
       "      <td>1.974862</td>\n",
       "      <td>0.005626</td>\n",
       "      <td>NaN</td>\n",
       "      <td>3.337120</td>\n",
       "      <td>NaN</td>\n",
       "      <td>33.677928</td>\n",
       "      <td>-0.0</td>\n",
       "    </tr>\n",
       "    <tr>\n",
       "      <th>5</th>\n",
       "      <td>B5</td>\n",
       "      <td>6</td>\n",
       "      <td>1.976299</td>\n",
       "      <td>0.001437</td>\n",
       "      <td>NaN</td>\n",
       "      <td>3.287637</td>\n",
       "      <td>NaN</td>\n",
       "      <td>33.669363</td>\n",
       "      <td>-0.0</td>\n",
       "    </tr>\n",
       "    <tr>\n",
       "      <th>6</th>\n",
       "      <td>B5</td>\n",
       "      <td>7</td>\n",
       "      <td>1.965698</td>\n",
       "      <td>-0.010601</td>\n",
       "      <td>NaN</td>\n",
       "      <td>3.491188</td>\n",
       "      <td>NaN</td>\n",
       "      <td>33.859205</td>\n",
       "      <td>-0.0</td>\n",
       "    </tr>\n",
       "    <tr>\n",
       "      <th>7</th>\n",
       "      <td>B5</td>\n",
       "      <td>8</td>\n",
       "      <td>1.959159</td>\n",
       "      <td>-0.006538</td>\n",
       "      <td>NaN</td>\n",
       "      <td>3.585124</td>\n",
       "      <td>NaN</td>\n",
       "      <td>33.512047</td>\n",
       "      <td>-0.0</td>\n",
       "    </tr>\n",
       "    <tr>\n",
       "      <th>8</th>\n",
       "      <td>B5</td>\n",
       "      <td>9</td>\n",
       "      <td>1.957507</td>\n",
       "      <td>-0.001652</td>\n",
       "      <td>NaN</td>\n",
       "      <td>3.633970</td>\n",
       "      <td>NaN</td>\n",
       "      <td>32.670649</td>\n",
       "      <td>-0.0</td>\n",
       "    </tr>\n",
       "    <tr>\n",
       "      <th>9</th>\n",
       "      <td>B5</td>\n",
       "      <td>10</td>\n",
       "      <td>1.951182</td>\n",
       "      <td>-0.006325</td>\n",
       "      <td>NaN</td>\n",
       "      <td>3.911256</td>\n",
       "      <td>NaN</td>\n",
       "      <td>32.168098</td>\n",
       "      <td>-0.0</td>\n",
       "    </tr>\n",
       "    <tr>\n",
       "      <th>10</th>\n",
       "      <td>B5</td>\n",
       "      <td>11</td>\n",
       "      <td>1.939811</td>\n",
       "      <td>-0.011371</td>\n",
       "      <td>NaN</td>\n",
       "      <td>3.875570</td>\n",
       "      <td>NaN</td>\n",
       "      <td>31.552122</td>\n",
       "      <td>-0.0</td>\n",
       "    </tr>\n",
       "    <tr>\n",
       "      <th>11</th>\n",
       "      <td>B5</td>\n",
       "      <td>12</td>\n",
       "      <td>1.945833</td>\n",
       "      <td>0.006022</td>\n",
       "      <td>NaN</td>\n",
       "      <td>3.912040</td>\n",
       "      <td>NaN</td>\n",
       "      <td>31.989664</td>\n",
       "      <td>-0.0</td>\n",
       "    </tr>\n",
       "    <tr>\n",
       "      <th>12</th>\n",
       "      <td>B5</td>\n",
       "      <td>13</td>\n",
       "      <td>1.938353</td>\n",
       "      <td>-0.007480</td>\n",
       "      <td>NaN</td>\n",
       "      <td>3.837144</td>\n",
       "      <td>NaN</td>\n",
       "      <td>32.253265</td>\n",
       "      <td>-0.0</td>\n",
       "    </tr>\n",
       "    <tr>\n",
       "      <th>13</th>\n",
       "      <td>B5</td>\n",
       "      <td>14</td>\n",
       "      <td>1.933984</td>\n",
       "      <td>-0.004370</td>\n",
       "      <td>NaN</td>\n",
       "      <td>3.808446</td>\n",
       "      <td>NaN</td>\n",
       "      <td>32.301076</td>\n",
       "      <td>-0.0</td>\n",
       "    </tr>\n",
       "    <tr>\n",
       "      <th>14</th>\n",
       "      <td>B5</td>\n",
       "      <td>15</td>\n",
       "      <td>1.929087</td>\n",
       "      <td>-0.004896</td>\n",
       "      <td>NaN</td>\n",
       "      <td>3.716182</td>\n",
       "      <td>NaN</td>\n",
       "      <td>33.145939</td>\n",
       "      <td>-0.0</td>\n",
       "    </tr>\n",
       "  </tbody>\n",
       "</table>\n",
       "</div>"
      ],
      "text/plain": [
       "   battery_id  cycle  capacity  capacity_diff  capacity_trend  \\\n",
       "0          B5      1  1.986196            NaN             NaN   \n",
       "1          B5      2  1.986240       0.000044             NaN   \n",
       "2          B5      3  1.984252      -0.001988             NaN   \n",
       "3          B5      4  1.969236      -0.015016             NaN   \n",
       "4          B5      5  1.974862       0.005626             NaN   \n",
       "5          B5      6  1.976299       0.001437             NaN   \n",
       "6          B5      7  1.965698      -0.010601             NaN   \n",
       "7          B5      8  1.959159      -0.006538             NaN   \n",
       "8          B5      9  1.957507      -0.001652             NaN   \n",
       "9          B5     10  1.951182      -0.006325             NaN   \n",
       "10         B5     11  1.939811      -0.011371             NaN   \n",
       "11         B5     12  1.945833       0.006022             NaN   \n",
       "12         B5     13  1.938353      -0.007480             NaN   \n",
       "13         B5     14  1.933984      -0.004370             NaN   \n",
       "14         B5     15  1.929087      -0.004896             NaN   \n",
       "\n",
       "    discharge_voltage_sg  voltage_trend  discharge_temp_sg  degradation_index  \n",
       "0               3.586320            NaN          32.665136               -0.0  \n",
       "1               3.464015            NaN          33.075559               -0.0  \n",
       "2               3.381713            NaN          33.381165               -0.0  \n",
       "3               3.339415            NaN          33.581955               -0.0  \n",
       "4               3.337120            NaN          33.677928               -0.0  \n",
       "5               3.287637            NaN          33.669363               -0.0  \n",
       "6               3.491188            NaN          33.859205               -0.0  \n",
       "7               3.585124            NaN          33.512047               -0.0  \n",
       "8               3.633970            NaN          32.670649               -0.0  \n",
       "9               3.911256            NaN          32.168098               -0.0  \n",
       "10              3.875570            NaN          31.552122               -0.0  \n",
       "11              3.912040            NaN          31.989664               -0.0  \n",
       "12              3.837144            NaN          32.253265               -0.0  \n",
       "13              3.808446            NaN          32.301076               -0.0  \n",
       "14              3.716182            NaN          33.145939               -0.0  "
      ]
     },
     "execution_count": 11,
     "metadata": {},
     "output_type": "execute_result"
    }
   ],
   "source": [
    "import numpy as np\n",
    "import pandas as pd\n",
    "from sklearn.linear_model import LinearRegression\n",
    "\n",
    "# ---- Helper: rolling linear regression slope ----\n",
    "def rolling_slope(y, window=20):\n",
    "    \"\"\"\n",
    "    Compute local slope (1st-order trend) over a sliding window.\n",
    "    The result has the same length as y, filled with NaN for the first (window-1) entries.\n",
    "    \"\"\"\n",
    "    y = np.asarray(y)\n",
    "    n = len(y)\n",
    "    out = np.full(n, np.nan)\n",
    "    X = np.arange(n).reshape(-1, 1)\n",
    "    for i in range(window - 1, n):\n",
    "        sl = slice(i - window + 1, i + 1)\n",
    "        reg = LinearRegression().fit(X[sl], y[sl])\n",
    "        out[i] = reg.coef_[0]\n",
    "    return out\n",
    "\n",
    "\n",
    "# ---- Start with your smoothed DataFrame from Cell 5 ----\n",
    "df_feat = df_clean.copy()\n",
    "\n",
    "# Compute Δ capacity and Δ temperature between successive cycles\n",
    "df_feat[\"capacity_diff\"] = df_feat.groupby(\"battery_id\")[\"capacity\"].diff()\n",
    "df_feat[\"discharge_temp_diff\"] = df_feat.groupby(\"battery_id\")[\"discharge_temp_sg\"].diff()\n",
    "df_feat[\"charge_temp_diff\"] = df_feat.groupby(\"battery_id\")[\"charge_temp_sg\"].diff()\n",
    "\n",
    "# ---- Rolling slopes for capacity and voltage trends ----\n",
    "df_feat[\"capacity_trend\"] = (\n",
    "    df_feat.groupby(\"battery_id\")[\"capacity\"].transform(lambda s: rolling_slope(s.values, window=25))\n",
    ")\n",
    "\n",
    "df_feat[\"voltage_trend\"] = (\n",
    "    df_feat.groupby(\"battery_id\")[\"discharge_voltage_sg\"].transform(lambda s: rolling_slope(s.values, window=25))\n",
    ")\n",
    "\n",
    "# ---- Optional: combine temperature and capacity slopes to form a degradation index ----\n",
    "df_feat[\"degradation_index\"] = (\n",
    "    -df_feat[\"capacity_trend\"].fillna(0) * (1 + 0.05 * df_feat[\"discharge_temp_sg\"].fillna(0))\n",
    ")\n",
    "\n",
    "# ---- Quick inspection ----\n",
    "cols_show = [\n",
    "    \"battery_id\", \"cycle\",\n",
    "    \"capacity\", \"capacity_diff\", \"capacity_trend\",\n",
    "    \"discharge_voltage_sg\", \"voltage_trend\",\n",
    "    \"discharge_temp_sg\", \"degradation_index\"\n",
    "]\n",
    "df_feat[cols_show].head(15)\n"
   ]
  },
  {
   "cell_type": "markdown",
   "id": "34fb1042",
   "metadata": {},
   "source": [
    "# Model Training"
   ]
  },
  {
   "cell_type": "code",
   "execution_count": 12,
   "id": "a681f7d2",
   "metadata": {},
   "outputs": [
    {
     "data": {
      "text/html": [
       "<div>\n",
       "<style scoped>\n",
       "    .dataframe tbody tr th:only-of-type {\n",
       "        vertical-align: middle;\n",
       "    }\n",
       "\n",
       "    .dataframe tbody tr th {\n",
       "        vertical-align: top;\n",
       "    }\n",
       "\n",
       "    .dataframe thead th {\n",
       "        text-align: right;\n",
       "    }\n",
       "</style>\n",
       "<table border=\"1\" class=\"dataframe\">\n",
       "  <thead>\n",
       "    <tr style=\"text-align: right;\">\n",
       "      <th></th>\n",
       "      <th>Anomaly_Count</th>\n",
       "      <th>Anomaly_%</th>\n",
       "    </tr>\n",
       "  </thead>\n",
       "  <tbody>\n",
       "    <tr>\n",
       "      <th>anomaly_iso</th>\n",
       "      <td>19</td>\n",
       "      <td>3.12</td>\n",
       "    </tr>\n",
       "    <tr>\n",
       "      <th>anomaly_lof</th>\n",
       "      <td>19</td>\n",
       "      <td>3.12</td>\n",
       "    </tr>\n",
       "    <tr>\n",
       "      <th>anomaly_svm</th>\n",
       "      <td>18</td>\n",
       "      <td>2.96</td>\n",
       "    </tr>\n",
       "    <tr>\n",
       "      <th>anomaly_ee</th>\n",
       "      <td>19</td>\n",
       "      <td>3.12</td>\n",
       "    </tr>\n",
       "  </tbody>\n",
       "</table>\n",
       "</div>"
      ],
      "text/plain": [
       "             Anomaly_Count  Anomaly_%\n",
       "anomaly_iso             19       3.12\n",
       "anomaly_lof             19       3.12\n",
       "anomaly_svm             18       2.96\n",
       "anomaly_ee              19       3.12"
      ]
     },
     "metadata": {},
     "output_type": "display_data"
    },
    {
     "name": "stdout",
     "output_type": "stream",
     "text": [
      "✅ All model outputs saved to Data/results/\n"
     ]
    }
   ],
   "source": [
    "# === Cell 7: Multi-Model Anomaly Detection ===\n",
    "import numpy as np\n",
    "import pandas as pd\n",
    "import matplotlib.pyplot as plt\n",
    "import plotly.express as px\n",
    "from sklearn.ensemble import IsolationForest\n",
    "from sklearn.neighbors import LocalOutlierFactor\n",
    "from sklearn.svm import OneClassSVM\n",
    "from sklearn.covariance import EllipticEnvelope\n",
    "\n",
    "# Features to analyze\n",
    "FEATURES = [\n",
    "    \"capacity\", \"capacity_diff\", \"capacity_trend\",\n",
    "    \"voltage_trend\", \"discharge_temp_sg\", \"degradation_index\"\n",
    "]\n",
    "\n",
    "# Keep clean subset and drop NaN rows\n",
    "df_model = df_feat[FEATURES + [\"battery_id\", \"cycle\"]].dropna().copy()\n",
    "\n",
    "X = df_model[FEATURES].values\n",
    "\n",
    "# --- Model 1: Isolation Forest ---\n",
    "iso = IsolationForest(n_estimators=200, contamination=0.03, random_state=42)\n",
    "iso_pred = iso.fit_predict(X)\n",
    "df_model[\"anomaly_iso\"] = (iso_pred == -1).astype(int)\n",
    "df_model[\"score_iso\"] = iso.decision_function(X)\n",
    "\n",
    "# --- Model 2: Local Outlier Factor ---\n",
    "lof = LocalOutlierFactor(n_neighbors=20, contamination=0.03)\n",
    "lof_pred = lof.fit_predict(X)\n",
    "df_model[\"anomaly_lof\"] = (lof_pred == -1).astype(int)\n",
    "df_model[\"score_lof\"] = lof.negative_outlier_factor_\n",
    "\n",
    "# --- Model 3: One-Class SVM ---\n",
    "ocsvm = OneClassSVM(kernel=\"rbf\", gamma=0.1, nu=0.03)\n",
    "svm_pred = ocsvm.fit_predict(X)\n",
    "df_model[\"anomaly_svm\"] = (svm_pred == -1).astype(int)\n",
    "df_model[\"score_svm\"] = ocsvm.decision_function(X)\n",
    "\n",
    "# --- Model 4: Elliptic Envelope ---\n",
    "ee = EllipticEnvelope(contamination=0.03, random_state=42)\n",
    "ee_pred = ee.fit_predict(X)\n",
    "df_model[\"anomaly_ee\"] = (ee_pred == -1).astype(int)\n",
    "df_model[\"score_ee\"] = ee.decision_function(X)\n",
    "\n",
    "# --- Summary comparison table ---\n",
    "summary = (\n",
    "    df_model[[\"anomaly_iso\",\"anomaly_lof\",\"anomaly_svm\",\"anomaly_ee\"]]\n",
    "    .sum()\n",
    "    .rename(\"Anomaly_Count\")\n",
    "    .to_frame()\n",
    ")\n",
    "summary[\"Anomaly_%\"] = 100*summary[\"Anomaly_Count\"]/len(df_model)\n",
    "display(summary.round(2))\n",
    "\n",
    "# Save results\n",
    "res_dir = Path(\"../Data/results\")\n",
    "res_dir.mkdir(parents=True, exist_ok=True)\n",
    "df_model.to_csv(res_dir/\"anomaly_comparison_all_models.csv\", index=False)\n",
    "print(\"✅ All model outputs saved to Data/results/\")\n"
   ]
  },
  {
   "cell_type": "code",
   "execution_count": 13,
   "id": "252e92ec",
   "metadata": {},
   "outputs": [
    {
     "data": {
      "application/vnd.plotly.v1+json": {
       "config": {
        "plotlyServerURL": "https://plot.ly"
       },
       "data": [
        {
         "hovertemplate": "color=Normal<br>symbol=circle<br>cycle=%{x}<br>capacity=%{y}<extra></extra>",
         "legendgroup": "Normal, circle",
         "marker": {
          "color": "#00CC96",
          "opacity": 0.8,
          "size": 6,
          "symbol": "circle"
         },
         "mode": "markers",
         "name": "Normal, circle",
         "orientation": "v",
         "showlegend": true,
         "type": "scatter",
         "x": [
          25,
          26,
          27,
          28,
          29,
          30,
          31,
          32,
          33,
          34,
          35,
          36,
          37,
          38,
          39,
          40,
          41,
          42,
          43,
          44,
          45,
          46,
          49,
          50,
          51,
          52,
          53,
          54,
          55,
          56,
          57,
          58,
          59,
          60,
          61,
          62,
          63,
          64,
          65,
          66,
          67,
          68,
          69,
          70,
          72,
          73,
          74,
          75,
          76,
          77,
          78,
          79,
          80,
          81,
          82,
          83,
          84,
          85,
          86,
          87,
          88,
          89,
          90,
          91,
          92,
          93,
          94,
          95,
          96,
          97,
          98,
          99,
          100,
          101,
          102,
          103,
          104,
          105,
          106,
          107,
          108,
          109,
          110,
          111,
          112,
          113,
          114,
          115,
          116,
          117,
          118,
          119,
          120,
          121,
          122,
          123,
          124,
          125,
          126,
          127,
          128,
          129,
          130,
          131,
          132,
          133,
          134,
          135,
          137,
          138,
          140,
          141,
          142,
          143,
          144,
          145,
          146,
          147,
          148,
          150,
          151,
          152,
          153,
          154,
          155,
          156,
          157,
          158,
          159,
          160,
          161,
          162,
          163,
          164,
          165,
          166,
          167,
          168,
          169,
          170,
          171,
          172,
          173,
          174,
          175,
          176,
          177,
          178,
          179,
          180,
          181,
          182,
          183,
          184,
          185,
          186,
          187,
          188,
          189,
          190,
          191,
          192,
          193,
          194,
          195,
          196,
          197,
          198,
          199,
          200,
          201,
          202,
          203,
          204,
          205,
          206,
          207,
          208,
          209,
          210,
          212,
          213,
          214,
          215,
          216,
          217,
          218,
          219,
          220,
          25,
          26,
          27,
          28,
          29,
          30,
          31,
          32,
          33,
          34,
          35,
          36,
          37,
          38,
          39,
          40,
          41,
          42,
          43,
          44,
          45,
          50,
          51,
          52,
          53,
          54,
          55,
          56,
          57,
          58,
          59,
          60,
          63,
          64,
          65,
          66,
          67,
          68,
          69,
          70,
          71,
          72,
          73,
          74,
          75,
          76,
          77,
          78,
          79,
          80,
          81,
          82,
          83,
          84,
          85,
          86,
          87,
          88,
          89,
          90,
          91,
          92,
          93,
          94,
          95,
          96,
          97,
          98,
          99,
          100,
          101,
          102,
          103,
          104,
          105,
          106,
          107,
          108,
          109,
          110,
          111,
          112,
          113,
          114,
          115,
          116,
          117,
          118,
          119,
          120,
          121,
          122,
          123,
          124,
          125,
          126,
          127,
          128,
          129,
          130,
          131,
          132,
          133,
          134,
          135,
          136,
          137,
          138,
          139,
          140,
          141,
          142,
          143,
          144,
          145,
          146,
          147,
          148,
          149,
          150,
          151,
          152,
          153,
          154,
          155,
          156,
          157,
          158,
          159,
          160,
          161,
          162,
          163,
          164,
          165,
          166,
          167,
          168,
          169,
          170,
          171,
          172,
          173,
          174,
          175,
          176,
          177,
          178,
          179,
          180,
          181,
          182,
          183,
          184,
          185,
          186,
          187,
          188,
          189,
          190,
          191,
          192,
          193,
          194,
          195,
          196,
          197,
          198,
          199,
          200,
          201,
          202,
          203,
          204,
          205,
          206,
          207,
          208,
          209,
          210,
          25,
          26,
          27,
          28,
          29,
          30,
          31,
          32,
          33,
          34,
          35,
          36,
          37,
          38,
          39,
          40,
          41,
          42,
          43,
          44,
          45,
          46,
          47,
          48,
          49,
          50,
          51,
          52,
          54,
          55,
          56,
          57,
          58,
          59,
          60,
          61,
          62,
          63,
          64,
          65,
          66,
          67,
          68,
          69,
          70,
          71,
          72,
          73,
          74,
          75,
          76,
          77,
          78,
          79,
          80,
          81,
          82,
          83,
          84,
          85,
          86,
          87,
          88,
          89,
          90,
          91,
          92,
          93,
          94,
          95,
          96,
          97,
          98,
          99,
          100,
          101,
          102,
          103,
          104,
          105,
          106,
          110,
          111,
          112,
          113,
          114,
          115,
          116,
          117,
          118,
          119,
          120,
          121,
          122,
          123,
          124,
          125,
          126,
          127,
          128,
          129,
          130,
          131,
          132,
          133,
          134,
          135,
          136,
          137,
          138,
          139,
          140,
          141,
          142,
          143,
          144,
          145,
          146,
          147,
          148,
          149,
          150,
          151,
          152,
          153,
          154,
          155,
          156,
          157,
          158,
          159,
          160,
          161,
          162,
          163,
          164,
          165,
          166,
          167,
          168,
          169,
          170,
          171,
          172,
          173,
          174,
          175,
          176,
          177,
          178,
          179,
          180,
          181,
          182,
          183,
          184,
          185,
          186,
          187,
          188,
          189,
          190,
          191,
          192,
          193,
          194,
          195,
          196,
          197,
          198,
          199,
          200,
          201,
          202,
          203,
          204,
          205,
          206,
          207,
          208,
          209,
          210,
          213,
          214,
          215,
          216,
          217,
          218,
          219,
          220,
          221,
          222,
          223,
          224,
          225,
          226,
          227,
          228,
          229,
          230,
          231,
          232,
          233,
          234,
          235,
          236,
          237,
          238,
          239,
          240,
          241,
          242,
          243,
          244,
          245,
          246,
          247,
          248,
          249,
          250
         ],
         "xaxis": "x",
         "y": [
          1.8783020419890513,
          1.8690386029237387,
          1.8712057465115557,
          1.860995593267933,
          1.85652647603498,
          1.8577588742918512,
          1.8399530815449032,
          1.844025621373125,
          1.833854949902544,
          1.8276520153865292,
          1.8243416628581433,
          1.8250231760379776,
          1.8110581701692603,
          1.8104985564797615,
          1.8097314516266576,
          1.798558349005696,
          1.7920944651211794,
          1.786120080632509,
          1.7749905242263415,
          1.7743753925214114,
          1.7652167595004378,
          1.764737524685241,
          1.759995713743414,
          1.7480940593532488,
          1.73982431439465,
          1.7371851833232514,
          1.7299871468656065,
          1.7323238580694529,
          1.7209341618662128,
          1.713891905858941,
          1.713899184581786,
          1.703854363938203,
          1.700981609423062,
          1.70950799300196,
          1.691824434592704,
          1.696293715042448,
          1.6829179887676688,
          1.6720803887244702,
          1.6738074060244772,
          1.671659330883717,
          1.666378096159242,
          1.6643182665578933,
          1.6559072982464025,
          1.6441951700494508,
          1.6416763215832957,
          1.637427452798397,
          1.6336620945529312,
          1.6285920688676307,
          1.6190703940748394,
          1.618851425049173,
          1.620955730711498,
          1.6064911943067326,
          1.5997733729495642,
          1.5984154209669446,
          1.5947425111620623,
          1.5903042497145692,
          1.5780228710530555,
          1.5739984913377778,
          1.571679578390346,
          1.5689657060311557,
          1.5620420096379293,
          1.559397172374145,
          1.5498633139885336,
          1.544385812604455,
          1.5402955691220284,
          1.5370306562508038,
          1.523527779287409,
          1.52282406787441,
          1.521711559098804,
          1.5141353251726375,
          1.5091173539254787,
          1.5076881509064308,
          1.5001683079604744,
          1.5033396334825486,
          1.4949819341254744,
          1.4877968536673951,
          1.4712834148089948,
          1.474052971743023,
          1.472688416608939,
          1.4579964072127864,
          1.462155303099654,
          1.4506154941958582,
          1.4462356747677252,
          1.4497039388691506,
          1.4299294287875823,
          1.441146258149521,
          1.4312065207106124,
          1.420907423789488,
          1.4218562146919662,
          1.419790982958564,
          1.4091091550903836,
          1.4011824170411182,
          1.404154345809635,
          1.390227433913874,
          1.389866334080364,
          1.3791159628040883,
          1.37816985910965,
          1.3765651018596998,
          1.3683996037066437,
          1.3605749678751686,
          1.3599104252836438,
          1.3509332962763931,
          1.3556794701646135,
          1.3540205708973445,
          1.341762460770013,
          1.3391975132314309,
          1.328898961395504,
          1.3320122269204886,
          1.312108800693079,
          1.304413427341349,
          1.2988478422597274,
          1.30254101736836,
          1.2870365986190366,
          1.285848291359001,
          1.2883588376764097,
          1.2783413021411505,
          1.2654316566259234,
          1.262438000782824,
          1.248388443840062,
          1.2579681708384602,
          1.24178686910991,
          1.2476111633090028,
          1.232946491720674,
          1.2309484898446303,
          1.230397968555791,
          1.2206974724809825,
          1.210307712712401,
          1.2066209074172625,
          1.2057237218343233,
          1.2011707083939114,
          1.1919067298058663,
          1.190676398851544,
          1.1859493502680734,
          1.1860911178349478,
          1.1691864208876823,
          1.1660408873524628,
          1.1641789279159291,
          1.156900321368686,
          1.1598368128632297,
          1.1419416882466935,
          1.1510513918710932,
          1.134170482973417,
          1.1325993613947416,
          1.1331590633812725,
          1.1166007046053734,
          1.1262063460801517,
          1.1159587710799874,
          1.1077723041013623,
          1.1075336381818566,
          1.1005891332447766,
          1.0925908994500562,
          1.087456685388673,
          1.0875799613219803,
          1.0758400758042836,
          1.072454615749279,
          1.0763539913811355,
          1.0716852276453803,
          1.0635129706965876,
          1.0597700685575966,
          1.048986955099116,
          1.036396529538486,
          1.041632610487517,
          1.0360377963288778,
          1.0326681133434323,
          1.027892379852147,
          1.0204149335437391,
          1.0177385508377048,
          1.0155830626281963,
          1.0116661798948683,
          1.011095970520563,
          0.9971310081993704,
          0.9918103489841744,
          0.9784282230745284,
          0.9792796273668368,
          0.967829715232912,
          0.9682160047944872,
          0.9630708601027888,
          0.9551021798209324,
          0.954664234779361,
          0.9559518766643176,
          0.9460037553446822,
          0.93158499272178,
          0.93509924751778,
          0.925349701238104,
          0.9198850663894408,
          0.9071845451514998,
          0.912027381081192,
          0.910944242606161,
          0.8982616468068921,
          1.8682602703345608,
          1.8696214760160657,
          1.8594545071702857,
          1.8558803252594145,
          1.8478276061917276,
          1.8461524333396433,
          1.849859784385165,
          1.8446616335056265,
          1.8286107262049611,
          1.830185447127808,
          1.81858856947958,
          1.821936018539325,
          1.8218436461281988,
          1.8188572335528763,
          1.809428632444584,
          1.7998709923891525,
          1.794018795735292,
          1.7897809308243464,
          1.787339091992021,
          1.7775220917753067,
          1.777636158476828,
          1.7470587541789484,
          1.7504138860150271,
          1.7363030479479875,
          1.7322996730867457,
          1.734783962780972,
          1.7220229822289987,
          1.721311068229144,
          1.7166447901731363,
          1.704413891474968,
          1.7043983746458604,
          1.7026685815692182,
          1.6826523292618762,
          1.6920665459324349,
          1.6800098087315205,
          1.6716649766187153,
          1.6643344994631846,
          1.6583530511961029,
          1.653933621774757,
          1.658728727974904,
          1.645794240148629,
          1.647784881653437,
          1.6334920010541407,
          1.6318227081832548,
          1.6338869310617368,
          1.6226679595853688,
          1.6125537343484802,
          1.6134475394923522,
          1.6037648881122113,
          1.5981491970913244,
          1.5958048116962749,
          1.591833071521248,
          1.582940244451192,
          1.582638728888567,
          1.5789535227518106,
          1.565444291021072,
          1.5619209491132704,
          1.5538701404742656,
          1.5598435036686684,
          1.552316484549933,
          1.5400353993162703,
          1.543264027350597,
          1.530011351291587,
          1.5347260407041552,
          1.519869538006151,
          1.5319183977671529,
          1.518325893437371,
          1.5111605447467764,
          1.5070765126856986,
          1.5045283202537496,
          1.494853060893935,
          1.485945140543233,
          1.4862128632667857,
          1.4797449733887331,
          1.4697368952033345,
          1.4658001433120569,
          1.47240975449043,
          1.46770721756399,
          1.4563227664707856,
          1.439642610680267,
          1.4564163490402506,
          1.4356319223009322,
          1.4321881810477588,
          1.4273689333241817,
          1.428896799076735,
          1.419710985866033,
          1.4096515518839028,
          1.41575001070564,
          1.3989715623048742,
          1.398155103098213,
          1.398692962571824,
          1.3893191971423122,
          1.3889558088336358,
          1.3714511878626312,
          1.3760667107136326,
          1.3739363182204702,
          1.3703740309889212,
          1.3650556335660002,
          1.3510749148348302,
          1.3515899480684384,
          1.342840465764784,
          1.3415461554709047,
          1.3362878352617371,
          1.3381014616784892,
          1.323708811244544,
          1.325642023699261,
          1.3225418787333645,
          1.31647463555362,
          1.3033931137174728,
          1.2927112270903618,
          1.2993476403044997,
          1.2932121203288605,
          1.283225135446575,
          1.27794783261294,
          1.273851071759564,
          1.2725635930293389,
          1.2539073780666588,
          1.2648887804118405,
          1.256722319408052,
          1.2528465532628377,
          1.2482728388121576,
          1.24803296106419,
          1.2279985579572708,
          1.22494928818536,
          1.230636019396659,
          1.2154246550519785,
          1.2139106285100936,
          1.2068010006054275,
          1.2013116828360084,
          1.1916174147216798,
          1.1994798407171028,
          1.1881908996748958,
          1.1867854834221272,
          1.180030226495947,
          1.1693012025917189,
          1.1730940024318133,
          1.1765772672513768,
          1.1545055676608569,
          1.1611852079874214,
          1.1462214343525643,
          1.1443326294183584,
          1.1415208462361093,
          1.1348569192397953,
          1.1290668251595857,
          1.1292233456324128,
          1.1171388133571434,
          1.1143013651733022,
          1.1061723786680957,
          1.1088577789920502,
          1.1035742572961402,
          1.0926257182382857,
          1.0953768107810185,
          1.084648772838101,
          1.0795034388762872,
          1.0765031219167875,
          1.0647592415968825,
          1.0634756822467868,
          1.0611424014182478,
          1.0552707164550077,
          1.0476976417039694,
          1.0463496746703902,
          1.0313296319858247,
          1.0361646177036912,
          1.0270428121751718,
          1.0271985254571856,
          1.0257902285251004,
          1.0153933771088912,
          1.0095147548654235,
          1.003607593444711,
          0.9917620771754024,
          0.999689148737084,
          0.9882602458548786,
          0.9961810937569536,
          0.988228813650097,
          0.969674176988908,
          0.9671609967619784,
          0.961438751942512,
          0.9585382233165056,
          0.9561198293151252,
          0.942195033773607,
          1.8715601460868816,
          1.8716170176185916,
          1.867922583679949,
          1.8526572577770293,
          1.8530106491376883,
          1.8544258607566055,
          1.8522428177432648,
          1.84243370438938,
          1.8396087574011235,
          1.8274387131101424,
          1.8232805507249257,
          1.8200725867112115,
          1.8237568523832015,
          1.8167774828083447,
          1.804744858027464,
          1.8006339889671796,
          1.7960142906345569,
          1.789703588930808,
          1.7846694190205836,
          1.7728950129603172,
          1.7644177989572665,
          1.772213059773229,
          1.7733025175484969,
          1.763613076498732,
          1.757483422020997,
          1.73908433989408,
          1.7444468907840505,
          1.7228305715876715,
          1.728295230828977,
          1.7232963105506989,
          1.7217064842396634,
          1.7154862432357925,
          1.7121019791767746,
          1.6973421963409154,
          1.7093281093174617,
          1.695820911715664,
          1.6828028611367845,
          1.6799078513534793,
          1.6800360134943209,
          1.675612502917802,
          1.6697825725525686,
          1.6678152191160338,
          1.655072921176333,
          1.655921246402743,
          1.64045695998008,
          1.6429965115886953,
          1.6344794720372855,
          1.6303267570816755,
          1.6365772348517371,
          1.6302112417426426,
          1.629279461983458,
          1.6110655044323283,
          1.6043267013634992,
          1.601596144233382,
          1.6021013186845128,
          1.594659159482358,
          1.5965129266167568,
          1.591159205244597,
          1.5805008679519796,
          1.570760037157003,
          1.5698661590535568,
          1.566081045127136,
          1.5530051387442572,
          1.5527720232588282,
          1.5486247079453854,
          1.5439372195142478,
          1.5417065146714335,
          1.527873698920378,
          1.5365770325858403,
          1.5334224344941647,
          1.5257637768159094,
          1.5140453508136804,
          1.5129399583527237,
          1.509972079724289,
          1.5039274785612198,
          1.5003850203588476,
          1.5011731119467793,
          1.4896118862339096,
          1.485136380303075,
          1.4744990239029243,
          1.4701389148201736,
          1.4554045028828586,
          1.4508940665443557,
          1.4345839215717624,
          1.443621600845329,
          1.423997317992872,
          1.426916421970842,
          1.4285765378917223,
          1.4127725228924457,
          1.4103731138900586,
          1.4131184259601468,
          1.4013475580141423,
          1.3985721895960668,
          1.3873084860859526,
          1.3831048471159433,
          1.3861464526903733,
          1.379759764146688,
          1.3707221964149612,
          1.361527219968743,
          1.358048700520472,
          1.3481702600663916,
          1.354811896680456,
          1.337320305311622,
          1.3395844378693724,
          1.3280013221035007,
          1.3310182214176167,
          1.326747250212715,
          1.3234789124471362,
          1.3144299368438823,
          1.3197573214150244,
          1.3012684067734903,
          1.3019713505130774,
          1.305932923506864,
          1.2909579959880515,
          1.2899822749294478,
          1.2794058865485782,
          1.2715733023959834,
          1.2622384936806277,
          1.2688119170502887,
          1.2661929596539263,
          1.2548423995017683,
          1.2525238523245064,
          1.245306945838102,
          1.2434081320870354,
          1.2323402996571544,
          1.2275293779373049,
          1.22838506158524,
          1.2177609987200289,
          1.2168650961782308,
          1.203278747097785,
          1.2063649361081377,
          1.192549469678813,
          1.1907364573278478,
          1.196180791365461,
          1.1839058441655474,
          1.1759996541733273,
          1.178102373560523,
          1.165130004825801,
          1.1646786480006748,
          1.1609450895241824,
          1.1492858009591984,
          1.1463454725281828,
          1.1476519334785256,
          1.1445030586986689,
          1.1367067684770795,
          1.1299208193761563,
          1.124134345821718,
          1.1168736753599025,
          1.113577940423101,
          1.1126407787361094,
          1.102666628600098,
          1.106620376134432,
          1.0956222313721882,
          1.0816208657112143,
          1.086878122790527,
          1.0798409926947596,
          1.079639012932907,
          1.0691318673968468,
          1.0669275510128606,
          1.0630940890929983,
          1.0575195059175426,
          1.03981204741553,
          1.0435458012147234,
          1.0369047463279355,
          1.0319970804322054,
          1.03244813430152,
          1.0272552971658349,
          1.0105977383055305,
          1.0110477299244964,
          1.0035119414026996,
          0.993985008685106,
          1.0023853085281496,
          0.9955170600112594,
          0.9806520757949052,
          0.9753924430197952,
          0.9853533741998204,
          0.9742682601602264,
          0.9675845860946972,
          0.966221922661204,
          0.9600971142287744,
          0.9510004670911826,
          0.9554725775654256,
          0.929613922162543,
          0.926767291601442,
          0.9196437104964252,
          0.9236773573358448,
          0.9117460712543288,
          0.9022231446510104,
          0.9011917015079308,
          0.9066092454032126,
          0.8882719736298594,
          0.8964964044529493,
          0.8827834642529623,
          0.887045711926017,
          0.8722857889203456,
          0.8727623795760296,
          0.8659205263711655,
          0.853348348386368,
          0.8527145087572895,
          0.8498830027687198,
          0.8515271870515478,
          0.8401515056838506,
          0.8342625989266192,
          0.8206996733269041,
          0.8261674153040264,
          0.816360054320221,
          0.8150269217787709,
          0.8105048584178132,
          0.8083386692645638,
          0.8051844719386201,
          0.7922634902642576,
          0.7961012995992677,
          0.7881373639368348,
          0.7808477588275857,
          0.7783086700559771,
          0.7619704404853822,
          0.7659027650271983,
          0.7620101161060815,
          0.7574438607619847,
          0.7509718644896284
         ],
         "yaxis": "y"
        },
        {
         "hovertemplate": "color=Anomaly<br>symbol=x<br>cycle=%{x}<br>capacity=%{y}<extra></extra>",
         "legendgroup": "Anomaly, x",
         "marker": {
          "color": "#EF553B",
          "opacity": 0.8,
          "size": 6,
          "symbol": "diamond"
         },
         "mode": "markers",
         "name": "Anomaly, x",
         "orientation": "v",
         "showlegend": true,
         "type": "scatter",
         "x": [
          47,
          48,
          71,
          136,
          139,
          149,
          211,
          46,
          47,
          48,
          49,
          61,
          62,
          53,
          107,
          108,
          109,
          211,
          212
         ],
         "xaxis": "x",
         "y": [
          1.7643911298664483,
          1.769523036509107,
          1.6381897366709262,
          1.3223353171902046,
          1.3200310955375127,
          1.2605094049734695,
          0.9348537643436626,
          1.7769007840769329,
          1.7718279054610075,
          1.7622756700501552,
          1.754711197314859,
          1.682214688407616,
          1.6905138406165063,
          1.735892068777228,
          1.4609714688276614,
          1.4577230184670358,
          1.462628522790249,
          0.9293253932736378,
          0.9477026569925454
         ],
         "yaxis": "y"
        }
       ],
       "layout": {
        "legend": {
         "title": {
          "text": "color, symbol"
         },
         "tracegroupgap": 0
        },
        "template": {
         "data": {
          "bar": [
           {
            "error_x": {
             "color": "#2a3f5f"
            },
            "error_y": {
             "color": "#2a3f5f"
            },
            "marker": {
             "line": {
              "color": "#E5ECF6",
              "width": 0.5
             },
             "pattern": {
              "fillmode": "overlay",
              "size": 10,
              "solidity": 0.2
             }
            },
            "type": "bar"
           }
          ],
          "barpolar": [
           {
            "marker": {
             "line": {
              "color": "#E5ECF6",
              "width": 0.5
             },
             "pattern": {
              "fillmode": "overlay",
              "size": 10,
              "solidity": 0.2
             }
            },
            "type": "barpolar"
           }
          ],
          "carpet": [
           {
            "aaxis": {
             "endlinecolor": "#2a3f5f",
             "gridcolor": "white",
             "linecolor": "white",
             "minorgridcolor": "white",
             "startlinecolor": "#2a3f5f"
            },
            "baxis": {
             "endlinecolor": "#2a3f5f",
             "gridcolor": "white",
             "linecolor": "white",
             "minorgridcolor": "white",
             "startlinecolor": "#2a3f5f"
            },
            "type": "carpet"
           }
          ],
          "choropleth": [
           {
            "colorbar": {
             "outlinewidth": 0,
             "ticks": ""
            },
            "type": "choropleth"
           }
          ],
          "contour": [
           {
            "colorbar": {
             "outlinewidth": 0,
             "ticks": ""
            },
            "colorscale": [
             [
              0,
              "#0d0887"
             ],
             [
              0.1111111111111111,
              "#46039f"
             ],
             [
              0.2222222222222222,
              "#7201a8"
             ],
             [
              0.3333333333333333,
              "#9c179e"
             ],
             [
              0.4444444444444444,
              "#bd3786"
             ],
             [
              0.5555555555555556,
              "#d8576b"
             ],
             [
              0.6666666666666666,
              "#ed7953"
             ],
             [
              0.7777777777777778,
              "#fb9f3a"
             ],
             [
              0.8888888888888888,
              "#fdca26"
             ],
             [
              1,
              "#f0f921"
             ]
            ],
            "type": "contour"
           }
          ],
          "contourcarpet": [
           {
            "colorbar": {
             "outlinewidth": 0,
             "ticks": ""
            },
            "type": "contourcarpet"
           }
          ],
          "heatmap": [
           {
            "colorbar": {
             "outlinewidth": 0,
             "ticks": ""
            },
            "colorscale": [
             [
              0,
              "#0d0887"
             ],
             [
              0.1111111111111111,
              "#46039f"
             ],
             [
              0.2222222222222222,
              "#7201a8"
             ],
             [
              0.3333333333333333,
              "#9c179e"
             ],
             [
              0.4444444444444444,
              "#bd3786"
             ],
             [
              0.5555555555555556,
              "#d8576b"
             ],
             [
              0.6666666666666666,
              "#ed7953"
             ],
             [
              0.7777777777777778,
              "#fb9f3a"
             ],
             [
              0.8888888888888888,
              "#fdca26"
             ],
             [
              1,
              "#f0f921"
             ]
            ],
            "type": "heatmap"
           }
          ],
          "heatmapgl": [
           {
            "colorbar": {
             "outlinewidth": 0,
             "ticks": ""
            },
            "colorscale": [
             [
              0,
              "#0d0887"
             ],
             [
              0.1111111111111111,
              "#46039f"
             ],
             [
              0.2222222222222222,
              "#7201a8"
             ],
             [
              0.3333333333333333,
              "#9c179e"
             ],
             [
              0.4444444444444444,
              "#bd3786"
             ],
             [
              0.5555555555555556,
              "#d8576b"
             ],
             [
              0.6666666666666666,
              "#ed7953"
             ],
             [
              0.7777777777777778,
              "#fb9f3a"
             ],
             [
              0.8888888888888888,
              "#fdca26"
             ],
             [
              1,
              "#f0f921"
             ]
            ],
            "type": "heatmapgl"
           }
          ],
          "histogram": [
           {
            "marker": {
             "pattern": {
              "fillmode": "overlay",
              "size": 10,
              "solidity": 0.2
             }
            },
            "type": "histogram"
           }
          ],
          "histogram2d": [
           {
            "colorbar": {
             "outlinewidth": 0,
             "ticks": ""
            },
            "colorscale": [
             [
              0,
              "#0d0887"
             ],
             [
              0.1111111111111111,
              "#46039f"
             ],
             [
              0.2222222222222222,
              "#7201a8"
             ],
             [
              0.3333333333333333,
              "#9c179e"
             ],
             [
              0.4444444444444444,
              "#bd3786"
             ],
             [
              0.5555555555555556,
              "#d8576b"
             ],
             [
              0.6666666666666666,
              "#ed7953"
             ],
             [
              0.7777777777777778,
              "#fb9f3a"
             ],
             [
              0.8888888888888888,
              "#fdca26"
             ],
             [
              1,
              "#f0f921"
             ]
            ],
            "type": "histogram2d"
           }
          ],
          "histogram2dcontour": [
           {
            "colorbar": {
             "outlinewidth": 0,
             "ticks": ""
            },
            "colorscale": [
             [
              0,
              "#0d0887"
             ],
             [
              0.1111111111111111,
              "#46039f"
             ],
             [
              0.2222222222222222,
              "#7201a8"
             ],
             [
              0.3333333333333333,
              "#9c179e"
             ],
             [
              0.4444444444444444,
              "#bd3786"
             ],
             [
              0.5555555555555556,
              "#d8576b"
             ],
             [
              0.6666666666666666,
              "#ed7953"
             ],
             [
              0.7777777777777778,
              "#fb9f3a"
             ],
             [
              0.8888888888888888,
              "#fdca26"
             ],
             [
              1,
              "#f0f921"
             ]
            ],
            "type": "histogram2dcontour"
           }
          ],
          "mesh3d": [
           {
            "colorbar": {
             "outlinewidth": 0,
             "ticks": ""
            },
            "type": "mesh3d"
           }
          ],
          "parcoords": [
           {
            "line": {
             "colorbar": {
              "outlinewidth": 0,
              "ticks": ""
             }
            },
            "type": "parcoords"
           }
          ],
          "pie": [
           {
            "automargin": true,
            "type": "pie"
           }
          ],
          "scatter": [
           {
            "fillpattern": {
             "fillmode": "overlay",
             "size": 10,
             "solidity": 0.2
            },
            "type": "scatter"
           }
          ],
          "scatter3d": [
           {
            "line": {
             "colorbar": {
              "outlinewidth": 0,
              "ticks": ""
             }
            },
            "marker": {
             "colorbar": {
              "outlinewidth": 0,
              "ticks": ""
             }
            },
            "type": "scatter3d"
           }
          ],
          "scattercarpet": [
           {
            "marker": {
             "colorbar": {
              "outlinewidth": 0,
              "ticks": ""
             }
            },
            "type": "scattercarpet"
           }
          ],
          "scattergeo": [
           {
            "marker": {
             "colorbar": {
              "outlinewidth": 0,
              "ticks": ""
             }
            },
            "type": "scattergeo"
           }
          ],
          "scattergl": [
           {
            "marker": {
             "colorbar": {
              "outlinewidth": 0,
              "ticks": ""
             }
            },
            "type": "scattergl"
           }
          ],
          "scattermapbox": [
           {
            "marker": {
             "colorbar": {
              "outlinewidth": 0,
              "ticks": ""
             }
            },
            "type": "scattermapbox"
           }
          ],
          "scatterpolar": [
           {
            "marker": {
             "colorbar": {
              "outlinewidth": 0,
              "ticks": ""
             }
            },
            "type": "scatterpolar"
           }
          ],
          "scatterpolargl": [
           {
            "marker": {
             "colorbar": {
              "outlinewidth": 0,
              "ticks": ""
             }
            },
            "type": "scatterpolargl"
           }
          ],
          "scatterternary": [
           {
            "marker": {
             "colorbar": {
              "outlinewidth": 0,
              "ticks": ""
             }
            },
            "type": "scatterternary"
           }
          ],
          "surface": [
           {
            "colorbar": {
             "outlinewidth": 0,
             "ticks": ""
            },
            "colorscale": [
             [
              0,
              "#0d0887"
             ],
             [
              0.1111111111111111,
              "#46039f"
             ],
             [
              0.2222222222222222,
              "#7201a8"
             ],
             [
              0.3333333333333333,
              "#9c179e"
             ],
             [
              0.4444444444444444,
              "#bd3786"
             ],
             [
              0.5555555555555556,
              "#d8576b"
             ],
             [
              0.6666666666666666,
              "#ed7953"
             ],
             [
              0.7777777777777778,
              "#fb9f3a"
             ],
             [
              0.8888888888888888,
              "#fdca26"
             ],
             [
              1,
              "#f0f921"
             ]
            ],
            "type": "surface"
           }
          ],
          "table": [
           {
            "cells": {
             "fill": {
              "color": "#EBF0F8"
             },
             "line": {
              "color": "white"
             }
            },
            "header": {
             "fill": {
              "color": "#C8D4E3"
             },
             "line": {
              "color": "white"
             }
            },
            "type": "table"
           }
          ]
         },
         "layout": {
          "annotationdefaults": {
           "arrowcolor": "#2a3f5f",
           "arrowhead": 0,
           "arrowwidth": 1
          },
          "autotypenumbers": "strict",
          "coloraxis": {
           "colorbar": {
            "outlinewidth": 0,
            "ticks": ""
           }
          },
          "colorscale": {
           "diverging": [
            [
             0,
             "#8e0152"
            ],
            [
             0.1,
             "#c51b7d"
            ],
            [
             0.2,
             "#de77ae"
            ],
            [
             0.3,
             "#f1b6da"
            ],
            [
             0.4,
             "#fde0ef"
            ],
            [
             0.5,
             "#f7f7f7"
            ],
            [
             0.6,
             "#e6f5d0"
            ],
            [
             0.7,
             "#b8e186"
            ],
            [
             0.8,
             "#7fbc41"
            ],
            [
             0.9,
             "#4d9221"
            ],
            [
             1,
             "#276419"
            ]
           ],
           "sequential": [
            [
             0,
             "#0d0887"
            ],
            [
             0.1111111111111111,
             "#46039f"
            ],
            [
             0.2222222222222222,
             "#7201a8"
            ],
            [
             0.3333333333333333,
             "#9c179e"
            ],
            [
             0.4444444444444444,
             "#bd3786"
            ],
            [
             0.5555555555555556,
             "#d8576b"
            ],
            [
             0.6666666666666666,
             "#ed7953"
            ],
            [
             0.7777777777777778,
             "#fb9f3a"
            ],
            [
             0.8888888888888888,
             "#fdca26"
            ],
            [
             1,
             "#f0f921"
            ]
           ],
           "sequentialminus": [
            [
             0,
             "#0d0887"
            ],
            [
             0.1111111111111111,
             "#46039f"
            ],
            [
             0.2222222222222222,
             "#7201a8"
            ],
            [
             0.3333333333333333,
             "#9c179e"
            ],
            [
             0.4444444444444444,
             "#bd3786"
            ],
            [
             0.5555555555555556,
             "#d8576b"
            ],
            [
             0.6666666666666666,
             "#ed7953"
            ],
            [
             0.7777777777777778,
             "#fb9f3a"
            ],
            [
             0.8888888888888888,
             "#fdca26"
            ],
            [
             1,
             "#f0f921"
            ]
           ]
          },
          "colorway": [
           "#636efa",
           "#EF553B",
           "#00cc96",
           "#ab63fa",
           "#FFA15A",
           "#19d3f3",
           "#FF6692",
           "#B6E880",
           "#FF97FF",
           "#FECB52"
          ],
          "font": {
           "color": "#2a3f5f"
          },
          "geo": {
           "bgcolor": "white",
           "lakecolor": "white",
           "landcolor": "#E5ECF6",
           "showlakes": true,
           "showland": true,
           "subunitcolor": "white"
          },
          "hoverlabel": {
           "align": "left"
          },
          "hovermode": "closest",
          "mapbox": {
           "style": "light"
          },
          "paper_bgcolor": "white",
          "plot_bgcolor": "#E5ECF6",
          "polar": {
           "angularaxis": {
            "gridcolor": "white",
            "linecolor": "white",
            "ticks": ""
           },
           "bgcolor": "#E5ECF6",
           "radialaxis": {
            "gridcolor": "white",
            "linecolor": "white",
            "ticks": ""
           }
          },
          "scene": {
           "xaxis": {
            "backgroundcolor": "#E5ECF6",
            "gridcolor": "white",
            "gridwidth": 2,
            "linecolor": "white",
            "showbackground": true,
            "ticks": "",
            "zerolinecolor": "white"
           },
           "yaxis": {
            "backgroundcolor": "#E5ECF6",
            "gridcolor": "white",
            "gridwidth": 2,
            "linecolor": "white",
            "showbackground": true,
            "ticks": "",
            "zerolinecolor": "white"
           },
           "zaxis": {
            "backgroundcolor": "#E5ECF6",
            "gridcolor": "white",
            "gridwidth": 2,
            "linecolor": "white",
            "showbackground": true,
            "ticks": "",
            "zerolinecolor": "white"
           }
          },
          "shapedefaults": {
           "line": {
            "color": "#2a3f5f"
           }
          },
          "ternary": {
           "aaxis": {
            "gridcolor": "white",
            "linecolor": "white",
            "ticks": ""
           },
           "baxis": {
            "gridcolor": "white",
            "linecolor": "white",
            "ticks": ""
           },
           "bgcolor": "#E5ECF6",
           "caxis": {
            "gridcolor": "white",
            "linecolor": "white",
            "ticks": ""
           }
          },
          "title": {
           "x": 0.05
          },
          "xaxis": {
           "automargin": true,
           "gridcolor": "white",
           "linecolor": "white",
           "ticks": "",
           "title": {
            "standoff": 15
           },
           "zerolinecolor": "white",
           "zerolinewidth": 2
          },
          "yaxis": {
           "automargin": true,
           "gridcolor": "white",
           "linecolor": "white",
           "ticks": "",
           "title": {
            "standoff": 15
           },
           "zerolinecolor": "white",
           "zerolinewidth": 2
          }
         }
        },
        "title": {
         "text": "Anomalies Detected by ISO"
        },
        "xaxis": {
         "anchor": "y",
         "domain": [
          0,
          1
         ],
         "title": {
          "text": "cycle"
         }
        },
        "yaxis": {
         "anchor": "x",
         "domain": [
          0,
          1
         ],
         "title": {
          "text": "capacity"
         }
        }
       }
      }
     },
     "metadata": {},
     "output_type": "display_data"
    },
    {
     "data": {
      "application/vnd.plotly.v1+json": {
       "config": {
        "plotlyServerURL": "https://plot.ly"
       },
       "data": [
        {
         "hovertemplate": "color=Normal<br>symbol=circle<br>cycle=%{x}<br>capacity=%{y}<extra></extra>",
         "legendgroup": "Normal, circle",
         "marker": {
          "color": "#00CC96",
          "opacity": 0.8,
          "size": 6,
          "symbol": "circle"
         },
         "mode": "markers",
         "name": "Normal, circle",
         "orientation": "v",
         "showlegend": true,
         "type": "scatter",
         "x": [
          25,
          26,
          27,
          28,
          30,
          31,
          32,
          33,
          34,
          35,
          36,
          37,
          38,
          39,
          40,
          41,
          42,
          43,
          44,
          45,
          46,
          47,
          48,
          49,
          50,
          51,
          52,
          53,
          54,
          55,
          56,
          57,
          58,
          59,
          60,
          61,
          62,
          63,
          64,
          65,
          66,
          67,
          68,
          69,
          70,
          72,
          73,
          74,
          75,
          76,
          77,
          78,
          79,
          80,
          81,
          82,
          83,
          84,
          85,
          86,
          87,
          88,
          89,
          90,
          91,
          92,
          93,
          94,
          95,
          96,
          97,
          98,
          99,
          100,
          101,
          102,
          103,
          104,
          105,
          106,
          107,
          108,
          109,
          110,
          111,
          112,
          113,
          114,
          115,
          116,
          117,
          118,
          119,
          120,
          121,
          122,
          123,
          124,
          125,
          126,
          127,
          128,
          129,
          130,
          131,
          132,
          133,
          134,
          135,
          136,
          137,
          138,
          139,
          140,
          141,
          142,
          143,
          144,
          145,
          149,
          150,
          151,
          152,
          153,
          154,
          155,
          156,
          157,
          158,
          159,
          160,
          161,
          163,
          164,
          165,
          166,
          169,
          170,
          171,
          172,
          173,
          174,
          175,
          176,
          177,
          178,
          179,
          180,
          181,
          182,
          183,
          184,
          185,
          186,
          187,
          188,
          189,
          190,
          191,
          192,
          193,
          194,
          195,
          196,
          197,
          198,
          199,
          200,
          201,
          202,
          203,
          204,
          205,
          206,
          207,
          208,
          209,
          210,
          211,
          212,
          213,
          214,
          215,
          216,
          217,
          218,
          219,
          220,
          25,
          26,
          27,
          28,
          29,
          30,
          31,
          32,
          33,
          34,
          35,
          36,
          37,
          38,
          39,
          40,
          41,
          42,
          43,
          44,
          45,
          47,
          48,
          49,
          50,
          51,
          52,
          53,
          54,
          55,
          56,
          57,
          58,
          59,
          60,
          61,
          62,
          63,
          64,
          65,
          66,
          67,
          68,
          69,
          70,
          71,
          72,
          73,
          74,
          75,
          76,
          77,
          78,
          79,
          80,
          81,
          82,
          83,
          84,
          85,
          86,
          87,
          88,
          89,
          90,
          91,
          92,
          93,
          94,
          95,
          96,
          97,
          98,
          99,
          100,
          101,
          102,
          103,
          104,
          105,
          106,
          107,
          108,
          109,
          110,
          111,
          112,
          113,
          114,
          115,
          116,
          117,
          118,
          119,
          120,
          121,
          122,
          123,
          124,
          125,
          126,
          127,
          128,
          129,
          130,
          131,
          132,
          133,
          134,
          135,
          136,
          137,
          138,
          139,
          140,
          141,
          142,
          143,
          144,
          145,
          146,
          147,
          148,
          149,
          150,
          151,
          152,
          153,
          154,
          155,
          156,
          157,
          158,
          159,
          160,
          161,
          162,
          163,
          164,
          165,
          166,
          167,
          168,
          169,
          170,
          171,
          172,
          173,
          174,
          175,
          176,
          177,
          178,
          179,
          180,
          181,
          182,
          183,
          184,
          185,
          186,
          187,
          188,
          189,
          190,
          191,
          192,
          193,
          194,
          195,
          196,
          197,
          198,
          199,
          200,
          201,
          202,
          203,
          204,
          206,
          207,
          208,
          209,
          210,
          25,
          26,
          27,
          28,
          29,
          30,
          31,
          32,
          35,
          36,
          37,
          38,
          39,
          40,
          41,
          42,
          43,
          44,
          45,
          46,
          47,
          48,
          49,
          50,
          51,
          52,
          53,
          54,
          55,
          56,
          57,
          58,
          59,
          60,
          61,
          62,
          63,
          64,
          65,
          66,
          67,
          68,
          69,
          70,
          71,
          72,
          73,
          74,
          75,
          76,
          77,
          78,
          79,
          80,
          81,
          82,
          83,
          84,
          85,
          86,
          87,
          88,
          89,
          90,
          91,
          92,
          93,
          94,
          95,
          96,
          97,
          98,
          99,
          100,
          101,
          102,
          103,
          104,
          105,
          106,
          107,
          108,
          109,
          110,
          111,
          112,
          113,
          114,
          115,
          116,
          117,
          118,
          119,
          120,
          121,
          122,
          123,
          124,
          125,
          126,
          127,
          128,
          129,
          130,
          131,
          132,
          133,
          134,
          135,
          136,
          137,
          138,
          139,
          140,
          141,
          142,
          143,
          144,
          145,
          146,
          147,
          148,
          149,
          150,
          151,
          152,
          153,
          154,
          155,
          156,
          157,
          158,
          159,
          160,
          161,
          162,
          163,
          164,
          165,
          166,
          167,
          168,
          169,
          170,
          171,
          172,
          173,
          174,
          175,
          176,
          177,
          178,
          179,
          180,
          181,
          182,
          183,
          184,
          185,
          186,
          187,
          188,
          189,
          190,
          191,
          192,
          193,
          194,
          195,
          196,
          197,
          198,
          199,
          200,
          201,
          202,
          203,
          204,
          205,
          206,
          207,
          208,
          209,
          210,
          211,
          212,
          213,
          214,
          215,
          216,
          217,
          218,
          219,
          220,
          221,
          222,
          223,
          224,
          225,
          226,
          227,
          228,
          229,
          230,
          231,
          232,
          233,
          235,
          236,
          237,
          238,
          239,
          240,
          241,
          242,
          243,
          244
         ],
         "xaxis": "x",
         "y": [
          1.8783020419890513,
          1.8690386029237387,
          1.8712057465115557,
          1.860995593267933,
          1.8577588742918512,
          1.8399530815449032,
          1.844025621373125,
          1.833854949902544,
          1.8276520153865292,
          1.8243416628581433,
          1.8250231760379776,
          1.8110581701692603,
          1.8104985564797615,
          1.8097314516266576,
          1.798558349005696,
          1.7920944651211794,
          1.786120080632509,
          1.7749905242263415,
          1.7743753925214114,
          1.7652167595004378,
          1.764737524685241,
          1.7643911298664483,
          1.769523036509107,
          1.759995713743414,
          1.7480940593532488,
          1.73982431439465,
          1.7371851833232514,
          1.7299871468656065,
          1.7323238580694529,
          1.7209341618662128,
          1.713891905858941,
          1.713899184581786,
          1.703854363938203,
          1.700981609423062,
          1.70950799300196,
          1.691824434592704,
          1.696293715042448,
          1.6829179887676688,
          1.6720803887244702,
          1.6738074060244772,
          1.671659330883717,
          1.666378096159242,
          1.6643182665578933,
          1.6559072982464025,
          1.6441951700494508,
          1.6416763215832957,
          1.637427452798397,
          1.6336620945529312,
          1.6285920688676307,
          1.6190703940748394,
          1.618851425049173,
          1.620955730711498,
          1.6064911943067326,
          1.5997733729495642,
          1.5984154209669446,
          1.5947425111620623,
          1.5903042497145692,
          1.5780228710530555,
          1.5739984913377778,
          1.571679578390346,
          1.5689657060311557,
          1.5620420096379293,
          1.559397172374145,
          1.5498633139885336,
          1.544385812604455,
          1.5402955691220284,
          1.5370306562508038,
          1.523527779287409,
          1.52282406787441,
          1.521711559098804,
          1.5141353251726375,
          1.5091173539254787,
          1.5076881509064308,
          1.5001683079604744,
          1.5033396334825486,
          1.4949819341254744,
          1.4877968536673951,
          1.4712834148089948,
          1.474052971743023,
          1.472688416608939,
          1.4579964072127864,
          1.462155303099654,
          1.4506154941958582,
          1.4462356747677252,
          1.4497039388691506,
          1.4299294287875823,
          1.441146258149521,
          1.4312065207106124,
          1.420907423789488,
          1.4218562146919662,
          1.419790982958564,
          1.4091091550903836,
          1.4011824170411182,
          1.404154345809635,
          1.390227433913874,
          1.389866334080364,
          1.3791159628040883,
          1.37816985910965,
          1.3765651018596998,
          1.3683996037066437,
          1.3605749678751686,
          1.3599104252836438,
          1.3509332962763931,
          1.3556794701646135,
          1.3540205708973445,
          1.341762460770013,
          1.3391975132314309,
          1.328898961395504,
          1.3320122269204886,
          1.3223353171902046,
          1.312108800693079,
          1.304413427341349,
          1.3200310955375127,
          1.2988478422597274,
          1.30254101736836,
          1.2870365986190366,
          1.285848291359001,
          1.2883588376764097,
          1.2783413021411505,
          1.2605094049734695,
          1.2579681708384602,
          1.24178686910991,
          1.2476111633090028,
          1.232946491720674,
          1.2309484898446303,
          1.230397968555791,
          1.2206974724809825,
          1.210307712712401,
          1.2066209074172625,
          1.2057237218343233,
          1.2011707083939114,
          1.1919067298058663,
          1.1859493502680734,
          1.1860911178349478,
          1.1691864208876823,
          1.1660408873524628,
          1.1598368128632297,
          1.1419416882466935,
          1.1510513918710932,
          1.134170482973417,
          1.1325993613947416,
          1.1331590633812725,
          1.1166007046053734,
          1.1262063460801517,
          1.1159587710799874,
          1.1077723041013623,
          1.1075336381818566,
          1.1005891332447766,
          1.0925908994500562,
          1.087456685388673,
          1.0875799613219803,
          1.0758400758042836,
          1.072454615749279,
          1.0763539913811355,
          1.0716852276453803,
          1.0635129706965876,
          1.0597700685575966,
          1.048986955099116,
          1.036396529538486,
          1.041632610487517,
          1.0360377963288778,
          1.0326681133434323,
          1.027892379852147,
          1.0204149335437391,
          1.0177385508377048,
          1.0155830626281963,
          1.0116661798948683,
          1.011095970520563,
          0.9971310081993704,
          0.9918103489841744,
          0.9784282230745284,
          0.9792796273668368,
          0.967829715232912,
          0.9682160047944872,
          0.9630708601027888,
          0.9551021798209324,
          0.954664234779361,
          0.9559518766643176,
          0.9348537643436626,
          0.9460037553446822,
          0.93158499272178,
          0.93509924751778,
          0.925349701238104,
          0.9198850663894408,
          0.9071845451514998,
          0.912027381081192,
          0.910944242606161,
          0.8982616468068921,
          1.8682602703345608,
          1.8696214760160657,
          1.8594545071702857,
          1.8558803252594145,
          1.8478276061917276,
          1.8461524333396433,
          1.849859784385165,
          1.8446616335056265,
          1.8286107262049611,
          1.830185447127808,
          1.81858856947958,
          1.821936018539325,
          1.8218436461281988,
          1.8188572335528763,
          1.809428632444584,
          1.7998709923891525,
          1.794018795735292,
          1.7897809308243464,
          1.787339091992021,
          1.7775220917753067,
          1.777636158476828,
          1.7718279054610075,
          1.7622756700501552,
          1.754711197314859,
          1.7470587541789484,
          1.7504138860150271,
          1.7363030479479875,
          1.7322996730867457,
          1.734783962780972,
          1.7220229822289987,
          1.721311068229144,
          1.7166447901731363,
          1.704413891474968,
          1.7043983746458604,
          1.7026685815692182,
          1.682214688407616,
          1.6905138406165063,
          1.6826523292618762,
          1.6920665459324349,
          1.6800098087315205,
          1.6716649766187153,
          1.6643344994631846,
          1.6583530511961029,
          1.653933621774757,
          1.658728727974904,
          1.645794240148629,
          1.647784881653437,
          1.6334920010541407,
          1.6318227081832548,
          1.6338869310617368,
          1.6226679595853688,
          1.6125537343484802,
          1.6134475394923522,
          1.6037648881122113,
          1.5981491970913244,
          1.5958048116962749,
          1.591833071521248,
          1.582940244451192,
          1.582638728888567,
          1.5789535227518106,
          1.565444291021072,
          1.5619209491132704,
          1.5538701404742656,
          1.5598435036686684,
          1.552316484549933,
          1.5400353993162703,
          1.543264027350597,
          1.530011351291587,
          1.5347260407041552,
          1.519869538006151,
          1.5319183977671529,
          1.518325893437371,
          1.5111605447467764,
          1.5070765126856986,
          1.5045283202537496,
          1.494853060893935,
          1.485945140543233,
          1.4862128632667857,
          1.4797449733887331,
          1.4697368952033345,
          1.4658001433120569,
          1.47240975449043,
          1.46770721756399,
          1.4563227664707856,
          1.439642610680267,
          1.4564163490402506,
          1.4356319223009322,
          1.4321881810477588,
          1.4273689333241817,
          1.428896799076735,
          1.419710985866033,
          1.4096515518839028,
          1.41575001070564,
          1.3989715623048742,
          1.398155103098213,
          1.398692962571824,
          1.3893191971423122,
          1.3889558088336358,
          1.3714511878626312,
          1.3760667107136326,
          1.3739363182204702,
          1.3703740309889212,
          1.3650556335660002,
          1.3510749148348302,
          1.3515899480684384,
          1.342840465764784,
          1.3415461554709047,
          1.3362878352617371,
          1.3381014616784892,
          1.323708811244544,
          1.325642023699261,
          1.3225418787333645,
          1.31647463555362,
          1.3033931137174728,
          1.2927112270903618,
          1.2993476403044997,
          1.2932121203288605,
          1.283225135446575,
          1.27794783261294,
          1.273851071759564,
          1.2725635930293389,
          1.2539073780666588,
          1.2648887804118405,
          1.256722319408052,
          1.2528465532628377,
          1.2482728388121576,
          1.24803296106419,
          1.2279985579572708,
          1.22494928818536,
          1.230636019396659,
          1.2154246550519785,
          1.2139106285100936,
          1.2068010006054275,
          1.2013116828360084,
          1.1916174147216798,
          1.1994798407171028,
          1.1881908996748958,
          1.1867854834221272,
          1.180030226495947,
          1.1693012025917189,
          1.1730940024318133,
          1.1765772672513768,
          1.1545055676608569,
          1.1611852079874214,
          1.1462214343525643,
          1.1443326294183584,
          1.1415208462361093,
          1.1348569192397953,
          1.1290668251595857,
          1.1292233456324128,
          1.1171388133571434,
          1.1143013651733022,
          1.1061723786680957,
          1.1088577789920502,
          1.1035742572961402,
          1.0926257182382857,
          1.0953768107810185,
          1.084648772838101,
          1.0795034388762872,
          1.0765031219167875,
          1.0647592415968825,
          1.0634756822467868,
          1.0611424014182478,
          1.0552707164550077,
          1.0476976417039694,
          1.0463496746703902,
          1.0313296319858247,
          1.0361646177036912,
          1.0270428121751718,
          1.0271985254571856,
          1.0257902285251004,
          1.0153933771088912,
          1.0095147548654235,
          1.003607593444711,
          0.9917620771754024,
          0.999689148737084,
          0.9882602458548786,
          0.9961810937569536,
          0.988228813650097,
          0.9671609967619784,
          0.961438751942512,
          0.9585382233165056,
          0.9561198293151252,
          0.942195033773607,
          1.8715601460868816,
          1.8716170176185916,
          1.867922583679949,
          1.8526572577770293,
          1.8530106491376883,
          1.8544258607566055,
          1.8522428177432648,
          1.84243370438938,
          1.8232805507249257,
          1.8200725867112115,
          1.8237568523832015,
          1.8167774828083447,
          1.804744858027464,
          1.8006339889671796,
          1.7960142906345569,
          1.789703588930808,
          1.7846694190205836,
          1.7728950129603172,
          1.7644177989572665,
          1.772213059773229,
          1.7733025175484969,
          1.763613076498732,
          1.757483422020997,
          1.73908433989408,
          1.7444468907840505,
          1.7228305715876715,
          1.735892068777228,
          1.728295230828977,
          1.7232963105506989,
          1.7217064842396634,
          1.7154862432357925,
          1.7121019791767746,
          1.6973421963409154,
          1.7093281093174617,
          1.695820911715664,
          1.6828028611367845,
          1.6799078513534793,
          1.6800360134943209,
          1.675612502917802,
          1.6697825725525686,
          1.6678152191160338,
          1.655072921176333,
          1.655921246402743,
          1.64045695998008,
          1.6429965115886953,
          1.6344794720372855,
          1.6303267570816755,
          1.6365772348517371,
          1.6302112417426426,
          1.629279461983458,
          1.6110655044323283,
          1.6043267013634992,
          1.601596144233382,
          1.6021013186845128,
          1.594659159482358,
          1.5965129266167568,
          1.591159205244597,
          1.5805008679519796,
          1.570760037157003,
          1.5698661590535568,
          1.566081045127136,
          1.5530051387442572,
          1.5527720232588282,
          1.5486247079453854,
          1.5439372195142478,
          1.5417065146714335,
          1.527873698920378,
          1.5365770325858403,
          1.5334224344941647,
          1.5257637768159094,
          1.5140453508136804,
          1.5129399583527237,
          1.509972079724289,
          1.5039274785612198,
          1.5003850203588476,
          1.5011731119467793,
          1.4896118862339096,
          1.485136380303075,
          1.4744990239029243,
          1.4701389148201736,
          1.4609714688276614,
          1.4577230184670358,
          1.462628522790249,
          1.4554045028828586,
          1.4508940665443557,
          1.4345839215717624,
          1.443621600845329,
          1.423997317992872,
          1.426916421970842,
          1.4285765378917223,
          1.4127725228924457,
          1.4103731138900586,
          1.4131184259601468,
          1.4013475580141423,
          1.3985721895960668,
          1.3873084860859526,
          1.3831048471159433,
          1.3861464526903733,
          1.379759764146688,
          1.3707221964149612,
          1.361527219968743,
          1.358048700520472,
          1.3481702600663916,
          1.354811896680456,
          1.337320305311622,
          1.3395844378693724,
          1.3280013221035007,
          1.3310182214176167,
          1.326747250212715,
          1.3234789124471362,
          1.3144299368438823,
          1.3197573214150244,
          1.3012684067734903,
          1.3019713505130774,
          1.305932923506864,
          1.2909579959880515,
          1.2899822749294478,
          1.2794058865485782,
          1.2715733023959834,
          1.2622384936806277,
          1.2688119170502887,
          1.2661929596539263,
          1.2548423995017683,
          1.2525238523245064,
          1.245306945838102,
          1.2434081320870354,
          1.2323402996571544,
          1.2275293779373049,
          1.22838506158524,
          1.2177609987200289,
          1.2168650961782308,
          1.203278747097785,
          1.2063649361081377,
          1.192549469678813,
          1.1907364573278478,
          1.196180791365461,
          1.1839058441655474,
          1.1759996541733273,
          1.178102373560523,
          1.165130004825801,
          1.1646786480006748,
          1.1609450895241824,
          1.1492858009591984,
          1.1463454725281828,
          1.1476519334785256,
          1.1445030586986689,
          1.1367067684770795,
          1.1299208193761563,
          1.124134345821718,
          1.1168736753599025,
          1.113577940423101,
          1.1126407787361094,
          1.102666628600098,
          1.106620376134432,
          1.0956222313721882,
          1.0816208657112143,
          1.086878122790527,
          1.0798409926947596,
          1.079639012932907,
          1.0691318673968468,
          1.0669275510128606,
          1.0630940890929983,
          1.0575195059175426,
          1.03981204741553,
          1.0435458012147234,
          1.0369047463279355,
          1.0319970804322054,
          1.03244813430152,
          1.0272552971658349,
          1.0105977383055305,
          1.0110477299244964,
          1.0035119414026996,
          0.993985008685106,
          1.0023853085281496,
          0.9955170600112594,
          0.9806520757949052,
          0.9753924430197952,
          0.9853533741998204,
          0.9742682601602264,
          0.9675845860946972,
          0.966221922661204,
          0.9600971142287744,
          0.9510004670911826,
          0.9554725775654256,
          0.9293253932736378,
          0.9477026569925454,
          0.929613922162543,
          0.926767291601442,
          0.9196437104964252,
          0.9236773573358448,
          0.9117460712543288,
          0.9022231446510104,
          0.9011917015079308,
          0.9066092454032126,
          0.8882719736298594,
          0.8964964044529493,
          0.8827834642529623,
          0.887045711926017,
          0.8722857889203456,
          0.8727623795760296,
          0.8659205263711655,
          0.853348348386368,
          0.8527145087572895,
          0.8498830027687198,
          0.8515271870515478,
          0.8401515056838506,
          0.8342625989266192,
          0.8261674153040264,
          0.816360054320221,
          0.8150269217787709,
          0.8105048584178132,
          0.8083386692645638,
          0.8051844719386201,
          0.7922634902642576,
          0.7961012995992677,
          0.7881373639368348,
          0.7808477588275857
         ],
         "yaxis": "y"
        },
        {
         "hovertemplate": "color=Anomaly<br>symbol=x<br>cycle=%{x}<br>capacity=%{y}<extra></extra>",
         "legendgroup": "Anomaly, x",
         "marker": {
          "color": "#EF553B",
          "opacity": 0.8,
          "size": 6,
          "symbol": "diamond"
         },
         "mode": "markers",
         "name": "Anomaly, x",
         "orientation": "v",
         "showlegend": true,
         "type": "scatter",
         "x": [
          29,
          71,
          146,
          147,
          148,
          162,
          167,
          168,
          46,
          205,
          33,
          34,
          234,
          245,
          246,
          247,
          248,
          249,
          250
         ],
         "xaxis": "x",
         "y": [
          1.85652647603498,
          1.6381897366709262,
          1.2654316566259234,
          1.262438000782824,
          1.248388443840062,
          1.190676398851544,
          1.1641789279159291,
          1.156900321368686,
          1.7769007840769329,
          0.969674176988908,
          1.8396087574011235,
          1.8274387131101424,
          0.8206996733269041,
          0.7783086700559771,
          0.7619704404853822,
          0.7659027650271983,
          0.7620101161060815,
          0.7574438607619847,
          0.7509718644896284
         ],
         "yaxis": "y"
        }
       ],
       "layout": {
        "legend": {
         "title": {
          "text": "color, symbol"
         },
         "tracegroupgap": 0
        },
        "template": {
         "data": {
          "bar": [
           {
            "error_x": {
             "color": "#2a3f5f"
            },
            "error_y": {
             "color": "#2a3f5f"
            },
            "marker": {
             "line": {
              "color": "#E5ECF6",
              "width": 0.5
             },
             "pattern": {
              "fillmode": "overlay",
              "size": 10,
              "solidity": 0.2
             }
            },
            "type": "bar"
           }
          ],
          "barpolar": [
           {
            "marker": {
             "line": {
              "color": "#E5ECF6",
              "width": 0.5
             },
             "pattern": {
              "fillmode": "overlay",
              "size": 10,
              "solidity": 0.2
             }
            },
            "type": "barpolar"
           }
          ],
          "carpet": [
           {
            "aaxis": {
             "endlinecolor": "#2a3f5f",
             "gridcolor": "white",
             "linecolor": "white",
             "minorgridcolor": "white",
             "startlinecolor": "#2a3f5f"
            },
            "baxis": {
             "endlinecolor": "#2a3f5f",
             "gridcolor": "white",
             "linecolor": "white",
             "minorgridcolor": "white",
             "startlinecolor": "#2a3f5f"
            },
            "type": "carpet"
           }
          ],
          "choropleth": [
           {
            "colorbar": {
             "outlinewidth": 0,
             "ticks": ""
            },
            "type": "choropleth"
           }
          ],
          "contour": [
           {
            "colorbar": {
             "outlinewidth": 0,
             "ticks": ""
            },
            "colorscale": [
             [
              0,
              "#0d0887"
             ],
             [
              0.1111111111111111,
              "#46039f"
             ],
             [
              0.2222222222222222,
              "#7201a8"
             ],
             [
              0.3333333333333333,
              "#9c179e"
             ],
             [
              0.4444444444444444,
              "#bd3786"
             ],
             [
              0.5555555555555556,
              "#d8576b"
             ],
             [
              0.6666666666666666,
              "#ed7953"
             ],
             [
              0.7777777777777778,
              "#fb9f3a"
             ],
             [
              0.8888888888888888,
              "#fdca26"
             ],
             [
              1,
              "#f0f921"
             ]
            ],
            "type": "contour"
           }
          ],
          "contourcarpet": [
           {
            "colorbar": {
             "outlinewidth": 0,
             "ticks": ""
            },
            "type": "contourcarpet"
           }
          ],
          "heatmap": [
           {
            "colorbar": {
             "outlinewidth": 0,
             "ticks": ""
            },
            "colorscale": [
             [
              0,
              "#0d0887"
             ],
             [
              0.1111111111111111,
              "#46039f"
             ],
             [
              0.2222222222222222,
              "#7201a8"
             ],
             [
              0.3333333333333333,
              "#9c179e"
             ],
             [
              0.4444444444444444,
              "#bd3786"
             ],
             [
              0.5555555555555556,
              "#d8576b"
             ],
             [
              0.6666666666666666,
              "#ed7953"
             ],
             [
              0.7777777777777778,
              "#fb9f3a"
             ],
             [
              0.8888888888888888,
              "#fdca26"
             ],
             [
              1,
              "#f0f921"
             ]
            ],
            "type": "heatmap"
           }
          ],
          "heatmapgl": [
           {
            "colorbar": {
             "outlinewidth": 0,
             "ticks": ""
            },
            "colorscale": [
             [
              0,
              "#0d0887"
             ],
             [
              0.1111111111111111,
              "#46039f"
             ],
             [
              0.2222222222222222,
              "#7201a8"
             ],
             [
              0.3333333333333333,
              "#9c179e"
             ],
             [
              0.4444444444444444,
              "#bd3786"
             ],
             [
              0.5555555555555556,
              "#d8576b"
             ],
             [
              0.6666666666666666,
              "#ed7953"
             ],
             [
              0.7777777777777778,
              "#fb9f3a"
             ],
             [
              0.8888888888888888,
              "#fdca26"
             ],
             [
              1,
              "#f0f921"
             ]
            ],
            "type": "heatmapgl"
           }
          ],
          "histogram": [
           {
            "marker": {
             "pattern": {
              "fillmode": "overlay",
              "size": 10,
              "solidity": 0.2
             }
            },
            "type": "histogram"
           }
          ],
          "histogram2d": [
           {
            "colorbar": {
             "outlinewidth": 0,
             "ticks": ""
            },
            "colorscale": [
             [
              0,
              "#0d0887"
             ],
             [
              0.1111111111111111,
              "#46039f"
             ],
             [
              0.2222222222222222,
              "#7201a8"
             ],
             [
              0.3333333333333333,
              "#9c179e"
             ],
             [
              0.4444444444444444,
              "#bd3786"
             ],
             [
              0.5555555555555556,
              "#d8576b"
             ],
             [
              0.6666666666666666,
              "#ed7953"
             ],
             [
              0.7777777777777778,
              "#fb9f3a"
             ],
             [
              0.8888888888888888,
              "#fdca26"
             ],
             [
              1,
              "#f0f921"
             ]
            ],
            "type": "histogram2d"
           }
          ],
          "histogram2dcontour": [
           {
            "colorbar": {
             "outlinewidth": 0,
             "ticks": ""
            },
            "colorscale": [
             [
              0,
              "#0d0887"
             ],
             [
              0.1111111111111111,
              "#46039f"
             ],
             [
              0.2222222222222222,
              "#7201a8"
             ],
             [
              0.3333333333333333,
              "#9c179e"
             ],
             [
              0.4444444444444444,
              "#bd3786"
             ],
             [
              0.5555555555555556,
              "#d8576b"
             ],
             [
              0.6666666666666666,
              "#ed7953"
             ],
             [
              0.7777777777777778,
              "#fb9f3a"
             ],
             [
              0.8888888888888888,
              "#fdca26"
             ],
             [
              1,
              "#f0f921"
             ]
            ],
            "type": "histogram2dcontour"
           }
          ],
          "mesh3d": [
           {
            "colorbar": {
             "outlinewidth": 0,
             "ticks": ""
            },
            "type": "mesh3d"
           }
          ],
          "parcoords": [
           {
            "line": {
             "colorbar": {
              "outlinewidth": 0,
              "ticks": ""
             }
            },
            "type": "parcoords"
           }
          ],
          "pie": [
           {
            "automargin": true,
            "type": "pie"
           }
          ],
          "scatter": [
           {
            "fillpattern": {
             "fillmode": "overlay",
             "size": 10,
             "solidity": 0.2
            },
            "type": "scatter"
           }
          ],
          "scatter3d": [
           {
            "line": {
             "colorbar": {
              "outlinewidth": 0,
              "ticks": ""
             }
            },
            "marker": {
             "colorbar": {
              "outlinewidth": 0,
              "ticks": ""
             }
            },
            "type": "scatter3d"
           }
          ],
          "scattercarpet": [
           {
            "marker": {
             "colorbar": {
              "outlinewidth": 0,
              "ticks": ""
             }
            },
            "type": "scattercarpet"
           }
          ],
          "scattergeo": [
           {
            "marker": {
             "colorbar": {
              "outlinewidth": 0,
              "ticks": ""
             }
            },
            "type": "scattergeo"
           }
          ],
          "scattergl": [
           {
            "marker": {
             "colorbar": {
              "outlinewidth": 0,
              "ticks": ""
             }
            },
            "type": "scattergl"
           }
          ],
          "scattermapbox": [
           {
            "marker": {
             "colorbar": {
              "outlinewidth": 0,
              "ticks": ""
             }
            },
            "type": "scattermapbox"
           }
          ],
          "scatterpolar": [
           {
            "marker": {
             "colorbar": {
              "outlinewidth": 0,
              "ticks": ""
             }
            },
            "type": "scatterpolar"
           }
          ],
          "scatterpolargl": [
           {
            "marker": {
             "colorbar": {
              "outlinewidth": 0,
              "ticks": ""
             }
            },
            "type": "scatterpolargl"
           }
          ],
          "scatterternary": [
           {
            "marker": {
             "colorbar": {
              "outlinewidth": 0,
              "ticks": ""
             }
            },
            "type": "scatterternary"
           }
          ],
          "surface": [
           {
            "colorbar": {
             "outlinewidth": 0,
             "ticks": ""
            },
            "colorscale": [
             [
              0,
              "#0d0887"
             ],
             [
              0.1111111111111111,
              "#46039f"
             ],
             [
              0.2222222222222222,
              "#7201a8"
             ],
             [
              0.3333333333333333,
              "#9c179e"
             ],
             [
              0.4444444444444444,
              "#bd3786"
             ],
             [
              0.5555555555555556,
              "#d8576b"
             ],
             [
              0.6666666666666666,
              "#ed7953"
             ],
             [
              0.7777777777777778,
              "#fb9f3a"
             ],
             [
              0.8888888888888888,
              "#fdca26"
             ],
             [
              1,
              "#f0f921"
             ]
            ],
            "type": "surface"
           }
          ],
          "table": [
           {
            "cells": {
             "fill": {
              "color": "#EBF0F8"
             },
             "line": {
              "color": "white"
             }
            },
            "header": {
             "fill": {
              "color": "#C8D4E3"
             },
             "line": {
              "color": "white"
             }
            },
            "type": "table"
           }
          ]
         },
         "layout": {
          "annotationdefaults": {
           "arrowcolor": "#2a3f5f",
           "arrowhead": 0,
           "arrowwidth": 1
          },
          "autotypenumbers": "strict",
          "coloraxis": {
           "colorbar": {
            "outlinewidth": 0,
            "ticks": ""
           }
          },
          "colorscale": {
           "diverging": [
            [
             0,
             "#8e0152"
            ],
            [
             0.1,
             "#c51b7d"
            ],
            [
             0.2,
             "#de77ae"
            ],
            [
             0.3,
             "#f1b6da"
            ],
            [
             0.4,
             "#fde0ef"
            ],
            [
             0.5,
             "#f7f7f7"
            ],
            [
             0.6,
             "#e6f5d0"
            ],
            [
             0.7,
             "#b8e186"
            ],
            [
             0.8,
             "#7fbc41"
            ],
            [
             0.9,
             "#4d9221"
            ],
            [
             1,
             "#276419"
            ]
           ],
           "sequential": [
            [
             0,
             "#0d0887"
            ],
            [
             0.1111111111111111,
             "#46039f"
            ],
            [
             0.2222222222222222,
             "#7201a8"
            ],
            [
             0.3333333333333333,
             "#9c179e"
            ],
            [
             0.4444444444444444,
             "#bd3786"
            ],
            [
             0.5555555555555556,
             "#d8576b"
            ],
            [
             0.6666666666666666,
             "#ed7953"
            ],
            [
             0.7777777777777778,
             "#fb9f3a"
            ],
            [
             0.8888888888888888,
             "#fdca26"
            ],
            [
             1,
             "#f0f921"
            ]
           ],
           "sequentialminus": [
            [
             0,
             "#0d0887"
            ],
            [
             0.1111111111111111,
             "#46039f"
            ],
            [
             0.2222222222222222,
             "#7201a8"
            ],
            [
             0.3333333333333333,
             "#9c179e"
            ],
            [
             0.4444444444444444,
             "#bd3786"
            ],
            [
             0.5555555555555556,
             "#d8576b"
            ],
            [
             0.6666666666666666,
             "#ed7953"
            ],
            [
             0.7777777777777778,
             "#fb9f3a"
            ],
            [
             0.8888888888888888,
             "#fdca26"
            ],
            [
             1,
             "#f0f921"
            ]
           ]
          },
          "colorway": [
           "#636efa",
           "#EF553B",
           "#00cc96",
           "#ab63fa",
           "#FFA15A",
           "#19d3f3",
           "#FF6692",
           "#B6E880",
           "#FF97FF",
           "#FECB52"
          ],
          "font": {
           "color": "#2a3f5f"
          },
          "geo": {
           "bgcolor": "white",
           "lakecolor": "white",
           "landcolor": "#E5ECF6",
           "showlakes": true,
           "showland": true,
           "subunitcolor": "white"
          },
          "hoverlabel": {
           "align": "left"
          },
          "hovermode": "closest",
          "mapbox": {
           "style": "light"
          },
          "paper_bgcolor": "white",
          "plot_bgcolor": "#E5ECF6",
          "polar": {
           "angularaxis": {
            "gridcolor": "white",
            "linecolor": "white",
            "ticks": ""
           },
           "bgcolor": "#E5ECF6",
           "radialaxis": {
            "gridcolor": "white",
            "linecolor": "white",
            "ticks": ""
           }
          },
          "scene": {
           "xaxis": {
            "backgroundcolor": "#E5ECF6",
            "gridcolor": "white",
            "gridwidth": 2,
            "linecolor": "white",
            "showbackground": true,
            "ticks": "",
            "zerolinecolor": "white"
           },
           "yaxis": {
            "backgroundcolor": "#E5ECF6",
            "gridcolor": "white",
            "gridwidth": 2,
            "linecolor": "white",
            "showbackground": true,
            "ticks": "",
            "zerolinecolor": "white"
           },
           "zaxis": {
            "backgroundcolor": "#E5ECF6",
            "gridcolor": "white",
            "gridwidth": 2,
            "linecolor": "white",
            "showbackground": true,
            "ticks": "",
            "zerolinecolor": "white"
           }
          },
          "shapedefaults": {
           "line": {
            "color": "#2a3f5f"
           }
          },
          "ternary": {
           "aaxis": {
            "gridcolor": "white",
            "linecolor": "white",
            "ticks": ""
           },
           "baxis": {
            "gridcolor": "white",
            "linecolor": "white",
            "ticks": ""
           },
           "bgcolor": "#E5ECF6",
           "caxis": {
            "gridcolor": "white",
            "linecolor": "white",
            "ticks": ""
           }
          },
          "title": {
           "x": 0.05
          },
          "xaxis": {
           "automargin": true,
           "gridcolor": "white",
           "linecolor": "white",
           "ticks": "",
           "title": {
            "standoff": 15
           },
           "zerolinecolor": "white",
           "zerolinewidth": 2
          },
          "yaxis": {
           "automargin": true,
           "gridcolor": "white",
           "linecolor": "white",
           "ticks": "",
           "title": {
            "standoff": 15
           },
           "zerolinecolor": "white",
           "zerolinewidth": 2
          }
         }
        },
        "title": {
         "text": "Anomalies Detected by LOF"
        },
        "xaxis": {
         "anchor": "y",
         "domain": [
          0,
          1
         ],
         "title": {
          "text": "cycle"
         }
        },
        "yaxis": {
         "anchor": "x",
         "domain": [
          0,
          1
         ],
         "title": {
          "text": "capacity"
         }
        }
       }
      }
     },
     "metadata": {},
     "output_type": "display_data"
    },
    {
     "data": {
      "application/vnd.plotly.v1+json": {
       "config": {
        "plotlyServerURL": "https://plot.ly"
       },
       "data": [
        {
         "hovertemplate": "color=Normal<br>symbol=circle<br>cycle=%{x}<br>capacity=%{y}<extra></extra>",
         "legendgroup": "Normal, circle",
         "marker": {
          "color": "#00CC96",
          "opacity": 0.8,
          "size": 6,
          "symbol": "circle"
         },
         "mode": "markers",
         "name": "Normal, circle",
         "orientation": "v",
         "showlegend": true,
         "type": "scatter",
         "x": [
          25,
          26,
          27,
          28,
          30,
          31,
          32,
          33,
          34,
          35,
          36,
          37,
          38,
          39,
          40,
          41,
          42,
          43,
          44,
          45,
          46,
          47,
          48,
          49,
          50,
          51,
          52,
          53,
          54,
          55,
          56,
          57,
          58,
          59,
          60,
          61,
          62,
          63,
          64,
          65,
          66,
          67,
          68,
          69,
          70,
          72,
          73,
          74,
          75,
          76,
          77,
          78,
          79,
          80,
          81,
          82,
          83,
          84,
          85,
          86,
          87,
          88,
          89,
          90,
          91,
          92,
          93,
          94,
          95,
          96,
          97,
          98,
          99,
          100,
          101,
          102,
          103,
          104,
          105,
          106,
          107,
          108,
          109,
          110,
          111,
          112,
          113,
          114,
          115,
          116,
          117,
          118,
          119,
          120,
          121,
          122,
          123,
          124,
          125,
          126,
          127,
          128,
          129,
          130,
          131,
          132,
          133,
          134,
          135,
          136,
          137,
          138,
          139,
          140,
          141,
          142,
          143,
          144,
          145,
          150,
          151,
          152,
          153,
          154,
          155,
          156,
          157,
          158,
          159,
          160,
          161,
          163,
          164,
          165,
          166,
          169,
          170,
          171,
          172,
          173,
          174,
          175,
          176,
          177,
          178,
          179,
          180,
          181,
          182,
          183,
          184,
          185,
          186,
          187,
          188,
          189,
          190,
          191,
          192,
          193,
          194,
          195,
          196,
          197,
          198,
          199,
          200,
          201,
          202,
          203,
          204,
          205,
          206,
          207,
          208,
          209,
          210,
          211,
          212,
          213,
          214,
          215,
          216,
          217,
          218,
          219,
          220,
          25,
          26,
          27,
          28,
          29,
          30,
          31,
          32,
          33,
          34,
          35,
          36,
          37,
          38,
          39,
          40,
          41,
          42,
          43,
          44,
          45,
          48,
          49,
          50,
          51,
          52,
          53,
          54,
          55,
          56,
          57,
          58,
          59,
          60,
          61,
          62,
          63,
          64,
          65,
          66,
          67,
          68,
          69,
          70,
          71,
          72,
          73,
          74,
          75,
          76,
          77,
          78,
          79,
          80,
          81,
          82,
          83,
          84,
          85,
          86,
          87,
          88,
          89,
          90,
          91,
          92,
          93,
          94,
          95,
          96,
          97,
          98,
          99,
          100,
          101,
          102,
          103,
          104,
          105,
          106,
          107,
          108,
          109,
          110,
          111,
          112,
          113,
          114,
          115,
          116,
          117,
          118,
          119,
          120,
          121,
          122,
          123,
          124,
          125,
          126,
          127,
          128,
          129,
          130,
          131,
          132,
          133,
          134,
          135,
          136,
          137,
          138,
          139,
          140,
          141,
          142,
          143,
          144,
          145,
          146,
          147,
          148,
          149,
          150,
          151,
          152,
          153,
          154,
          155,
          156,
          157,
          158,
          159,
          160,
          161,
          162,
          163,
          164,
          165,
          166,
          167,
          168,
          169,
          170,
          171,
          172,
          173,
          174,
          175,
          176,
          177,
          178,
          179,
          180,
          181,
          182,
          183,
          184,
          185,
          186,
          187,
          188,
          189,
          190,
          191,
          192,
          193,
          194,
          195,
          196,
          197,
          198,
          199,
          200,
          201,
          202,
          203,
          204,
          207,
          208,
          209,
          25,
          26,
          27,
          28,
          29,
          30,
          31,
          32,
          33,
          35,
          36,
          37,
          38,
          39,
          40,
          41,
          42,
          43,
          44,
          45,
          46,
          47,
          48,
          49,
          50,
          51,
          52,
          53,
          54,
          55,
          56,
          57,
          58,
          59,
          60,
          61,
          62,
          63,
          64,
          65,
          66,
          67,
          68,
          69,
          70,
          71,
          72,
          73,
          74,
          75,
          76,
          77,
          78,
          79,
          80,
          81,
          82,
          83,
          84,
          85,
          86,
          87,
          88,
          89,
          90,
          91,
          92,
          93,
          94,
          95,
          96,
          97,
          98,
          99,
          100,
          101,
          102,
          103,
          104,
          105,
          106,
          109,
          110,
          111,
          112,
          113,
          114,
          115,
          116,
          117,
          118,
          119,
          120,
          121,
          122,
          123,
          124,
          125,
          126,
          127,
          128,
          129,
          130,
          131,
          132,
          133,
          134,
          135,
          136,
          137,
          138,
          139,
          140,
          141,
          142,
          143,
          144,
          145,
          146,
          147,
          148,
          149,
          150,
          151,
          152,
          153,
          154,
          155,
          156,
          157,
          158,
          159,
          160,
          161,
          162,
          163,
          164,
          165,
          166,
          167,
          168,
          169,
          170,
          171,
          172,
          173,
          174,
          175,
          176,
          177,
          178,
          179,
          180,
          181,
          182,
          183,
          184,
          185,
          186,
          187,
          188,
          189,
          190,
          191,
          192,
          193,
          194,
          195,
          196,
          197,
          198,
          199,
          200,
          201,
          202,
          203,
          204,
          205,
          206,
          207,
          208,
          209,
          210,
          211,
          212,
          213,
          215,
          216,
          217,
          218,
          219,
          220,
          221,
          222,
          223,
          224,
          225,
          226,
          227,
          228,
          229,
          230,
          231,
          232,
          233,
          234,
          235,
          236,
          237,
          238,
          239,
          240,
          241,
          242,
          243,
          244,
          245,
          246,
          247,
          248,
          249,
          250
         ],
         "xaxis": "x",
         "y": [
          1.8783020419890513,
          1.8690386029237387,
          1.8712057465115557,
          1.860995593267933,
          1.8577588742918512,
          1.8399530815449032,
          1.844025621373125,
          1.833854949902544,
          1.8276520153865292,
          1.8243416628581433,
          1.8250231760379776,
          1.8110581701692603,
          1.8104985564797615,
          1.8097314516266576,
          1.798558349005696,
          1.7920944651211794,
          1.786120080632509,
          1.7749905242263415,
          1.7743753925214114,
          1.7652167595004378,
          1.764737524685241,
          1.7643911298664483,
          1.769523036509107,
          1.759995713743414,
          1.7480940593532488,
          1.73982431439465,
          1.7371851833232514,
          1.7299871468656065,
          1.7323238580694529,
          1.7209341618662128,
          1.713891905858941,
          1.713899184581786,
          1.703854363938203,
          1.700981609423062,
          1.70950799300196,
          1.691824434592704,
          1.696293715042448,
          1.6829179887676688,
          1.6720803887244702,
          1.6738074060244772,
          1.671659330883717,
          1.666378096159242,
          1.6643182665578933,
          1.6559072982464025,
          1.6441951700494508,
          1.6416763215832957,
          1.637427452798397,
          1.6336620945529312,
          1.6285920688676307,
          1.6190703940748394,
          1.618851425049173,
          1.620955730711498,
          1.6064911943067326,
          1.5997733729495642,
          1.5984154209669446,
          1.5947425111620623,
          1.5903042497145692,
          1.5780228710530555,
          1.5739984913377778,
          1.571679578390346,
          1.5689657060311557,
          1.5620420096379293,
          1.559397172374145,
          1.5498633139885336,
          1.544385812604455,
          1.5402955691220284,
          1.5370306562508038,
          1.523527779287409,
          1.52282406787441,
          1.521711559098804,
          1.5141353251726375,
          1.5091173539254787,
          1.5076881509064308,
          1.5001683079604744,
          1.5033396334825486,
          1.4949819341254744,
          1.4877968536673951,
          1.4712834148089948,
          1.474052971743023,
          1.472688416608939,
          1.4579964072127864,
          1.462155303099654,
          1.4506154941958582,
          1.4462356747677252,
          1.4497039388691506,
          1.4299294287875823,
          1.441146258149521,
          1.4312065207106124,
          1.420907423789488,
          1.4218562146919662,
          1.419790982958564,
          1.4091091550903836,
          1.4011824170411182,
          1.404154345809635,
          1.390227433913874,
          1.389866334080364,
          1.3791159628040883,
          1.37816985910965,
          1.3765651018596998,
          1.3683996037066437,
          1.3605749678751686,
          1.3599104252836438,
          1.3509332962763931,
          1.3556794701646135,
          1.3540205708973445,
          1.341762460770013,
          1.3391975132314309,
          1.328898961395504,
          1.3320122269204886,
          1.3223353171902046,
          1.312108800693079,
          1.304413427341349,
          1.3200310955375127,
          1.2988478422597274,
          1.30254101736836,
          1.2870365986190366,
          1.285848291359001,
          1.2883588376764097,
          1.2783413021411505,
          1.2579681708384602,
          1.24178686910991,
          1.2476111633090028,
          1.232946491720674,
          1.2309484898446303,
          1.230397968555791,
          1.2206974724809825,
          1.210307712712401,
          1.2066209074172625,
          1.2057237218343233,
          1.2011707083939114,
          1.1919067298058663,
          1.1859493502680734,
          1.1860911178349478,
          1.1691864208876823,
          1.1660408873524628,
          1.1598368128632297,
          1.1419416882466935,
          1.1510513918710932,
          1.134170482973417,
          1.1325993613947416,
          1.1331590633812725,
          1.1166007046053734,
          1.1262063460801517,
          1.1159587710799874,
          1.1077723041013623,
          1.1075336381818566,
          1.1005891332447766,
          1.0925908994500562,
          1.087456685388673,
          1.0875799613219803,
          1.0758400758042836,
          1.072454615749279,
          1.0763539913811355,
          1.0716852276453803,
          1.0635129706965876,
          1.0597700685575966,
          1.048986955099116,
          1.036396529538486,
          1.041632610487517,
          1.0360377963288778,
          1.0326681133434323,
          1.027892379852147,
          1.0204149335437391,
          1.0177385508377048,
          1.0155830626281963,
          1.0116661798948683,
          1.011095970520563,
          0.9971310081993704,
          0.9918103489841744,
          0.9784282230745284,
          0.9792796273668368,
          0.967829715232912,
          0.9682160047944872,
          0.9630708601027888,
          0.9551021798209324,
          0.954664234779361,
          0.9559518766643176,
          0.9348537643436626,
          0.9460037553446822,
          0.93158499272178,
          0.93509924751778,
          0.925349701238104,
          0.9198850663894408,
          0.9071845451514998,
          0.912027381081192,
          0.910944242606161,
          0.8982616468068921,
          1.8682602703345608,
          1.8696214760160657,
          1.8594545071702857,
          1.8558803252594145,
          1.8478276061917276,
          1.8461524333396433,
          1.849859784385165,
          1.8446616335056265,
          1.8286107262049611,
          1.830185447127808,
          1.81858856947958,
          1.821936018539325,
          1.8218436461281988,
          1.8188572335528763,
          1.809428632444584,
          1.7998709923891525,
          1.794018795735292,
          1.7897809308243464,
          1.787339091992021,
          1.7775220917753067,
          1.777636158476828,
          1.7622756700501552,
          1.754711197314859,
          1.7470587541789484,
          1.7504138860150271,
          1.7363030479479875,
          1.7322996730867457,
          1.734783962780972,
          1.7220229822289987,
          1.721311068229144,
          1.7166447901731363,
          1.704413891474968,
          1.7043983746458604,
          1.7026685815692182,
          1.682214688407616,
          1.6905138406165063,
          1.6826523292618762,
          1.6920665459324349,
          1.6800098087315205,
          1.6716649766187153,
          1.6643344994631846,
          1.6583530511961029,
          1.653933621774757,
          1.658728727974904,
          1.645794240148629,
          1.647784881653437,
          1.6334920010541407,
          1.6318227081832548,
          1.6338869310617368,
          1.6226679595853688,
          1.6125537343484802,
          1.6134475394923522,
          1.6037648881122113,
          1.5981491970913244,
          1.5958048116962749,
          1.591833071521248,
          1.582940244451192,
          1.582638728888567,
          1.5789535227518106,
          1.565444291021072,
          1.5619209491132704,
          1.5538701404742656,
          1.5598435036686684,
          1.552316484549933,
          1.5400353993162703,
          1.543264027350597,
          1.530011351291587,
          1.5347260407041552,
          1.519869538006151,
          1.5319183977671529,
          1.518325893437371,
          1.5111605447467764,
          1.5070765126856986,
          1.5045283202537496,
          1.494853060893935,
          1.485945140543233,
          1.4862128632667857,
          1.4797449733887331,
          1.4697368952033345,
          1.4658001433120569,
          1.47240975449043,
          1.46770721756399,
          1.4563227664707856,
          1.439642610680267,
          1.4564163490402506,
          1.4356319223009322,
          1.4321881810477588,
          1.4273689333241817,
          1.428896799076735,
          1.419710985866033,
          1.4096515518839028,
          1.41575001070564,
          1.3989715623048742,
          1.398155103098213,
          1.398692962571824,
          1.3893191971423122,
          1.3889558088336358,
          1.3714511878626312,
          1.3760667107136326,
          1.3739363182204702,
          1.3703740309889212,
          1.3650556335660002,
          1.3510749148348302,
          1.3515899480684384,
          1.342840465764784,
          1.3415461554709047,
          1.3362878352617371,
          1.3381014616784892,
          1.323708811244544,
          1.325642023699261,
          1.3225418787333645,
          1.31647463555362,
          1.3033931137174728,
          1.2927112270903618,
          1.2993476403044997,
          1.2932121203288605,
          1.283225135446575,
          1.27794783261294,
          1.273851071759564,
          1.2725635930293389,
          1.2539073780666588,
          1.2648887804118405,
          1.256722319408052,
          1.2528465532628377,
          1.2482728388121576,
          1.24803296106419,
          1.2279985579572708,
          1.22494928818536,
          1.230636019396659,
          1.2154246550519785,
          1.2139106285100936,
          1.2068010006054275,
          1.2013116828360084,
          1.1916174147216798,
          1.1994798407171028,
          1.1881908996748958,
          1.1867854834221272,
          1.180030226495947,
          1.1693012025917189,
          1.1730940024318133,
          1.1765772672513768,
          1.1545055676608569,
          1.1611852079874214,
          1.1462214343525643,
          1.1443326294183584,
          1.1415208462361093,
          1.1348569192397953,
          1.1290668251595857,
          1.1292233456324128,
          1.1171388133571434,
          1.1143013651733022,
          1.1061723786680957,
          1.1088577789920502,
          1.1035742572961402,
          1.0926257182382857,
          1.0953768107810185,
          1.084648772838101,
          1.0795034388762872,
          1.0765031219167875,
          1.0647592415968825,
          1.0634756822467868,
          1.0611424014182478,
          1.0552707164550077,
          1.0476976417039694,
          1.0463496746703902,
          1.0313296319858247,
          1.0361646177036912,
          1.0270428121751718,
          1.0271985254571856,
          1.0257902285251004,
          1.0153933771088912,
          1.0095147548654235,
          1.003607593444711,
          0.9917620771754024,
          0.999689148737084,
          0.9882602458548786,
          0.9961810937569536,
          0.988228813650097,
          0.961438751942512,
          0.9585382233165056,
          0.9561198293151252,
          1.8715601460868816,
          1.8716170176185916,
          1.867922583679949,
          1.8526572577770293,
          1.8530106491376883,
          1.8544258607566055,
          1.8522428177432648,
          1.84243370438938,
          1.8396087574011235,
          1.8232805507249257,
          1.8200725867112115,
          1.8237568523832015,
          1.8167774828083447,
          1.804744858027464,
          1.8006339889671796,
          1.7960142906345569,
          1.789703588930808,
          1.7846694190205836,
          1.7728950129603172,
          1.7644177989572665,
          1.772213059773229,
          1.7733025175484969,
          1.763613076498732,
          1.757483422020997,
          1.73908433989408,
          1.7444468907840505,
          1.7228305715876715,
          1.735892068777228,
          1.728295230828977,
          1.7232963105506989,
          1.7217064842396634,
          1.7154862432357925,
          1.7121019791767746,
          1.6973421963409154,
          1.7093281093174617,
          1.695820911715664,
          1.6828028611367845,
          1.6799078513534793,
          1.6800360134943209,
          1.675612502917802,
          1.6697825725525686,
          1.6678152191160338,
          1.655072921176333,
          1.655921246402743,
          1.64045695998008,
          1.6429965115886953,
          1.6344794720372855,
          1.6303267570816755,
          1.6365772348517371,
          1.6302112417426426,
          1.629279461983458,
          1.6110655044323283,
          1.6043267013634992,
          1.601596144233382,
          1.6021013186845128,
          1.594659159482358,
          1.5965129266167568,
          1.591159205244597,
          1.5805008679519796,
          1.570760037157003,
          1.5698661590535568,
          1.566081045127136,
          1.5530051387442572,
          1.5527720232588282,
          1.5486247079453854,
          1.5439372195142478,
          1.5417065146714335,
          1.527873698920378,
          1.5365770325858403,
          1.5334224344941647,
          1.5257637768159094,
          1.5140453508136804,
          1.5129399583527237,
          1.509972079724289,
          1.5039274785612198,
          1.5003850203588476,
          1.5011731119467793,
          1.4896118862339096,
          1.485136380303075,
          1.4744990239029243,
          1.4701389148201736,
          1.462628522790249,
          1.4554045028828586,
          1.4508940665443557,
          1.4345839215717624,
          1.443621600845329,
          1.423997317992872,
          1.426916421970842,
          1.4285765378917223,
          1.4127725228924457,
          1.4103731138900586,
          1.4131184259601468,
          1.4013475580141423,
          1.3985721895960668,
          1.3873084860859526,
          1.3831048471159433,
          1.3861464526903733,
          1.379759764146688,
          1.3707221964149612,
          1.361527219968743,
          1.358048700520472,
          1.3481702600663916,
          1.354811896680456,
          1.337320305311622,
          1.3395844378693724,
          1.3280013221035007,
          1.3310182214176167,
          1.326747250212715,
          1.3234789124471362,
          1.3144299368438823,
          1.3197573214150244,
          1.3012684067734903,
          1.3019713505130774,
          1.305932923506864,
          1.2909579959880515,
          1.2899822749294478,
          1.2794058865485782,
          1.2715733023959834,
          1.2622384936806277,
          1.2688119170502887,
          1.2661929596539263,
          1.2548423995017683,
          1.2525238523245064,
          1.245306945838102,
          1.2434081320870354,
          1.2323402996571544,
          1.2275293779373049,
          1.22838506158524,
          1.2177609987200289,
          1.2168650961782308,
          1.203278747097785,
          1.2063649361081377,
          1.192549469678813,
          1.1907364573278478,
          1.196180791365461,
          1.1839058441655474,
          1.1759996541733273,
          1.178102373560523,
          1.165130004825801,
          1.1646786480006748,
          1.1609450895241824,
          1.1492858009591984,
          1.1463454725281828,
          1.1476519334785256,
          1.1445030586986689,
          1.1367067684770795,
          1.1299208193761563,
          1.124134345821718,
          1.1168736753599025,
          1.113577940423101,
          1.1126407787361094,
          1.102666628600098,
          1.106620376134432,
          1.0956222313721882,
          1.0816208657112143,
          1.086878122790527,
          1.0798409926947596,
          1.079639012932907,
          1.0691318673968468,
          1.0669275510128606,
          1.0630940890929983,
          1.0575195059175426,
          1.03981204741553,
          1.0435458012147234,
          1.0369047463279355,
          1.0319970804322054,
          1.03244813430152,
          1.0272552971658349,
          1.0105977383055305,
          1.0110477299244964,
          1.0035119414026996,
          0.993985008685106,
          1.0023853085281496,
          0.9955170600112594,
          0.9806520757949052,
          0.9753924430197952,
          0.9853533741998204,
          0.9742682601602264,
          0.9675845860946972,
          0.966221922661204,
          0.9600971142287744,
          0.9510004670911826,
          0.9554725775654256,
          0.9293253932736378,
          0.9477026569925454,
          0.929613922162543,
          0.9196437104964252,
          0.9236773573358448,
          0.9117460712543288,
          0.9022231446510104,
          0.9011917015079308,
          0.9066092454032126,
          0.8882719736298594,
          0.8964964044529493,
          0.8827834642529623,
          0.887045711926017,
          0.8722857889203456,
          0.8727623795760296,
          0.8659205263711655,
          0.853348348386368,
          0.8527145087572895,
          0.8498830027687198,
          0.8515271870515478,
          0.8401515056838506,
          0.8342625989266192,
          0.8206996733269041,
          0.8261674153040264,
          0.816360054320221,
          0.8150269217787709,
          0.8105048584178132,
          0.8083386692645638,
          0.8051844719386201,
          0.7922634902642576,
          0.7961012995992677,
          0.7881373639368348,
          0.7808477588275857,
          0.7783086700559771,
          0.7619704404853822,
          0.7659027650271983,
          0.7620101161060815,
          0.7574438607619847,
          0.7509718644896284
         ],
         "yaxis": "y"
        },
        {
         "hovertemplate": "color=Anomaly<br>symbol=x<br>cycle=%{x}<br>capacity=%{y}<extra></extra>",
         "legendgroup": "Anomaly, x",
         "marker": {
          "color": "#EF553B",
          "opacity": 0.8,
          "size": 6,
          "symbol": "diamond"
         },
         "mode": "markers",
         "name": "Anomaly, x",
         "orientation": "v",
         "showlegend": true,
         "type": "scatter",
         "x": [
          29,
          71,
          146,
          147,
          148,
          149,
          162,
          167,
          168,
          46,
          47,
          205,
          206,
          210,
          34,
          107,
          108,
          214
         ],
         "xaxis": "x",
         "y": [
          1.85652647603498,
          1.6381897366709262,
          1.2654316566259234,
          1.262438000782824,
          1.248388443840062,
          1.2605094049734695,
          1.190676398851544,
          1.1641789279159291,
          1.156900321368686,
          1.7769007840769329,
          1.7718279054610075,
          0.969674176988908,
          0.9671609967619784,
          0.942195033773607,
          1.8274387131101424,
          1.4609714688276614,
          1.4577230184670358,
          0.926767291601442
         ],
         "yaxis": "y"
        }
       ],
       "layout": {
        "legend": {
         "title": {
          "text": "color, symbol"
         },
         "tracegroupgap": 0
        },
        "template": {
         "data": {
          "bar": [
           {
            "error_x": {
             "color": "#2a3f5f"
            },
            "error_y": {
             "color": "#2a3f5f"
            },
            "marker": {
             "line": {
              "color": "#E5ECF6",
              "width": 0.5
             },
             "pattern": {
              "fillmode": "overlay",
              "size": 10,
              "solidity": 0.2
             }
            },
            "type": "bar"
           }
          ],
          "barpolar": [
           {
            "marker": {
             "line": {
              "color": "#E5ECF6",
              "width": 0.5
             },
             "pattern": {
              "fillmode": "overlay",
              "size": 10,
              "solidity": 0.2
             }
            },
            "type": "barpolar"
           }
          ],
          "carpet": [
           {
            "aaxis": {
             "endlinecolor": "#2a3f5f",
             "gridcolor": "white",
             "linecolor": "white",
             "minorgridcolor": "white",
             "startlinecolor": "#2a3f5f"
            },
            "baxis": {
             "endlinecolor": "#2a3f5f",
             "gridcolor": "white",
             "linecolor": "white",
             "minorgridcolor": "white",
             "startlinecolor": "#2a3f5f"
            },
            "type": "carpet"
           }
          ],
          "choropleth": [
           {
            "colorbar": {
             "outlinewidth": 0,
             "ticks": ""
            },
            "type": "choropleth"
           }
          ],
          "contour": [
           {
            "colorbar": {
             "outlinewidth": 0,
             "ticks": ""
            },
            "colorscale": [
             [
              0,
              "#0d0887"
             ],
             [
              0.1111111111111111,
              "#46039f"
             ],
             [
              0.2222222222222222,
              "#7201a8"
             ],
             [
              0.3333333333333333,
              "#9c179e"
             ],
             [
              0.4444444444444444,
              "#bd3786"
             ],
             [
              0.5555555555555556,
              "#d8576b"
             ],
             [
              0.6666666666666666,
              "#ed7953"
             ],
             [
              0.7777777777777778,
              "#fb9f3a"
             ],
             [
              0.8888888888888888,
              "#fdca26"
             ],
             [
              1,
              "#f0f921"
             ]
            ],
            "type": "contour"
           }
          ],
          "contourcarpet": [
           {
            "colorbar": {
             "outlinewidth": 0,
             "ticks": ""
            },
            "type": "contourcarpet"
           }
          ],
          "heatmap": [
           {
            "colorbar": {
             "outlinewidth": 0,
             "ticks": ""
            },
            "colorscale": [
             [
              0,
              "#0d0887"
             ],
             [
              0.1111111111111111,
              "#46039f"
             ],
             [
              0.2222222222222222,
              "#7201a8"
             ],
             [
              0.3333333333333333,
              "#9c179e"
             ],
             [
              0.4444444444444444,
              "#bd3786"
             ],
             [
              0.5555555555555556,
              "#d8576b"
             ],
             [
              0.6666666666666666,
              "#ed7953"
             ],
             [
              0.7777777777777778,
              "#fb9f3a"
             ],
             [
              0.8888888888888888,
              "#fdca26"
             ],
             [
              1,
              "#f0f921"
             ]
            ],
            "type": "heatmap"
           }
          ],
          "heatmapgl": [
           {
            "colorbar": {
             "outlinewidth": 0,
             "ticks": ""
            },
            "colorscale": [
             [
              0,
              "#0d0887"
             ],
             [
              0.1111111111111111,
              "#46039f"
             ],
             [
              0.2222222222222222,
              "#7201a8"
             ],
             [
              0.3333333333333333,
              "#9c179e"
             ],
             [
              0.4444444444444444,
              "#bd3786"
             ],
             [
              0.5555555555555556,
              "#d8576b"
             ],
             [
              0.6666666666666666,
              "#ed7953"
             ],
             [
              0.7777777777777778,
              "#fb9f3a"
             ],
             [
              0.8888888888888888,
              "#fdca26"
             ],
             [
              1,
              "#f0f921"
             ]
            ],
            "type": "heatmapgl"
           }
          ],
          "histogram": [
           {
            "marker": {
             "pattern": {
              "fillmode": "overlay",
              "size": 10,
              "solidity": 0.2
             }
            },
            "type": "histogram"
           }
          ],
          "histogram2d": [
           {
            "colorbar": {
             "outlinewidth": 0,
             "ticks": ""
            },
            "colorscale": [
             [
              0,
              "#0d0887"
             ],
             [
              0.1111111111111111,
              "#46039f"
             ],
             [
              0.2222222222222222,
              "#7201a8"
             ],
             [
              0.3333333333333333,
              "#9c179e"
             ],
             [
              0.4444444444444444,
              "#bd3786"
             ],
             [
              0.5555555555555556,
              "#d8576b"
             ],
             [
              0.6666666666666666,
              "#ed7953"
             ],
             [
              0.7777777777777778,
              "#fb9f3a"
             ],
             [
              0.8888888888888888,
              "#fdca26"
             ],
             [
              1,
              "#f0f921"
             ]
            ],
            "type": "histogram2d"
           }
          ],
          "histogram2dcontour": [
           {
            "colorbar": {
             "outlinewidth": 0,
             "ticks": ""
            },
            "colorscale": [
             [
              0,
              "#0d0887"
             ],
             [
              0.1111111111111111,
              "#46039f"
             ],
             [
              0.2222222222222222,
              "#7201a8"
             ],
             [
              0.3333333333333333,
              "#9c179e"
             ],
             [
              0.4444444444444444,
              "#bd3786"
             ],
             [
              0.5555555555555556,
              "#d8576b"
             ],
             [
              0.6666666666666666,
              "#ed7953"
             ],
             [
              0.7777777777777778,
              "#fb9f3a"
             ],
             [
              0.8888888888888888,
              "#fdca26"
             ],
             [
              1,
              "#f0f921"
             ]
            ],
            "type": "histogram2dcontour"
           }
          ],
          "mesh3d": [
           {
            "colorbar": {
             "outlinewidth": 0,
             "ticks": ""
            },
            "type": "mesh3d"
           }
          ],
          "parcoords": [
           {
            "line": {
             "colorbar": {
              "outlinewidth": 0,
              "ticks": ""
             }
            },
            "type": "parcoords"
           }
          ],
          "pie": [
           {
            "automargin": true,
            "type": "pie"
           }
          ],
          "scatter": [
           {
            "fillpattern": {
             "fillmode": "overlay",
             "size": 10,
             "solidity": 0.2
            },
            "type": "scatter"
           }
          ],
          "scatter3d": [
           {
            "line": {
             "colorbar": {
              "outlinewidth": 0,
              "ticks": ""
             }
            },
            "marker": {
             "colorbar": {
              "outlinewidth": 0,
              "ticks": ""
             }
            },
            "type": "scatter3d"
           }
          ],
          "scattercarpet": [
           {
            "marker": {
             "colorbar": {
              "outlinewidth": 0,
              "ticks": ""
             }
            },
            "type": "scattercarpet"
           }
          ],
          "scattergeo": [
           {
            "marker": {
             "colorbar": {
              "outlinewidth": 0,
              "ticks": ""
             }
            },
            "type": "scattergeo"
           }
          ],
          "scattergl": [
           {
            "marker": {
             "colorbar": {
              "outlinewidth": 0,
              "ticks": ""
             }
            },
            "type": "scattergl"
           }
          ],
          "scattermapbox": [
           {
            "marker": {
             "colorbar": {
              "outlinewidth": 0,
              "ticks": ""
             }
            },
            "type": "scattermapbox"
           }
          ],
          "scatterpolar": [
           {
            "marker": {
             "colorbar": {
              "outlinewidth": 0,
              "ticks": ""
             }
            },
            "type": "scatterpolar"
           }
          ],
          "scatterpolargl": [
           {
            "marker": {
             "colorbar": {
              "outlinewidth": 0,
              "ticks": ""
             }
            },
            "type": "scatterpolargl"
           }
          ],
          "scatterternary": [
           {
            "marker": {
             "colorbar": {
              "outlinewidth": 0,
              "ticks": ""
             }
            },
            "type": "scatterternary"
           }
          ],
          "surface": [
           {
            "colorbar": {
             "outlinewidth": 0,
             "ticks": ""
            },
            "colorscale": [
             [
              0,
              "#0d0887"
             ],
             [
              0.1111111111111111,
              "#46039f"
             ],
             [
              0.2222222222222222,
              "#7201a8"
             ],
             [
              0.3333333333333333,
              "#9c179e"
             ],
             [
              0.4444444444444444,
              "#bd3786"
             ],
             [
              0.5555555555555556,
              "#d8576b"
             ],
             [
              0.6666666666666666,
              "#ed7953"
             ],
             [
              0.7777777777777778,
              "#fb9f3a"
             ],
             [
              0.8888888888888888,
              "#fdca26"
             ],
             [
              1,
              "#f0f921"
             ]
            ],
            "type": "surface"
           }
          ],
          "table": [
           {
            "cells": {
             "fill": {
              "color": "#EBF0F8"
             },
             "line": {
              "color": "white"
             }
            },
            "header": {
             "fill": {
              "color": "#C8D4E3"
             },
             "line": {
              "color": "white"
             }
            },
            "type": "table"
           }
          ]
         },
         "layout": {
          "annotationdefaults": {
           "arrowcolor": "#2a3f5f",
           "arrowhead": 0,
           "arrowwidth": 1
          },
          "autotypenumbers": "strict",
          "coloraxis": {
           "colorbar": {
            "outlinewidth": 0,
            "ticks": ""
           }
          },
          "colorscale": {
           "diverging": [
            [
             0,
             "#8e0152"
            ],
            [
             0.1,
             "#c51b7d"
            ],
            [
             0.2,
             "#de77ae"
            ],
            [
             0.3,
             "#f1b6da"
            ],
            [
             0.4,
             "#fde0ef"
            ],
            [
             0.5,
             "#f7f7f7"
            ],
            [
             0.6,
             "#e6f5d0"
            ],
            [
             0.7,
             "#b8e186"
            ],
            [
             0.8,
             "#7fbc41"
            ],
            [
             0.9,
             "#4d9221"
            ],
            [
             1,
             "#276419"
            ]
           ],
           "sequential": [
            [
             0,
             "#0d0887"
            ],
            [
             0.1111111111111111,
             "#46039f"
            ],
            [
             0.2222222222222222,
             "#7201a8"
            ],
            [
             0.3333333333333333,
             "#9c179e"
            ],
            [
             0.4444444444444444,
             "#bd3786"
            ],
            [
             0.5555555555555556,
             "#d8576b"
            ],
            [
             0.6666666666666666,
             "#ed7953"
            ],
            [
             0.7777777777777778,
             "#fb9f3a"
            ],
            [
             0.8888888888888888,
             "#fdca26"
            ],
            [
             1,
             "#f0f921"
            ]
           ],
           "sequentialminus": [
            [
             0,
             "#0d0887"
            ],
            [
             0.1111111111111111,
             "#46039f"
            ],
            [
             0.2222222222222222,
             "#7201a8"
            ],
            [
             0.3333333333333333,
             "#9c179e"
            ],
            [
             0.4444444444444444,
             "#bd3786"
            ],
            [
             0.5555555555555556,
             "#d8576b"
            ],
            [
             0.6666666666666666,
             "#ed7953"
            ],
            [
             0.7777777777777778,
             "#fb9f3a"
            ],
            [
             0.8888888888888888,
             "#fdca26"
            ],
            [
             1,
             "#f0f921"
            ]
           ]
          },
          "colorway": [
           "#636efa",
           "#EF553B",
           "#00cc96",
           "#ab63fa",
           "#FFA15A",
           "#19d3f3",
           "#FF6692",
           "#B6E880",
           "#FF97FF",
           "#FECB52"
          ],
          "font": {
           "color": "#2a3f5f"
          },
          "geo": {
           "bgcolor": "white",
           "lakecolor": "white",
           "landcolor": "#E5ECF6",
           "showlakes": true,
           "showland": true,
           "subunitcolor": "white"
          },
          "hoverlabel": {
           "align": "left"
          },
          "hovermode": "closest",
          "mapbox": {
           "style": "light"
          },
          "paper_bgcolor": "white",
          "plot_bgcolor": "#E5ECF6",
          "polar": {
           "angularaxis": {
            "gridcolor": "white",
            "linecolor": "white",
            "ticks": ""
           },
           "bgcolor": "#E5ECF6",
           "radialaxis": {
            "gridcolor": "white",
            "linecolor": "white",
            "ticks": ""
           }
          },
          "scene": {
           "xaxis": {
            "backgroundcolor": "#E5ECF6",
            "gridcolor": "white",
            "gridwidth": 2,
            "linecolor": "white",
            "showbackground": true,
            "ticks": "",
            "zerolinecolor": "white"
           },
           "yaxis": {
            "backgroundcolor": "#E5ECF6",
            "gridcolor": "white",
            "gridwidth": 2,
            "linecolor": "white",
            "showbackground": true,
            "ticks": "",
            "zerolinecolor": "white"
           },
           "zaxis": {
            "backgroundcolor": "#E5ECF6",
            "gridcolor": "white",
            "gridwidth": 2,
            "linecolor": "white",
            "showbackground": true,
            "ticks": "",
            "zerolinecolor": "white"
           }
          },
          "shapedefaults": {
           "line": {
            "color": "#2a3f5f"
           }
          },
          "ternary": {
           "aaxis": {
            "gridcolor": "white",
            "linecolor": "white",
            "ticks": ""
           },
           "baxis": {
            "gridcolor": "white",
            "linecolor": "white",
            "ticks": ""
           },
           "bgcolor": "#E5ECF6",
           "caxis": {
            "gridcolor": "white",
            "linecolor": "white",
            "ticks": ""
           }
          },
          "title": {
           "x": 0.05
          },
          "xaxis": {
           "automargin": true,
           "gridcolor": "white",
           "linecolor": "white",
           "ticks": "",
           "title": {
            "standoff": 15
           },
           "zerolinecolor": "white",
           "zerolinewidth": 2
          },
          "yaxis": {
           "automargin": true,
           "gridcolor": "white",
           "linecolor": "white",
           "ticks": "",
           "title": {
            "standoff": 15
           },
           "zerolinecolor": "white",
           "zerolinewidth": 2
          }
         }
        },
        "title": {
         "text": "Anomalies Detected by SVM"
        },
        "xaxis": {
         "anchor": "y",
         "domain": [
          0,
          1
         ],
         "title": {
          "text": "cycle"
         }
        },
        "yaxis": {
         "anchor": "x",
         "domain": [
          0,
          1
         ],
         "title": {
          "text": "capacity"
         }
        }
       }
      }
     },
     "metadata": {},
     "output_type": "display_data"
    },
    {
     "data": {
      "application/vnd.plotly.v1+json": {
       "config": {
        "plotlyServerURL": "https://plot.ly"
       },
       "data": [
        {
         "hovertemplate": "color=Normal<br>symbol=circle<br>cycle=%{x}<br>capacity=%{y}<extra></extra>",
         "legendgroup": "Normal, circle",
         "marker": {
          "color": "#00CC96",
          "opacity": 0.8,
          "size": 6,
          "symbol": "circle"
         },
         "mode": "markers",
         "name": "Normal, circle",
         "orientation": "v",
         "showlegend": true,
         "type": "scatter",
         "x": [
          25,
          26,
          27,
          28,
          29,
          30,
          31,
          32,
          33,
          34,
          35,
          36,
          37,
          38,
          39,
          40,
          41,
          42,
          43,
          44,
          45,
          46,
          47,
          48,
          49,
          50,
          51,
          52,
          53,
          54,
          55,
          56,
          57,
          58,
          59,
          60,
          61,
          62,
          63,
          64,
          65,
          66,
          67,
          68,
          69,
          70,
          71,
          72,
          73,
          74,
          75,
          76,
          77,
          78,
          79,
          80,
          81,
          82,
          83,
          84,
          85,
          86,
          87,
          88,
          89,
          90,
          91,
          92,
          93,
          94,
          95,
          96,
          97,
          98,
          99,
          100,
          101,
          102,
          103,
          104,
          105,
          106,
          107,
          108,
          109,
          110,
          111,
          112,
          113,
          114,
          115,
          116,
          117,
          118,
          119,
          120,
          121,
          122,
          123,
          124,
          125,
          126,
          127,
          128,
          129,
          130,
          131,
          132,
          133,
          134,
          135,
          137,
          138,
          139,
          140,
          141,
          142,
          143,
          144,
          148,
          149,
          150,
          151,
          152,
          153,
          154,
          155,
          156,
          157,
          158,
          159,
          160,
          161,
          162,
          164,
          165,
          166,
          167,
          168,
          169,
          170,
          171,
          172,
          173,
          174,
          175,
          176,
          177,
          178,
          179,
          180,
          181,
          182,
          183,
          184,
          185,
          186,
          187,
          188,
          190,
          191,
          192,
          193,
          194,
          195,
          196,
          197,
          198,
          199,
          200,
          201,
          202,
          203,
          204,
          205,
          206,
          207,
          208,
          209,
          210,
          211,
          212,
          213,
          214,
          215,
          216,
          217,
          218,
          219,
          220,
          25,
          26,
          27,
          28,
          29,
          30,
          31,
          32,
          33,
          34,
          35,
          36,
          37,
          38,
          39,
          40,
          41,
          42,
          43,
          44,
          45,
          50,
          51,
          52,
          53,
          54,
          55,
          56,
          57,
          58,
          59,
          60,
          63,
          64,
          65,
          66,
          67,
          68,
          69,
          70,
          71,
          72,
          73,
          74,
          75,
          76,
          77,
          78,
          79,
          80,
          81,
          82,
          83,
          84,
          85,
          86,
          87,
          88,
          89,
          90,
          91,
          92,
          93,
          94,
          95,
          96,
          97,
          98,
          99,
          100,
          101,
          102,
          103,
          104,
          105,
          106,
          107,
          108,
          109,
          110,
          111,
          112,
          113,
          114,
          115,
          116,
          117,
          118,
          119,
          120,
          121,
          122,
          123,
          124,
          125,
          126,
          127,
          128,
          129,
          130,
          131,
          132,
          133,
          135,
          136,
          137,
          138,
          139,
          140,
          141,
          142,
          143,
          144,
          145,
          146,
          147,
          148,
          149,
          150,
          151,
          152,
          153,
          154,
          155,
          156,
          157,
          158,
          159,
          160,
          161,
          162,
          163,
          164,
          165,
          166,
          167,
          168,
          169,
          170,
          171,
          172,
          173,
          174,
          175,
          176,
          177,
          178,
          179,
          180,
          181,
          182,
          183,
          184,
          185,
          186,
          187,
          188,
          189,
          190,
          191,
          192,
          193,
          194,
          195,
          196,
          197,
          198,
          199,
          200,
          201,
          202,
          203,
          204,
          206,
          207,
          208,
          209,
          210,
          25,
          26,
          27,
          28,
          29,
          30,
          31,
          32,
          33,
          34,
          35,
          36,
          37,
          38,
          39,
          40,
          41,
          42,
          43,
          44,
          45,
          46,
          47,
          48,
          49,
          50,
          51,
          52,
          53,
          54,
          55,
          56,
          57,
          58,
          59,
          60,
          61,
          62,
          63,
          64,
          65,
          66,
          67,
          68,
          69,
          70,
          71,
          72,
          73,
          74,
          75,
          76,
          77,
          78,
          79,
          80,
          81,
          82,
          84,
          85,
          86,
          87,
          88,
          89,
          90,
          91,
          92,
          93,
          94,
          95,
          96,
          97,
          98,
          99,
          100,
          101,
          102,
          103,
          104,
          105,
          110,
          111,
          112,
          113,
          114,
          115,
          116,
          117,
          118,
          119,
          120,
          121,
          122,
          123,
          124,
          125,
          126,
          127,
          128,
          129,
          130,
          131,
          132,
          133,
          134,
          135,
          136,
          137,
          138,
          139,
          140,
          141,
          142,
          143,
          144,
          145,
          146,
          147,
          148,
          149,
          150,
          151,
          152,
          153,
          154,
          155,
          156,
          157,
          158,
          159,
          160,
          161,
          162,
          163,
          164,
          165,
          166,
          167,
          168,
          169,
          170,
          171,
          172,
          173,
          174,
          175,
          176,
          177,
          178,
          179,
          180,
          181,
          182,
          183,
          184,
          185,
          186,
          187,
          188,
          189,
          190,
          191,
          192,
          193,
          194,
          195,
          196,
          197,
          198,
          199,
          200,
          201,
          202,
          203,
          204,
          205,
          206,
          207,
          208,
          209,
          210,
          211,
          212,
          213,
          214,
          215,
          216,
          217,
          218,
          219,
          220,
          221,
          222,
          223,
          224,
          225,
          226,
          227,
          228,
          229,
          230,
          231,
          232,
          233,
          234,
          235,
          236,
          237,
          238,
          239,
          240,
          241,
          242,
          243,
          244,
          245,
          246,
          247,
          248,
          249,
          250
         ],
         "xaxis": "x",
         "y": [
          1.8783020419890513,
          1.8690386029237387,
          1.8712057465115557,
          1.860995593267933,
          1.85652647603498,
          1.8577588742918512,
          1.8399530815449032,
          1.844025621373125,
          1.833854949902544,
          1.8276520153865292,
          1.8243416628581433,
          1.8250231760379776,
          1.8110581701692603,
          1.8104985564797615,
          1.8097314516266576,
          1.798558349005696,
          1.7920944651211794,
          1.786120080632509,
          1.7749905242263415,
          1.7743753925214114,
          1.7652167595004378,
          1.764737524685241,
          1.7643911298664483,
          1.769523036509107,
          1.759995713743414,
          1.7480940593532488,
          1.73982431439465,
          1.7371851833232514,
          1.7299871468656065,
          1.7323238580694529,
          1.7209341618662128,
          1.713891905858941,
          1.713899184581786,
          1.703854363938203,
          1.700981609423062,
          1.70950799300196,
          1.691824434592704,
          1.696293715042448,
          1.6829179887676688,
          1.6720803887244702,
          1.6738074060244772,
          1.671659330883717,
          1.666378096159242,
          1.6643182665578933,
          1.6559072982464025,
          1.6441951700494508,
          1.6381897366709262,
          1.6416763215832957,
          1.637427452798397,
          1.6336620945529312,
          1.6285920688676307,
          1.6190703940748394,
          1.618851425049173,
          1.620955730711498,
          1.6064911943067326,
          1.5997733729495642,
          1.5984154209669446,
          1.5947425111620623,
          1.5903042497145692,
          1.5780228710530555,
          1.5739984913377778,
          1.571679578390346,
          1.5689657060311557,
          1.5620420096379293,
          1.559397172374145,
          1.5498633139885336,
          1.544385812604455,
          1.5402955691220284,
          1.5370306562508038,
          1.523527779287409,
          1.52282406787441,
          1.521711559098804,
          1.5141353251726375,
          1.5091173539254787,
          1.5076881509064308,
          1.5001683079604744,
          1.5033396334825486,
          1.4949819341254744,
          1.4877968536673951,
          1.4712834148089948,
          1.474052971743023,
          1.472688416608939,
          1.4579964072127864,
          1.462155303099654,
          1.4506154941958582,
          1.4462356747677252,
          1.4497039388691506,
          1.4299294287875823,
          1.441146258149521,
          1.4312065207106124,
          1.420907423789488,
          1.4218562146919662,
          1.419790982958564,
          1.4091091550903836,
          1.4011824170411182,
          1.404154345809635,
          1.390227433913874,
          1.389866334080364,
          1.3791159628040883,
          1.37816985910965,
          1.3765651018596998,
          1.3683996037066437,
          1.3605749678751686,
          1.3599104252836438,
          1.3509332962763931,
          1.3556794701646135,
          1.3540205708973445,
          1.341762460770013,
          1.3391975132314309,
          1.328898961395504,
          1.3320122269204886,
          1.312108800693079,
          1.304413427341349,
          1.3200310955375127,
          1.2988478422597274,
          1.30254101736836,
          1.2870365986190366,
          1.285848291359001,
          1.2883588376764097,
          1.248388443840062,
          1.2605094049734695,
          1.2579681708384602,
          1.24178686910991,
          1.2476111633090028,
          1.232946491720674,
          1.2309484898446303,
          1.230397968555791,
          1.2206974724809825,
          1.210307712712401,
          1.2066209074172625,
          1.2057237218343233,
          1.2011707083939114,
          1.1919067298058663,
          1.190676398851544,
          1.1860911178349478,
          1.1691864208876823,
          1.1660408873524628,
          1.1641789279159291,
          1.156900321368686,
          1.1598368128632297,
          1.1419416882466935,
          1.1510513918710932,
          1.134170482973417,
          1.1325993613947416,
          1.1331590633812725,
          1.1166007046053734,
          1.1262063460801517,
          1.1159587710799874,
          1.1077723041013623,
          1.1075336381818566,
          1.1005891332447766,
          1.0925908994500562,
          1.087456685388673,
          1.0875799613219803,
          1.0758400758042836,
          1.072454615749279,
          1.0763539913811355,
          1.0716852276453803,
          1.0635129706965876,
          1.048986955099116,
          1.036396529538486,
          1.041632610487517,
          1.0360377963288778,
          1.0326681133434323,
          1.027892379852147,
          1.0204149335437391,
          1.0177385508377048,
          1.0155830626281963,
          1.0116661798948683,
          1.011095970520563,
          0.9971310081993704,
          0.9918103489841744,
          0.9784282230745284,
          0.9792796273668368,
          0.967829715232912,
          0.9682160047944872,
          0.9630708601027888,
          0.9551021798209324,
          0.954664234779361,
          0.9559518766643176,
          0.9348537643436626,
          0.9460037553446822,
          0.93158499272178,
          0.93509924751778,
          0.925349701238104,
          0.9198850663894408,
          0.9071845451514998,
          0.912027381081192,
          0.910944242606161,
          0.8982616468068921,
          1.8682602703345608,
          1.8696214760160657,
          1.8594545071702857,
          1.8558803252594145,
          1.8478276061917276,
          1.8461524333396433,
          1.849859784385165,
          1.8446616335056265,
          1.8286107262049611,
          1.830185447127808,
          1.81858856947958,
          1.821936018539325,
          1.8218436461281988,
          1.8188572335528763,
          1.809428632444584,
          1.7998709923891525,
          1.794018795735292,
          1.7897809308243464,
          1.787339091992021,
          1.7775220917753067,
          1.777636158476828,
          1.7470587541789484,
          1.7504138860150271,
          1.7363030479479875,
          1.7322996730867457,
          1.734783962780972,
          1.7220229822289987,
          1.721311068229144,
          1.7166447901731363,
          1.704413891474968,
          1.7043983746458604,
          1.7026685815692182,
          1.6826523292618762,
          1.6920665459324349,
          1.6800098087315205,
          1.6716649766187153,
          1.6643344994631846,
          1.6583530511961029,
          1.653933621774757,
          1.658728727974904,
          1.645794240148629,
          1.647784881653437,
          1.6334920010541407,
          1.6318227081832548,
          1.6338869310617368,
          1.6226679595853688,
          1.6125537343484802,
          1.6134475394923522,
          1.6037648881122113,
          1.5981491970913244,
          1.5958048116962749,
          1.591833071521248,
          1.582940244451192,
          1.582638728888567,
          1.5789535227518106,
          1.565444291021072,
          1.5619209491132704,
          1.5538701404742656,
          1.5598435036686684,
          1.552316484549933,
          1.5400353993162703,
          1.543264027350597,
          1.530011351291587,
          1.5347260407041552,
          1.519869538006151,
          1.5319183977671529,
          1.518325893437371,
          1.5111605447467764,
          1.5070765126856986,
          1.5045283202537496,
          1.494853060893935,
          1.485945140543233,
          1.4862128632667857,
          1.4797449733887331,
          1.4697368952033345,
          1.4658001433120569,
          1.47240975449043,
          1.46770721756399,
          1.4563227664707856,
          1.439642610680267,
          1.4564163490402506,
          1.4356319223009322,
          1.4321881810477588,
          1.4273689333241817,
          1.428896799076735,
          1.419710985866033,
          1.4096515518839028,
          1.41575001070564,
          1.3989715623048742,
          1.398155103098213,
          1.398692962571824,
          1.3893191971423122,
          1.3889558088336358,
          1.3714511878626312,
          1.3760667107136326,
          1.3739363182204702,
          1.3703740309889212,
          1.3650556335660002,
          1.3510749148348302,
          1.3515899480684384,
          1.342840465764784,
          1.3415461554709047,
          1.3362878352617371,
          1.323708811244544,
          1.325642023699261,
          1.3225418787333645,
          1.31647463555362,
          1.3033931137174728,
          1.2927112270903618,
          1.2993476403044997,
          1.2932121203288605,
          1.283225135446575,
          1.27794783261294,
          1.273851071759564,
          1.2725635930293389,
          1.2539073780666588,
          1.2648887804118405,
          1.256722319408052,
          1.2528465532628377,
          1.2482728388121576,
          1.24803296106419,
          1.2279985579572708,
          1.22494928818536,
          1.230636019396659,
          1.2154246550519785,
          1.2139106285100936,
          1.2068010006054275,
          1.2013116828360084,
          1.1916174147216798,
          1.1994798407171028,
          1.1881908996748958,
          1.1867854834221272,
          1.180030226495947,
          1.1693012025917189,
          1.1730940024318133,
          1.1765772672513768,
          1.1545055676608569,
          1.1611852079874214,
          1.1462214343525643,
          1.1443326294183584,
          1.1415208462361093,
          1.1348569192397953,
          1.1290668251595857,
          1.1292233456324128,
          1.1171388133571434,
          1.1143013651733022,
          1.1061723786680957,
          1.1088577789920502,
          1.1035742572961402,
          1.0926257182382857,
          1.0953768107810185,
          1.084648772838101,
          1.0795034388762872,
          1.0765031219167875,
          1.0647592415968825,
          1.0634756822467868,
          1.0611424014182478,
          1.0552707164550077,
          1.0476976417039694,
          1.0463496746703902,
          1.0313296319858247,
          1.0361646177036912,
          1.0270428121751718,
          1.0271985254571856,
          1.0257902285251004,
          1.0153933771088912,
          1.0095147548654235,
          1.003607593444711,
          0.9917620771754024,
          0.999689148737084,
          0.9882602458548786,
          0.9961810937569536,
          0.988228813650097,
          0.9671609967619784,
          0.961438751942512,
          0.9585382233165056,
          0.9561198293151252,
          0.942195033773607,
          1.8715601460868816,
          1.8716170176185916,
          1.867922583679949,
          1.8526572577770293,
          1.8530106491376883,
          1.8544258607566055,
          1.8522428177432648,
          1.84243370438938,
          1.8396087574011235,
          1.8274387131101424,
          1.8232805507249257,
          1.8200725867112115,
          1.8237568523832015,
          1.8167774828083447,
          1.804744858027464,
          1.8006339889671796,
          1.7960142906345569,
          1.789703588930808,
          1.7846694190205836,
          1.7728950129603172,
          1.7644177989572665,
          1.772213059773229,
          1.7733025175484969,
          1.763613076498732,
          1.757483422020997,
          1.73908433989408,
          1.7444468907840505,
          1.7228305715876715,
          1.735892068777228,
          1.728295230828977,
          1.7232963105506989,
          1.7217064842396634,
          1.7154862432357925,
          1.7121019791767746,
          1.6973421963409154,
          1.7093281093174617,
          1.695820911715664,
          1.6828028611367845,
          1.6799078513534793,
          1.6800360134943209,
          1.675612502917802,
          1.6697825725525686,
          1.6678152191160338,
          1.655072921176333,
          1.655921246402743,
          1.64045695998008,
          1.6429965115886953,
          1.6344794720372855,
          1.6303267570816755,
          1.6365772348517371,
          1.6302112417426426,
          1.629279461983458,
          1.6110655044323283,
          1.6043267013634992,
          1.601596144233382,
          1.6021013186845128,
          1.594659159482358,
          1.5965129266167568,
          1.5805008679519796,
          1.570760037157003,
          1.5698661590535568,
          1.566081045127136,
          1.5530051387442572,
          1.5527720232588282,
          1.5486247079453854,
          1.5439372195142478,
          1.5417065146714335,
          1.527873698920378,
          1.5365770325858403,
          1.5334224344941647,
          1.5257637768159094,
          1.5140453508136804,
          1.5129399583527237,
          1.509972079724289,
          1.5039274785612198,
          1.5003850203588476,
          1.5011731119467793,
          1.4896118862339096,
          1.485136380303075,
          1.4744990239029243,
          1.4554045028828586,
          1.4508940665443557,
          1.4345839215717624,
          1.443621600845329,
          1.423997317992872,
          1.426916421970842,
          1.4285765378917223,
          1.4127725228924457,
          1.4103731138900586,
          1.4131184259601468,
          1.4013475580141423,
          1.3985721895960668,
          1.3873084860859526,
          1.3831048471159433,
          1.3861464526903733,
          1.379759764146688,
          1.3707221964149612,
          1.361527219968743,
          1.358048700520472,
          1.3481702600663916,
          1.354811896680456,
          1.337320305311622,
          1.3395844378693724,
          1.3280013221035007,
          1.3310182214176167,
          1.326747250212715,
          1.3234789124471362,
          1.3144299368438823,
          1.3197573214150244,
          1.3012684067734903,
          1.3019713505130774,
          1.305932923506864,
          1.2909579959880515,
          1.2899822749294478,
          1.2794058865485782,
          1.2715733023959834,
          1.2622384936806277,
          1.2688119170502887,
          1.2661929596539263,
          1.2548423995017683,
          1.2525238523245064,
          1.245306945838102,
          1.2434081320870354,
          1.2323402996571544,
          1.2275293779373049,
          1.22838506158524,
          1.2177609987200289,
          1.2168650961782308,
          1.203278747097785,
          1.2063649361081377,
          1.192549469678813,
          1.1907364573278478,
          1.196180791365461,
          1.1839058441655474,
          1.1759996541733273,
          1.178102373560523,
          1.165130004825801,
          1.1646786480006748,
          1.1609450895241824,
          1.1492858009591984,
          1.1463454725281828,
          1.1476519334785256,
          1.1445030586986689,
          1.1367067684770795,
          1.1299208193761563,
          1.124134345821718,
          1.1168736753599025,
          1.113577940423101,
          1.1126407787361094,
          1.102666628600098,
          1.106620376134432,
          1.0956222313721882,
          1.0816208657112143,
          1.086878122790527,
          1.0798409926947596,
          1.079639012932907,
          1.0691318673968468,
          1.0669275510128606,
          1.0630940890929983,
          1.0575195059175426,
          1.03981204741553,
          1.0435458012147234,
          1.0369047463279355,
          1.0319970804322054,
          1.03244813430152,
          1.0272552971658349,
          1.0105977383055305,
          1.0110477299244964,
          1.0035119414026996,
          0.993985008685106,
          1.0023853085281496,
          0.9955170600112594,
          0.9806520757949052,
          0.9753924430197952,
          0.9853533741998204,
          0.9742682601602264,
          0.9675845860946972,
          0.966221922661204,
          0.9600971142287744,
          0.9510004670911826,
          0.9554725775654256,
          0.9293253932736378,
          0.9477026569925454,
          0.929613922162543,
          0.926767291601442,
          0.9196437104964252,
          0.9236773573358448,
          0.9117460712543288,
          0.9022231446510104,
          0.9011917015079308,
          0.9066092454032126,
          0.8882719736298594,
          0.8964964044529493,
          0.8827834642529623,
          0.887045711926017,
          0.8722857889203456,
          0.8727623795760296,
          0.8659205263711655,
          0.853348348386368,
          0.8527145087572895,
          0.8498830027687198,
          0.8515271870515478,
          0.8401515056838506,
          0.8342625989266192,
          0.8206996733269041,
          0.8261674153040264,
          0.816360054320221,
          0.8150269217787709,
          0.8105048584178132,
          0.8083386692645638,
          0.8051844719386201,
          0.7922634902642576,
          0.7961012995992677,
          0.7881373639368348,
          0.7808477588275857,
          0.7783086700559771,
          0.7619704404853822,
          0.7659027650271983,
          0.7620101161060815,
          0.7574438607619847,
          0.7509718644896284
         ],
         "yaxis": "y"
        },
        {
         "hovertemplate": "color=Anomaly<br>symbol=x<br>cycle=%{x}<br>capacity=%{y}<extra></extra>",
         "legendgroup": "Anomaly, x",
         "marker": {
          "color": "#EF553B",
          "opacity": 0.8,
          "size": 6,
          "symbol": "diamond"
         },
         "mode": "markers",
         "name": "Anomaly, x",
         "orientation": "v",
         "showlegend": true,
         "type": "scatter",
         "x": [
          136,
          145,
          146,
          147,
          163,
          189,
          46,
          47,
          48,
          49,
          61,
          62,
          134,
          205,
          83,
          106,
          107,
          108,
          109
         ],
         "xaxis": "x",
         "y": [
          1.3223353171902046,
          1.2783413021411505,
          1.2654316566259234,
          1.262438000782824,
          1.1859493502680734,
          1.0597700685575966,
          1.7769007840769329,
          1.7718279054610075,
          1.7622756700501552,
          1.754711197314859,
          1.682214688407616,
          1.6905138406165063,
          1.3381014616784892,
          0.969674176988908,
          1.591159205244597,
          1.4701389148201736,
          1.4609714688276614,
          1.4577230184670358,
          1.462628522790249
         ],
         "yaxis": "y"
        }
       ],
       "layout": {
        "legend": {
         "title": {
          "text": "color, symbol"
         },
         "tracegroupgap": 0
        },
        "template": {
         "data": {
          "bar": [
           {
            "error_x": {
             "color": "#2a3f5f"
            },
            "error_y": {
             "color": "#2a3f5f"
            },
            "marker": {
             "line": {
              "color": "#E5ECF6",
              "width": 0.5
             },
             "pattern": {
              "fillmode": "overlay",
              "size": 10,
              "solidity": 0.2
             }
            },
            "type": "bar"
           }
          ],
          "barpolar": [
           {
            "marker": {
             "line": {
              "color": "#E5ECF6",
              "width": 0.5
             },
             "pattern": {
              "fillmode": "overlay",
              "size": 10,
              "solidity": 0.2
             }
            },
            "type": "barpolar"
           }
          ],
          "carpet": [
           {
            "aaxis": {
             "endlinecolor": "#2a3f5f",
             "gridcolor": "white",
             "linecolor": "white",
             "minorgridcolor": "white",
             "startlinecolor": "#2a3f5f"
            },
            "baxis": {
             "endlinecolor": "#2a3f5f",
             "gridcolor": "white",
             "linecolor": "white",
             "minorgridcolor": "white",
             "startlinecolor": "#2a3f5f"
            },
            "type": "carpet"
           }
          ],
          "choropleth": [
           {
            "colorbar": {
             "outlinewidth": 0,
             "ticks": ""
            },
            "type": "choropleth"
           }
          ],
          "contour": [
           {
            "colorbar": {
             "outlinewidth": 0,
             "ticks": ""
            },
            "colorscale": [
             [
              0,
              "#0d0887"
             ],
             [
              0.1111111111111111,
              "#46039f"
             ],
             [
              0.2222222222222222,
              "#7201a8"
             ],
             [
              0.3333333333333333,
              "#9c179e"
             ],
             [
              0.4444444444444444,
              "#bd3786"
             ],
             [
              0.5555555555555556,
              "#d8576b"
             ],
             [
              0.6666666666666666,
              "#ed7953"
             ],
             [
              0.7777777777777778,
              "#fb9f3a"
             ],
             [
              0.8888888888888888,
              "#fdca26"
             ],
             [
              1,
              "#f0f921"
             ]
            ],
            "type": "contour"
           }
          ],
          "contourcarpet": [
           {
            "colorbar": {
             "outlinewidth": 0,
             "ticks": ""
            },
            "type": "contourcarpet"
           }
          ],
          "heatmap": [
           {
            "colorbar": {
             "outlinewidth": 0,
             "ticks": ""
            },
            "colorscale": [
             [
              0,
              "#0d0887"
             ],
             [
              0.1111111111111111,
              "#46039f"
             ],
             [
              0.2222222222222222,
              "#7201a8"
             ],
             [
              0.3333333333333333,
              "#9c179e"
             ],
             [
              0.4444444444444444,
              "#bd3786"
             ],
             [
              0.5555555555555556,
              "#d8576b"
             ],
             [
              0.6666666666666666,
              "#ed7953"
             ],
             [
              0.7777777777777778,
              "#fb9f3a"
             ],
             [
              0.8888888888888888,
              "#fdca26"
             ],
             [
              1,
              "#f0f921"
             ]
            ],
            "type": "heatmap"
           }
          ],
          "heatmapgl": [
           {
            "colorbar": {
             "outlinewidth": 0,
             "ticks": ""
            },
            "colorscale": [
             [
              0,
              "#0d0887"
             ],
             [
              0.1111111111111111,
              "#46039f"
             ],
             [
              0.2222222222222222,
              "#7201a8"
             ],
             [
              0.3333333333333333,
              "#9c179e"
             ],
             [
              0.4444444444444444,
              "#bd3786"
             ],
             [
              0.5555555555555556,
              "#d8576b"
             ],
             [
              0.6666666666666666,
              "#ed7953"
             ],
             [
              0.7777777777777778,
              "#fb9f3a"
             ],
             [
              0.8888888888888888,
              "#fdca26"
             ],
             [
              1,
              "#f0f921"
             ]
            ],
            "type": "heatmapgl"
           }
          ],
          "histogram": [
           {
            "marker": {
             "pattern": {
              "fillmode": "overlay",
              "size": 10,
              "solidity": 0.2
             }
            },
            "type": "histogram"
           }
          ],
          "histogram2d": [
           {
            "colorbar": {
             "outlinewidth": 0,
             "ticks": ""
            },
            "colorscale": [
             [
              0,
              "#0d0887"
             ],
             [
              0.1111111111111111,
              "#46039f"
             ],
             [
              0.2222222222222222,
              "#7201a8"
             ],
             [
              0.3333333333333333,
              "#9c179e"
             ],
             [
              0.4444444444444444,
              "#bd3786"
             ],
             [
              0.5555555555555556,
              "#d8576b"
             ],
             [
              0.6666666666666666,
              "#ed7953"
             ],
             [
              0.7777777777777778,
              "#fb9f3a"
             ],
             [
              0.8888888888888888,
              "#fdca26"
             ],
             [
              1,
              "#f0f921"
             ]
            ],
            "type": "histogram2d"
           }
          ],
          "histogram2dcontour": [
           {
            "colorbar": {
             "outlinewidth": 0,
             "ticks": ""
            },
            "colorscale": [
             [
              0,
              "#0d0887"
             ],
             [
              0.1111111111111111,
              "#46039f"
             ],
             [
              0.2222222222222222,
              "#7201a8"
             ],
             [
              0.3333333333333333,
              "#9c179e"
             ],
             [
              0.4444444444444444,
              "#bd3786"
             ],
             [
              0.5555555555555556,
              "#d8576b"
             ],
             [
              0.6666666666666666,
              "#ed7953"
             ],
             [
              0.7777777777777778,
              "#fb9f3a"
             ],
             [
              0.8888888888888888,
              "#fdca26"
             ],
             [
              1,
              "#f0f921"
             ]
            ],
            "type": "histogram2dcontour"
           }
          ],
          "mesh3d": [
           {
            "colorbar": {
             "outlinewidth": 0,
             "ticks": ""
            },
            "type": "mesh3d"
           }
          ],
          "parcoords": [
           {
            "line": {
             "colorbar": {
              "outlinewidth": 0,
              "ticks": ""
             }
            },
            "type": "parcoords"
           }
          ],
          "pie": [
           {
            "automargin": true,
            "type": "pie"
           }
          ],
          "scatter": [
           {
            "fillpattern": {
             "fillmode": "overlay",
             "size": 10,
             "solidity": 0.2
            },
            "type": "scatter"
           }
          ],
          "scatter3d": [
           {
            "line": {
             "colorbar": {
              "outlinewidth": 0,
              "ticks": ""
             }
            },
            "marker": {
             "colorbar": {
              "outlinewidth": 0,
              "ticks": ""
             }
            },
            "type": "scatter3d"
           }
          ],
          "scattercarpet": [
           {
            "marker": {
             "colorbar": {
              "outlinewidth": 0,
              "ticks": ""
             }
            },
            "type": "scattercarpet"
           }
          ],
          "scattergeo": [
           {
            "marker": {
             "colorbar": {
              "outlinewidth": 0,
              "ticks": ""
             }
            },
            "type": "scattergeo"
           }
          ],
          "scattergl": [
           {
            "marker": {
             "colorbar": {
              "outlinewidth": 0,
              "ticks": ""
             }
            },
            "type": "scattergl"
           }
          ],
          "scattermapbox": [
           {
            "marker": {
             "colorbar": {
              "outlinewidth": 0,
              "ticks": ""
             }
            },
            "type": "scattermapbox"
           }
          ],
          "scatterpolar": [
           {
            "marker": {
             "colorbar": {
              "outlinewidth": 0,
              "ticks": ""
             }
            },
            "type": "scatterpolar"
           }
          ],
          "scatterpolargl": [
           {
            "marker": {
             "colorbar": {
              "outlinewidth": 0,
              "ticks": ""
             }
            },
            "type": "scatterpolargl"
           }
          ],
          "scatterternary": [
           {
            "marker": {
             "colorbar": {
              "outlinewidth": 0,
              "ticks": ""
             }
            },
            "type": "scatterternary"
           }
          ],
          "surface": [
           {
            "colorbar": {
             "outlinewidth": 0,
             "ticks": ""
            },
            "colorscale": [
             [
              0,
              "#0d0887"
             ],
             [
              0.1111111111111111,
              "#46039f"
             ],
             [
              0.2222222222222222,
              "#7201a8"
             ],
             [
              0.3333333333333333,
              "#9c179e"
             ],
             [
              0.4444444444444444,
              "#bd3786"
             ],
             [
              0.5555555555555556,
              "#d8576b"
             ],
             [
              0.6666666666666666,
              "#ed7953"
             ],
             [
              0.7777777777777778,
              "#fb9f3a"
             ],
             [
              0.8888888888888888,
              "#fdca26"
             ],
             [
              1,
              "#f0f921"
             ]
            ],
            "type": "surface"
           }
          ],
          "table": [
           {
            "cells": {
             "fill": {
              "color": "#EBF0F8"
             },
             "line": {
              "color": "white"
             }
            },
            "header": {
             "fill": {
              "color": "#C8D4E3"
             },
             "line": {
              "color": "white"
             }
            },
            "type": "table"
           }
          ]
         },
         "layout": {
          "annotationdefaults": {
           "arrowcolor": "#2a3f5f",
           "arrowhead": 0,
           "arrowwidth": 1
          },
          "autotypenumbers": "strict",
          "coloraxis": {
           "colorbar": {
            "outlinewidth": 0,
            "ticks": ""
           }
          },
          "colorscale": {
           "diverging": [
            [
             0,
             "#8e0152"
            ],
            [
             0.1,
             "#c51b7d"
            ],
            [
             0.2,
             "#de77ae"
            ],
            [
             0.3,
             "#f1b6da"
            ],
            [
             0.4,
             "#fde0ef"
            ],
            [
             0.5,
             "#f7f7f7"
            ],
            [
             0.6,
             "#e6f5d0"
            ],
            [
             0.7,
             "#b8e186"
            ],
            [
             0.8,
             "#7fbc41"
            ],
            [
             0.9,
             "#4d9221"
            ],
            [
             1,
             "#276419"
            ]
           ],
           "sequential": [
            [
             0,
             "#0d0887"
            ],
            [
             0.1111111111111111,
             "#46039f"
            ],
            [
             0.2222222222222222,
             "#7201a8"
            ],
            [
             0.3333333333333333,
             "#9c179e"
            ],
            [
             0.4444444444444444,
             "#bd3786"
            ],
            [
             0.5555555555555556,
             "#d8576b"
            ],
            [
             0.6666666666666666,
             "#ed7953"
            ],
            [
             0.7777777777777778,
             "#fb9f3a"
            ],
            [
             0.8888888888888888,
             "#fdca26"
            ],
            [
             1,
             "#f0f921"
            ]
           ],
           "sequentialminus": [
            [
             0,
             "#0d0887"
            ],
            [
             0.1111111111111111,
             "#46039f"
            ],
            [
             0.2222222222222222,
             "#7201a8"
            ],
            [
             0.3333333333333333,
             "#9c179e"
            ],
            [
             0.4444444444444444,
             "#bd3786"
            ],
            [
             0.5555555555555556,
             "#d8576b"
            ],
            [
             0.6666666666666666,
             "#ed7953"
            ],
            [
             0.7777777777777778,
             "#fb9f3a"
            ],
            [
             0.8888888888888888,
             "#fdca26"
            ],
            [
             1,
             "#f0f921"
            ]
           ]
          },
          "colorway": [
           "#636efa",
           "#EF553B",
           "#00cc96",
           "#ab63fa",
           "#FFA15A",
           "#19d3f3",
           "#FF6692",
           "#B6E880",
           "#FF97FF",
           "#FECB52"
          ],
          "font": {
           "color": "#2a3f5f"
          },
          "geo": {
           "bgcolor": "white",
           "lakecolor": "white",
           "landcolor": "#E5ECF6",
           "showlakes": true,
           "showland": true,
           "subunitcolor": "white"
          },
          "hoverlabel": {
           "align": "left"
          },
          "hovermode": "closest",
          "mapbox": {
           "style": "light"
          },
          "paper_bgcolor": "white",
          "plot_bgcolor": "#E5ECF6",
          "polar": {
           "angularaxis": {
            "gridcolor": "white",
            "linecolor": "white",
            "ticks": ""
           },
           "bgcolor": "#E5ECF6",
           "radialaxis": {
            "gridcolor": "white",
            "linecolor": "white",
            "ticks": ""
           }
          },
          "scene": {
           "xaxis": {
            "backgroundcolor": "#E5ECF6",
            "gridcolor": "white",
            "gridwidth": 2,
            "linecolor": "white",
            "showbackground": true,
            "ticks": "",
            "zerolinecolor": "white"
           },
           "yaxis": {
            "backgroundcolor": "#E5ECF6",
            "gridcolor": "white",
            "gridwidth": 2,
            "linecolor": "white",
            "showbackground": true,
            "ticks": "",
            "zerolinecolor": "white"
           },
           "zaxis": {
            "backgroundcolor": "#E5ECF6",
            "gridcolor": "white",
            "gridwidth": 2,
            "linecolor": "white",
            "showbackground": true,
            "ticks": "",
            "zerolinecolor": "white"
           }
          },
          "shapedefaults": {
           "line": {
            "color": "#2a3f5f"
           }
          },
          "ternary": {
           "aaxis": {
            "gridcolor": "white",
            "linecolor": "white",
            "ticks": ""
           },
           "baxis": {
            "gridcolor": "white",
            "linecolor": "white",
            "ticks": ""
           },
           "bgcolor": "#E5ECF6",
           "caxis": {
            "gridcolor": "white",
            "linecolor": "white",
            "ticks": ""
           }
          },
          "title": {
           "x": 0.05
          },
          "xaxis": {
           "automargin": true,
           "gridcolor": "white",
           "linecolor": "white",
           "ticks": "",
           "title": {
            "standoff": 15
           },
           "zerolinecolor": "white",
           "zerolinewidth": 2
          },
          "yaxis": {
           "automargin": true,
           "gridcolor": "white",
           "linecolor": "white",
           "ticks": "",
           "title": {
            "standoff": 15
           },
           "zerolinecolor": "white",
           "zerolinewidth": 2
          }
         }
        },
        "title": {
         "text": "Anomalies Detected by EE"
        },
        "xaxis": {
         "anchor": "y",
         "domain": [
          0,
          1
         ],
         "title": {
          "text": "cycle"
         }
        },
        "yaxis": {
         "anchor": "x",
         "domain": [
          0,
          1
         ],
         "title": {
          "text": "capacity"
         }
        }
       }
      }
     },
     "metadata": {},
     "output_type": "display_data"
    }
   ],
   "source": [
    "import plotly.express as px\n",
    "\n",
    "def plot_anomalies(df, model_col, title):\n",
    "    fig = px.scatter(\n",
    "        df, x=\"cycle\", y=\"capacity\",\n",
    "        color=df[model_col].map({0:\"Normal\", 1:\"Anomaly\"}),\n",
    "        title=title,\n",
    "        symbol=df[model_col].map({0:\"circle\",1:\"x\"}),\n",
    "        opacity=0.8,\n",
    "        color_discrete_map={\"Normal\":\"#00CC96\",\"Anomaly\":\"#EF553B\"}\n",
    "    )\n",
    "    fig.update_traces(marker=dict(size=6))\n",
    "    fig.show()\n",
    "\n",
    "for model in [\"iso\",\"lof\",\"svm\",\"ee\"]:\n",
    "    plot_anomalies(df_model, f\"anomaly_{model}\", f\"Anomalies Detected by {model.upper()}\")\n"
   ]
  },
  {
   "cell_type": "code",
   "execution_count": 14,
   "id": "4f947694",
   "metadata": {},
   "outputs": [
    {
     "name": "stderr",
     "output_type": "stream",
     "text": [
      "/opt/anaconda3/lib/python3.11/site-packages/plotly/express/_core.py:1979: FutureWarning:\n",
      "\n",
      "When grouping with a length-1 list-like, you will need to pass a length-1 tuple to get_group in a future version of pandas. Pass `(name,)` instead of `name` to silence this warning.\n",
      "\n"
     ]
    },
    {
     "data": {
      "application/vnd.plotly.v1+json": {
       "config": {
        "plotlyServerURL": "https://plot.ly"
       },
       "data": [
        {
         "hovertemplate": "agreement_level=Normal (All agree)<br>cycle=%{x}<br>capacity=%{y}<extra></extra>",
         "legendgroup": "Normal (All agree)",
         "marker": {
          "color": "#2E91E5",
          "opacity": 0.8,
          "size": 6,
          "symbol": "circle"
         },
         "mode": "markers",
         "name": "Normal (All agree)",
         "orientation": "v",
         "showlegend": true,
         "type": "scatter",
         "x": [
          25,
          26,
          27,
          28,
          30,
          31,
          32,
          33,
          34,
          35,
          36,
          37,
          38,
          39,
          40,
          41,
          42,
          43,
          44,
          45,
          46,
          49,
          50,
          51,
          52,
          53,
          54,
          55,
          56,
          57,
          58,
          59,
          60,
          61,
          62,
          63,
          64,
          65,
          66,
          67,
          68,
          69,
          70,
          72,
          73,
          74,
          75,
          76,
          77,
          78,
          79,
          80,
          81,
          82,
          83,
          84,
          85,
          86,
          87,
          88,
          89,
          90,
          91,
          92,
          93,
          94,
          95,
          96,
          97,
          98,
          99,
          100,
          101,
          102,
          103,
          104,
          105,
          106,
          107,
          108,
          109,
          110,
          111,
          112,
          113,
          114,
          115,
          116,
          117,
          118,
          119,
          120,
          121,
          122,
          123,
          124,
          125,
          126,
          127,
          128,
          129,
          130,
          131,
          132,
          133,
          134,
          135,
          137,
          138,
          140,
          141,
          142,
          143,
          144,
          150,
          151,
          152,
          153,
          154,
          155,
          156,
          157,
          158,
          159,
          160,
          161,
          164,
          165,
          166,
          169,
          170,
          171,
          172,
          173,
          174,
          175,
          176,
          177,
          178,
          179,
          180,
          181,
          182,
          183,
          184,
          185,
          186,
          187,
          188,
          190,
          191,
          192,
          193,
          194,
          195,
          196,
          197,
          198,
          199,
          200,
          201,
          202,
          203,
          204,
          205,
          206,
          207,
          208,
          209,
          210,
          212,
          213,
          214,
          215,
          216,
          217,
          218,
          219,
          220,
          25,
          26,
          27,
          28,
          29,
          30,
          31,
          32,
          33,
          34,
          35,
          36,
          37,
          38,
          39,
          40,
          41,
          42,
          43,
          44,
          45,
          50,
          51,
          52,
          53,
          54,
          55,
          56,
          57,
          58,
          59,
          60,
          63,
          64,
          65,
          66,
          67,
          68,
          69,
          70,
          71,
          72,
          73,
          74,
          75,
          76,
          77,
          78,
          79,
          80,
          81,
          82,
          83,
          84,
          85,
          86,
          87,
          88,
          89,
          90,
          91,
          92,
          93,
          94,
          95,
          96,
          97,
          98,
          99,
          100,
          101,
          102,
          103,
          104,
          105,
          106,
          107,
          108,
          109,
          110,
          111,
          112,
          113,
          114,
          115,
          116,
          117,
          118,
          119,
          120,
          121,
          122,
          123,
          124,
          125,
          126,
          127,
          128,
          129,
          130,
          131,
          132,
          133,
          135,
          136,
          137,
          138,
          139,
          140,
          141,
          142,
          143,
          144,
          145,
          146,
          147,
          148,
          149,
          150,
          151,
          152,
          153,
          154,
          155,
          156,
          157,
          158,
          159,
          160,
          161,
          162,
          163,
          164,
          165,
          166,
          167,
          168,
          169,
          170,
          171,
          172,
          173,
          174,
          175,
          176,
          177,
          178,
          179,
          180,
          181,
          182,
          183,
          184,
          185,
          186,
          187,
          188,
          189,
          190,
          191,
          192,
          193,
          194,
          195,
          196,
          197,
          198,
          199,
          200,
          201,
          202,
          203,
          204,
          207,
          208,
          209,
          25,
          26,
          27,
          28,
          29,
          30,
          31,
          32,
          35,
          36,
          37,
          38,
          39,
          40,
          41,
          42,
          43,
          44,
          45,
          46,
          47,
          48,
          49,
          50,
          51,
          52,
          54,
          55,
          56,
          57,
          58,
          59,
          60,
          61,
          62,
          63,
          64,
          65,
          66,
          67,
          68,
          69,
          70,
          71,
          72,
          73,
          74,
          75,
          76,
          77,
          78,
          79,
          80,
          81,
          82,
          84,
          85,
          86,
          87,
          88,
          89,
          90,
          91,
          92,
          93,
          94,
          95,
          96,
          97,
          98,
          99,
          100,
          101,
          102,
          103,
          104,
          105,
          110,
          111,
          112,
          113,
          114,
          115,
          116,
          117,
          118,
          119,
          120,
          121,
          122,
          123,
          124,
          125,
          126,
          127,
          128,
          129,
          130,
          131,
          132,
          133,
          134,
          135,
          136,
          137,
          138,
          139,
          140,
          141,
          142,
          143,
          144,
          145,
          146,
          147,
          148,
          149,
          150,
          151,
          152,
          153,
          154,
          155,
          156,
          157,
          158,
          159,
          160,
          161,
          162,
          163,
          164,
          165,
          166,
          167,
          168,
          169,
          170,
          171,
          172,
          173,
          174,
          175,
          176,
          177,
          178,
          179,
          180,
          181,
          182,
          183,
          184,
          185,
          186,
          187,
          188,
          189,
          190,
          191,
          192,
          193,
          194,
          195,
          196,
          197,
          198,
          199,
          200,
          201,
          202,
          203,
          204,
          205,
          206,
          207,
          208,
          209,
          210,
          213,
          215,
          216,
          217,
          218,
          219,
          220,
          221,
          222,
          223,
          224,
          225,
          226,
          227,
          228,
          229,
          230,
          231,
          232,
          233,
          235,
          236,
          237,
          238,
          239,
          240,
          241,
          242,
          243,
          244
         ],
         "xaxis": "x",
         "y": [
          1.8783020419890513,
          1.8690386029237387,
          1.8712057465115557,
          1.860995593267933,
          1.8577588742918512,
          1.8399530815449032,
          1.844025621373125,
          1.833854949902544,
          1.8276520153865292,
          1.8243416628581433,
          1.8250231760379776,
          1.8110581701692603,
          1.8104985564797615,
          1.8097314516266576,
          1.798558349005696,
          1.7920944651211794,
          1.786120080632509,
          1.7749905242263415,
          1.7743753925214114,
          1.7652167595004378,
          1.764737524685241,
          1.759995713743414,
          1.7480940593532488,
          1.73982431439465,
          1.7371851833232514,
          1.7299871468656065,
          1.7323238580694529,
          1.7209341618662128,
          1.713891905858941,
          1.713899184581786,
          1.703854363938203,
          1.700981609423062,
          1.70950799300196,
          1.691824434592704,
          1.696293715042448,
          1.6829179887676688,
          1.6720803887244702,
          1.6738074060244772,
          1.671659330883717,
          1.666378096159242,
          1.6643182665578933,
          1.6559072982464025,
          1.6441951700494508,
          1.6416763215832957,
          1.637427452798397,
          1.6336620945529312,
          1.6285920688676307,
          1.6190703940748394,
          1.618851425049173,
          1.620955730711498,
          1.6064911943067326,
          1.5997733729495642,
          1.5984154209669446,
          1.5947425111620623,
          1.5903042497145692,
          1.5780228710530555,
          1.5739984913377778,
          1.571679578390346,
          1.5689657060311557,
          1.5620420096379293,
          1.559397172374145,
          1.5498633139885336,
          1.544385812604455,
          1.5402955691220284,
          1.5370306562508038,
          1.523527779287409,
          1.52282406787441,
          1.521711559098804,
          1.5141353251726375,
          1.5091173539254787,
          1.5076881509064308,
          1.5001683079604744,
          1.5033396334825486,
          1.4949819341254744,
          1.4877968536673951,
          1.4712834148089948,
          1.474052971743023,
          1.472688416608939,
          1.4579964072127864,
          1.462155303099654,
          1.4506154941958582,
          1.4462356747677252,
          1.4497039388691506,
          1.4299294287875823,
          1.441146258149521,
          1.4312065207106124,
          1.420907423789488,
          1.4218562146919662,
          1.419790982958564,
          1.4091091550903836,
          1.4011824170411182,
          1.404154345809635,
          1.390227433913874,
          1.389866334080364,
          1.3791159628040883,
          1.37816985910965,
          1.3765651018596998,
          1.3683996037066437,
          1.3605749678751686,
          1.3599104252836438,
          1.3509332962763931,
          1.3556794701646135,
          1.3540205708973445,
          1.341762460770013,
          1.3391975132314309,
          1.328898961395504,
          1.3320122269204886,
          1.312108800693079,
          1.304413427341349,
          1.2988478422597274,
          1.30254101736836,
          1.2870365986190366,
          1.285848291359001,
          1.2883588376764097,
          1.2579681708384602,
          1.24178686910991,
          1.2476111633090028,
          1.232946491720674,
          1.2309484898446303,
          1.230397968555791,
          1.2206974724809825,
          1.210307712712401,
          1.2066209074172625,
          1.2057237218343233,
          1.2011707083939114,
          1.1919067298058663,
          1.1860911178349478,
          1.1691864208876823,
          1.1660408873524628,
          1.1598368128632297,
          1.1419416882466935,
          1.1510513918710932,
          1.134170482973417,
          1.1325993613947416,
          1.1331590633812725,
          1.1166007046053734,
          1.1262063460801517,
          1.1159587710799874,
          1.1077723041013623,
          1.1075336381818566,
          1.1005891332447766,
          1.0925908994500562,
          1.087456685388673,
          1.0875799613219803,
          1.0758400758042836,
          1.072454615749279,
          1.0763539913811355,
          1.0716852276453803,
          1.0635129706965876,
          1.048986955099116,
          1.036396529538486,
          1.041632610487517,
          1.0360377963288778,
          1.0326681133434323,
          1.027892379852147,
          1.0204149335437391,
          1.0177385508377048,
          1.0155830626281963,
          1.0116661798948683,
          1.011095970520563,
          0.9971310081993704,
          0.9918103489841744,
          0.9784282230745284,
          0.9792796273668368,
          0.967829715232912,
          0.9682160047944872,
          0.9630708601027888,
          0.9551021798209324,
          0.954664234779361,
          0.9559518766643176,
          0.9460037553446822,
          0.93158499272178,
          0.93509924751778,
          0.925349701238104,
          0.9198850663894408,
          0.9071845451514998,
          0.912027381081192,
          0.910944242606161,
          0.8982616468068921,
          1.8682602703345608,
          1.8696214760160657,
          1.8594545071702857,
          1.8558803252594145,
          1.8478276061917276,
          1.8461524333396433,
          1.849859784385165,
          1.8446616335056265,
          1.8286107262049611,
          1.830185447127808,
          1.81858856947958,
          1.821936018539325,
          1.8218436461281988,
          1.8188572335528763,
          1.809428632444584,
          1.7998709923891525,
          1.794018795735292,
          1.7897809308243464,
          1.787339091992021,
          1.7775220917753067,
          1.777636158476828,
          1.7470587541789484,
          1.7504138860150271,
          1.7363030479479875,
          1.7322996730867457,
          1.734783962780972,
          1.7220229822289987,
          1.721311068229144,
          1.7166447901731363,
          1.704413891474968,
          1.7043983746458604,
          1.7026685815692182,
          1.6826523292618762,
          1.6920665459324349,
          1.6800098087315205,
          1.6716649766187153,
          1.6643344994631846,
          1.6583530511961029,
          1.653933621774757,
          1.658728727974904,
          1.645794240148629,
          1.647784881653437,
          1.6334920010541407,
          1.6318227081832548,
          1.6338869310617368,
          1.6226679595853688,
          1.6125537343484802,
          1.6134475394923522,
          1.6037648881122113,
          1.5981491970913244,
          1.5958048116962749,
          1.591833071521248,
          1.582940244451192,
          1.582638728888567,
          1.5789535227518106,
          1.565444291021072,
          1.5619209491132704,
          1.5538701404742656,
          1.5598435036686684,
          1.552316484549933,
          1.5400353993162703,
          1.543264027350597,
          1.530011351291587,
          1.5347260407041552,
          1.519869538006151,
          1.5319183977671529,
          1.518325893437371,
          1.5111605447467764,
          1.5070765126856986,
          1.5045283202537496,
          1.494853060893935,
          1.485945140543233,
          1.4862128632667857,
          1.4797449733887331,
          1.4697368952033345,
          1.4658001433120569,
          1.47240975449043,
          1.46770721756399,
          1.4563227664707856,
          1.439642610680267,
          1.4564163490402506,
          1.4356319223009322,
          1.4321881810477588,
          1.4273689333241817,
          1.428896799076735,
          1.419710985866033,
          1.4096515518839028,
          1.41575001070564,
          1.3989715623048742,
          1.398155103098213,
          1.398692962571824,
          1.3893191971423122,
          1.3889558088336358,
          1.3714511878626312,
          1.3760667107136326,
          1.3739363182204702,
          1.3703740309889212,
          1.3650556335660002,
          1.3510749148348302,
          1.3515899480684384,
          1.342840465764784,
          1.3415461554709047,
          1.3362878352617371,
          1.323708811244544,
          1.325642023699261,
          1.3225418787333645,
          1.31647463555362,
          1.3033931137174728,
          1.2927112270903618,
          1.2993476403044997,
          1.2932121203288605,
          1.283225135446575,
          1.27794783261294,
          1.273851071759564,
          1.2725635930293389,
          1.2539073780666588,
          1.2648887804118405,
          1.256722319408052,
          1.2528465532628377,
          1.2482728388121576,
          1.24803296106419,
          1.2279985579572708,
          1.22494928818536,
          1.230636019396659,
          1.2154246550519785,
          1.2139106285100936,
          1.2068010006054275,
          1.2013116828360084,
          1.1916174147216798,
          1.1994798407171028,
          1.1881908996748958,
          1.1867854834221272,
          1.180030226495947,
          1.1693012025917189,
          1.1730940024318133,
          1.1765772672513768,
          1.1545055676608569,
          1.1611852079874214,
          1.1462214343525643,
          1.1443326294183584,
          1.1415208462361093,
          1.1348569192397953,
          1.1290668251595857,
          1.1292233456324128,
          1.1171388133571434,
          1.1143013651733022,
          1.1061723786680957,
          1.1088577789920502,
          1.1035742572961402,
          1.0926257182382857,
          1.0953768107810185,
          1.084648772838101,
          1.0795034388762872,
          1.0765031219167875,
          1.0647592415968825,
          1.0634756822467868,
          1.0611424014182478,
          1.0552707164550077,
          1.0476976417039694,
          1.0463496746703902,
          1.0313296319858247,
          1.0361646177036912,
          1.0270428121751718,
          1.0271985254571856,
          1.0257902285251004,
          1.0153933771088912,
          1.0095147548654235,
          1.003607593444711,
          0.9917620771754024,
          0.999689148737084,
          0.9882602458548786,
          0.9961810937569536,
          0.988228813650097,
          0.961438751942512,
          0.9585382233165056,
          0.9561198293151252,
          1.8715601460868816,
          1.8716170176185916,
          1.867922583679949,
          1.8526572577770293,
          1.8530106491376883,
          1.8544258607566055,
          1.8522428177432648,
          1.84243370438938,
          1.8232805507249257,
          1.8200725867112115,
          1.8237568523832015,
          1.8167774828083447,
          1.804744858027464,
          1.8006339889671796,
          1.7960142906345569,
          1.789703588930808,
          1.7846694190205836,
          1.7728950129603172,
          1.7644177989572665,
          1.772213059773229,
          1.7733025175484969,
          1.763613076498732,
          1.757483422020997,
          1.73908433989408,
          1.7444468907840505,
          1.7228305715876715,
          1.728295230828977,
          1.7232963105506989,
          1.7217064842396634,
          1.7154862432357925,
          1.7121019791767746,
          1.6973421963409154,
          1.7093281093174617,
          1.695820911715664,
          1.6828028611367845,
          1.6799078513534793,
          1.6800360134943209,
          1.675612502917802,
          1.6697825725525686,
          1.6678152191160338,
          1.655072921176333,
          1.655921246402743,
          1.64045695998008,
          1.6429965115886953,
          1.6344794720372855,
          1.6303267570816755,
          1.6365772348517371,
          1.6302112417426426,
          1.629279461983458,
          1.6110655044323283,
          1.6043267013634992,
          1.601596144233382,
          1.6021013186845128,
          1.594659159482358,
          1.5965129266167568,
          1.5805008679519796,
          1.570760037157003,
          1.5698661590535568,
          1.566081045127136,
          1.5530051387442572,
          1.5527720232588282,
          1.5486247079453854,
          1.5439372195142478,
          1.5417065146714335,
          1.527873698920378,
          1.5365770325858403,
          1.5334224344941647,
          1.5257637768159094,
          1.5140453508136804,
          1.5129399583527237,
          1.509972079724289,
          1.5039274785612198,
          1.5003850203588476,
          1.5011731119467793,
          1.4896118862339096,
          1.485136380303075,
          1.4744990239029243,
          1.4554045028828586,
          1.4508940665443557,
          1.4345839215717624,
          1.443621600845329,
          1.423997317992872,
          1.426916421970842,
          1.4285765378917223,
          1.4127725228924457,
          1.4103731138900586,
          1.4131184259601468,
          1.4013475580141423,
          1.3985721895960668,
          1.3873084860859526,
          1.3831048471159433,
          1.3861464526903733,
          1.379759764146688,
          1.3707221964149612,
          1.361527219968743,
          1.358048700520472,
          1.3481702600663916,
          1.354811896680456,
          1.337320305311622,
          1.3395844378693724,
          1.3280013221035007,
          1.3310182214176167,
          1.326747250212715,
          1.3234789124471362,
          1.3144299368438823,
          1.3197573214150244,
          1.3012684067734903,
          1.3019713505130774,
          1.305932923506864,
          1.2909579959880515,
          1.2899822749294478,
          1.2794058865485782,
          1.2715733023959834,
          1.2622384936806277,
          1.2688119170502887,
          1.2661929596539263,
          1.2548423995017683,
          1.2525238523245064,
          1.245306945838102,
          1.2434081320870354,
          1.2323402996571544,
          1.2275293779373049,
          1.22838506158524,
          1.2177609987200289,
          1.2168650961782308,
          1.203278747097785,
          1.2063649361081377,
          1.192549469678813,
          1.1907364573278478,
          1.196180791365461,
          1.1839058441655474,
          1.1759996541733273,
          1.178102373560523,
          1.165130004825801,
          1.1646786480006748,
          1.1609450895241824,
          1.1492858009591984,
          1.1463454725281828,
          1.1476519334785256,
          1.1445030586986689,
          1.1367067684770795,
          1.1299208193761563,
          1.124134345821718,
          1.1168736753599025,
          1.113577940423101,
          1.1126407787361094,
          1.102666628600098,
          1.106620376134432,
          1.0956222313721882,
          1.0816208657112143,
          1.086878122790527,
          1.0798409926947596,
          1.079639012932907,
          1.0691318673968468,
          1.0669275510128606,
          1.0630940890929983,
          1.0575195059175426,
          1.03981204741553,
          1.0435458012147234,
          1.0369047463279355,
          1.0319970804322054,
          1.03244813430152,
          1.0272552971658349,
          1.0105977383055305,
          1.0110477299244964,
          1.0035119414026996,
          0.993985008685106,
          1.0023853085281496,
          0.9955170600112594,
          0.9806520757949052,
          0.9753924430197952,
          0.9853533741998204,
          0.9742682601602264,
          0.9675845860946972,
          0.966221922661204,
          0.9600971142287744,
          0.9510004670911826,
          0.9554725775654256,
          0.929613922162543,
          0.9196437104964252,
          0.9236773573358448,
          0.9117460712543288,
          0.9022231446510104,
          0.9011917015079308,
          0.9066092454032126,
          0.8882719736298594,
          0.8964964044529493,
          0.8827834642529623,
          0.887045711926017,
          0.8722857889203456,
          0.8727623795760296,
          0.8659205263711655,
          0.853348348386368,
          0.8527145087572895,
          0.8498830027687198,
          0.8515271870515478,
          0.8401515056838506,
          0.8342625989266192,
          0.8261674153040264,
          0.816360054320221,
          0.8150269217787709,
          0.8105048584178132,
          0.8083386692645638,
          0.8051844719386201,
          0.7922634902642576,
          0.7961012995992677,
          0.7881373639368348,
          0.7808477588275857
         ],
         "yaxis": "y"
        },
        {
         "hovertemplate": "agreement_level=2 models flagged<br>cycle=%{x}<br>capacity=%{y}<extra></extra>",
         "legendgroup": "2 models flagged",
         "marker": {
          "color": "#E15F99",
          "opacity": 0.8,
          "size": 6,
          "symbol": "circle"
         },
         "mode": "markers",
         "name": "2 models flagged",
         "orientation": "v",
         "showlegend": true,
         "type": "scatter",
         "x": [
          29,
          136,
          148,
          149,
          162,
          167,
          168,
          48,
          49,
          61,
          62,
          34,
          109
         ],
         "xaxis": "x",
         "y": [
          1.85652647603498,
          1.3223353171902046,
          1.248388443840062,
          1.2605094049734695,
          1.190676398851544,
          1.1641789279159291,
          1.156900321368686,
          1.7622756700501552,
          1.754711197314859,
          1.682214688407616,
          1.6905138406165063,
          1.8274387131101424,
          1.462628522790249
         ],
         "yaxis": "y"
        },
        {
         "hovertemplate": "agreement_level=1 model flagged<br>cycle=%{x}<br>capacity=%{y}<extra></extra>",
         "legendgroup": "1 model flagged",
         "marker": {
          "color": "#1CA71C",
          "opacity": 0.8,
          "size": 6,
          "symbol": "circle"
         },
         "mode": "markers",
         "name": "1 model flagged",
         "orientation": "v",
         "showlegend": true,
         "type": "scatter",
         "x": [
          47,
          48,
          139,
          145,
          163,
          189,
          211,
          134,
          206,
          210,
          33,
          53,
          83,
          106,
          211,
          212,
          214,
          234,
          245,
          246,
          247,
          248,
          249,
          250
         ],
         "xaxis": "x",
         "y": [
          1.7643911298664483,
          1.769523036509107,
          1.3200310955375127,
          1.2783413021411505,
          1.1859493502680734,
          1.0597700685575966,
          0.9348537643436626,
          1.3381014616784892,
          0.9671609967619784,
          0.942195033773607,
          1.8396087574011235,
          1.735892068777228,
          1.591159205244597,
          1.4701389148201736,
          0.9293253932736378,
          0.9477026569925454,
          0.926767291601442,
          0.8206996733269041,
          0.7783086700559771,
          0.7619704404853822,
          0.7659027650271983,
          0.7620101161060815,
          0.7574438607619847,
          0.7509718644896284
         ],
         "yaxis": "y"
        },
        {
         "hovertemplate": "agreement_level=3 models flagged<br>cycle=%{x}<br>capacity=%{y}<extra></extra>",
         "legendgroup": "3 models flagged",
         "marker": {
          "color": "#FB0D0D",
          "opacity": 0.8,
          "size": 6,
          "symbol": "circle"
         },
         "mode": "markers",
         "name": "3 models flagged",
         "orientation": "v",
         "showlegend": true,
         "type": "scatter",
         "x": [
          71,
          146,
          147,
          47,
          205,
          107,
          108
         ],
         "xaxis": "x",
         "y": [
          1.6381897366709262,
          1.2654316566259234,
          1.262438000782824,
          1.7718279054610075,
          0.969674176988908,
          1.4609714688276614,
          1.4577230184670358
         ],
         "yaxis": "y"
        },
        {
         "hovertemplate": "agreement_level=All models flagged<br>cycle=%{x}<br>capacity=%{y}<extra></extra>",
         "legendgroup": "All models flagged",
         "marker": {
          "color": "#DA16FF",
          "opacity": 0.8,
          "size": 6,
          "symbol": "circle"
         },
         "mode": "markers",
         "name": "All models flagged",
         "orientation": "v",
         "showlegend": true,
         "type": "scatter",
         "x": [
          46
         ],
         "xaxis": "x",
         "y": [
          1.7769007840769329
         ],
         "yaxis": "y"
        }
       ],
       "layout": {
        "legend": {
         "title": {
          "text": "agreement_level"
         },
         "tracegroupgap": 0
        },
        "template": {
         "data": {
          "bar": [
           {
            "error_x": {
             "color": "#2a3f5f"
            },
            "error_y": {
             "color": "#2a3f5f"
            },
            "marker": {
             "line": {
              "color": "#E5ECF6",
              "width": 0.5
             },
             "pattern": {
              "fillmode": "overlay",
              "size": 10,
              "solidity": 0.2
             }
            },
            "type": "bar"
           }
          ],
          "barpolar": [
           {
            "marker": {
             "line": {
              "color": "#E5ECF6",
              "width": 0.5
             },
             "pattern": {
              "fillmode": "overlay",
              "size": 10,
              "solidity": 0.2
             }
            },
            "type": "barpolar"
           }
          ],
          "carpet": [
           {
            "aaxis": {
             "endlinecolor": "#2a3f5f",
             "gridcolor": "white",
             "linecolor": "white",
             "minorgridcolor": "white",
             "startlinecolor": "#2a3f5f"
            },
            "baxis": {
             "endlinecolor": "#2a3f5f",
             "gridcolor": "white",
             "linecolor": "white",
             "minorgridcolor": "white",
             "startlinecolor": "#2a3f5f"
            },
            "type": "carpet"
           }
          ],
          "choropleth": [
           {
            "colorbar": {
             "outlinewidth": 0,
             "ticks": ""
            },
            "type": "choropleth"
           }
          ],
          "contour": [
           {
            "colorbar": {
             "outlinewidth": 0,
             "ticks": ""
            },
            "colorscale": [
             [
              0,
              "#0d0887"
             ],
             [
              0.1111111111111111,
              "#46039f"
             ],
             [
              0.2222222222222222,
              "#7201a8"
             ],
             [
              0.3333333333333333,
              "#9c179e"
             ],
             [
              0.4444444444444444,
              "#bd3786"
             ],
             [
              0.5555555555555556,
              "#d8576b"
             ],
             [
              0.6666666666666666,
              "#ed7953"
             ],
             [
              0.7777777777777778,
              "#fb9f3a"
             ],
             [
              0.8888888888888888,
              "#fdca26"
             ],
             [
              1,
              "#f0f921"
             ]
            ],
            "type": "contour"
           }
          ],
          "contourcarpet": [
           {
            "colorbar": {
             "outlinewidth": 0,
             "ticks": ""
            },
            "type": "contourcarpet"
           }
          ],
          "heatmap": [
           {
            "colorbar": {
             "outlinewidth": 0,
             "ticks": ""
            },
            "colorscale": [
             [
              0,
              "#0d0887"
             ],
             [
              0.1111111111111111,
              "#46039f"
             ],
             [
              0.2222222222222222,
              "#7201a8"
             ],
             [
              0.3333333333333333,
              "#9c179e"
             ],
             [
              0.4444444444444444,
              "#bd3786"
             ],
             [
              0.5555555555555556,
              "#d8576b"
             ],
             [
              0.6666666666666666,
              "#ed7953"
             ],
             [
              0.7777777777777778,
              "#fb9f3a"
             ],
             [
              0.8888888888888888,
              "#fdca26"
             ],
             [
              1,
              "#f0f921"
             ]
            ],
            "type": "heatmap"
           }
          ],
          "heatmapgl": [
           {
            "colorbar": {
             "outlinewidth": 0,
             "ticks": ""
            },
            "colorscale": [
             [
              0,
              "#0d0887"
             ],
             [
              0.1111111111111111,
              "#46039f"
             ],
             [
              0.2222222222222222,
              "#7201a8"
             ],
             [
              0.3333333333333333,
              "#9c179e"
             ],
             [
              0.4444444444444444,
              "#bd3786"
             ],
             [
              0.5555555555555556,
              "#d8576b"
             ],
             [
              0.6666666666666666,
              "#ed7953"
             ],
             [
              0.7777777777777778,
              "#fb9f3a"
             ],
             [
              0.8888888888888888,
              "#fdca26"
             ],
             [
              1,
              "#f0f921"
             ]
            ],
            "type": "heatmapgl"
           }
          ],
          "histogram": [
           {
            "marker": {
             "pattern": {
              "fillmode": "overlay",
              "size": 10,
              "solidity": 0.2
             }
            },
            "type": "histogram"
           }
          ],
          "histogram2d": [
           {
            "colorbar": {
             "outlinewidth": 0,
             "ticks": ""
            },
            "colorscale": [
             [
              0,
              "#0d0887"
             ],
             [
              0.1111111111111111,
              "#46039f"
             ],
             [
              0.2222222222222222,
              "#7201a8"
             ],
             [
              0.3333333333333333,
              "#9c179e"
             ],
             [
              0.4444444444444444,
              "#bd3786"
             ],
             [
              0.5555555555555556,
              "#d8576b"
             ],
             [
              0.6666666666666666,
              "#ed7953"
             ],
             [
              0.7777777777777778,
              "#fb9f3a"
             ],
             [
              0.8888888888888888,
              "#fdca26"
             ],
             [
              1,
              "#f0f921"
             ]
            ],
            "type": "histogram2d"
           }
          ],
          "histogram2dcontour": [
           {
            "colorbar": {
             "outlinewidth": 0,
             "ticks": ""
            },
            "colorscale": [
             [
              0,
              "#0d0887"
             ],
             [
              0.1111111111111111,
              "#46039f"
             ],
             [
              0.2222222222222222,
              "#7201a8"
             ],
             [
              0.3333333333333333,
              "#9c179e"
             ],
             [
              0.4444444444444444,
              "#bd3786"
             ],
             [
              0.5555555555555556,
              "#d8576b"
             ],
             [
              0.6666666666666666,
              "#ed7953"
             ],
             [
              0.7777777777777778,
              "#fb9f3a"
             ],
             [
              0.8888888888888888,
              "#fdca26"
             ],
             [
              1,
              "#f0f921"
             ]
            ],
            "type": "histogram2dcontour"
           }
          ],
          "mesh3d": [
           {
            "colorbar": {
             "outlinewidth": 0,
             "ticks": ""
            },
            "type": "mesh3d"
           }
          ],
          "parcoords": [
           {
            "line": {
             "colorbar": {
              "outlinewidth": 0,
              "ticks": ""
             }
            },
            "type": "parcoords"
           }
          ],
          "pie": [
           {
            "automargin": true,
            "type": "pie"
           }
          ],
          "scatter": [
           {
            "fillpattern": {
             "fillmode": "overlay",
             "size": 10,
             "solidity": 0.2
            },
            "type": "scatter"
           }
          ],
          "scatter3d": [
           {
            "line": {
             "colorbar": {
              "outlinewidth": 0,
              "ticks": ""
             }
            },
            "marker": {
             "colorbar": {
              "outlinewidth": 0,
              "ticks": ""
             }
            },
            "type": "scatter3d"
           }
          ],
          "scattercarpet": [
           {
            "marker": {
             "colorbar": {
              "outlinewidth": 0,
              "ticks": ""
             }
            },
            "type": "scattercarpet"
           }
          ],
          "scattergeo": [
           {
            "marker": {
             "colorbar": {
              "outlinewidth": 0,
              "ticks": ""
             }
            },
            "type": "scattergeo"
           }
          ],
          "scattergl": [
           {
            "marker": {
             "colorbar": {
              "outlinewidth": 0,
              "ticks": ""
             }
            },
            "type": "scattergl"
           }
          ],
          "scattermapbox": [
           {
            "marker": {
             "colorbar": {
              "outlinewidth": 0,
              "ticks": ""
             }
            },
            "type": "scattermapbox"
           }
          ],
          "scatterpolar": [
           {
            "marker": {
             "colorbar": {
              "outlinewidth": 0,
              "ticks": ""
             }
            },
            "type": "scatterpolar"
           }
          ],
          "scatterpolargl": [
           {
            "marker": {
             "colorbar": {
              "outlinewidth": 0,
              "ticks": ""
             }
            },
            "type": "scatterpolargl"
           }
          ],
          "scatterternary": [
           {
            "marker": {
             "colorbar": {
              "outlinewidth": 0,
              "ticks": ""
             }
            },
            "type": "scatterternary"
           }
          ],
          "surface": [
           {
            "colorbar": {
             "outlinewidth": 0,
             "ticks": ""
            },
            "colorscale": [
             [
              0,
              "#0d0887"
             ],
             [
              0.1111111111111111,
              "#46039f"
             ],
             [
              0.2222222222222222,
              "#7201a8"
             ],
             [
              0.3333333333333333,
              "#9c179e"
             ],
             [
              0.4444444444444444,
              "#bd3786"
             ],
             [
              0.5555555555555556,
              "#d8576b"
             ],
             [
              0.6666666666666666,
              "#ed7953"
             ],
             [
              0.7777777777777778,
              "#fb9f3a"
             ],
             [
              0.8888888888888888,
              "#fdca26"
             ],
             [
              1,
              "#f0f921"
             ]
            ],
            "type": "surface"
           }
          ],
          "table": [
           {
            "cells": {
             "fill": {
              "color": "#EBF0F8"
             },
             "line": {
              "color": "white"
             }
            },
            "header": {
             "fill": {
              "color": "#C8D4E3"
             },
             "line": {
              "color": "white"
             }
            },
            "type": "table"
           }
          ]
         },
         "layout": {
          "annotationdefaults": {
           "arrowcolor": "#2a3f5f",
           "arrowhead": 0,
           "arrowwidth": 1
          },
          "autotypenumbers": "strict",
          "coloraxis": {
           "colorbar": {
            "outlinewidth": 0,
            "ticks": ""
           }
          },
          "colorscale": {
           "diverging": [
            [
             0,
             "#8e0152"
            ],
            [
             0.1,
             "#c51b7d"
            ],
            [
             0.2,
             "#de77ae"
            ],
            [
             0.3,
             "#f1b6da"
            ],
            [
             0.4,
             "#fde0ef"
            ],
            [
             0.5,
             "#f7f7f7"
            ],
            [
             0.6,
             "#e6f5d0"
            ],
            [
             0.7,
             "#b8e186"
            ],
            [
             0.8,
             "#7fbc41"
            ],
            [
             0.9,
             "#4d9221"
            ],
            [
             1,
             "#276419"
            ]
           ],
           "sequential": [
            [
             0,
             "#0d0887"
            ],
            [
             0.1111111111111111,
             "#46039f"
            ],
            [
             0.2222222222222222,
             "#7201a8"
            ],
            [
             0.3333333333333333,
             "#9c179e"
            ],
            [
             0.4444444444444444,
             "#bd3786"
            ],
            [
             0.5555555555555556,
             "#d8576b"
            ],
            [
             0.6666666666666666,
             "#ed7953"
            ],
            [
             0.7777777777777778,
             "#fb9f3a"
            ],
            [
             0.8888888888888888,
             "#fdca26"
            ],
            [
             1,
             "#f0f921"
            ]
           ],
           "sequentialminus": [
            [
             0,
             "#0d0887"
            ],
            [
             0.1111111111111111,
             "#46039f"
            ],
            [
             0.2222222222222222,
             "#7201a8"
            ],
            [
             0.3333333333333333,
             "#9c179e"
            ],
            [
             0.4444444444444444,
             "#bd3786"
            ],
            [
             0.5555555555555556,
             "#d8576b"
            ],
            [
             0.6666666666666666,
             "#ed7953"
            ],
            [
             0.7777777777777778,
             "#fb9f3a"
            ],
            [
             0.8888888888888888,
             "#fdca26"
            ],
            [
             1,
             "#f0f921"
            ]
           ]
          },
          "colorway": [
           "#636efa",
           "#EF553B",
           "#00cc96",
           "#ab63fa",
           "#FFA15A",
           "#19d3f3",
           "#FF6692",
           "#B6E880",
           "#FF97FF",
           "#FECB52"
          ],
          "font": {
           "color": "#2a3f5f"
          },
          "geo": {
           "bgcolor": "white",
           "lakecolor": "white",
           "landcolor": "#E5ECF6",
           "showlakes": true,
           "showland": true,
           "subunitcolor": "white"
          },
          "hoverlabel": {
           "align": "left"
          },
          "hovermode": "closest",
          "mapbox": {
           "style": "light"
          },
          "paper_bgcolor": "white",
          "plot_bgcolor": "#E5ECF6",
          "polar": {
           "angularaxis": {
            "gridcolor": "white",
            "linecolor": "white",
            "ticks": ""
           },
           "bgcolor": "#E5ECF6",
           "radialaxis": {
            "gridcolor": "white",
            "linecolor": "white",
            "ticks": ""
           }
          },
          "scene": {
           "xaxis": {
            "backgroundcolor": "#E5ECF6",
            "gridcolor": "white",
            "gridwidth": 2,
            "linecolor": "white",
            "showbackground": true,
            "ticks": "",
            "zerolinecolor": "white"
           },
           "yaxis": {
            "backgroundcolor": "#E5ECF6",
            "gridcolor": "white",
            "gridwidth": 2,
            "linecolor": "white",
            "showbackground": true,
            "ticks": "",
            "zerolinecolor": "white"
           },
           "zaxis": {
            "backgroundcolor": "#E5ECF6",
            "gridcolor": "white",
            "gridwidth": 2,
            "linecolor": "white",
            "showbackground": true,
            "ticks": "",
            "zerolinecolor": "white"
           }
          },
          "shapedefaults": {
           "line": {
            "color": "#2a3f5f"
           }
          },
          "ternary": {
           "aaxis": {
            "gridcolor": "white",
            "linecolor": "white",
            "ticks": ""
           },
           "baxis": {
            "gridcolor": "white",
            "linecolor": "white",
            "ticks": ""
           },
           "bgcolor": "#E5ECF6",
           "caxis": {
            "gridcolor": "white",
            "linecolor": "white",
            "ticks": ""
           }
          },
          "title": {
           "x": 0.05
          },
          "xaxis": {
           "automargin": true,
           "gridcolor": "white",
           "linecolor": "white",
           "ticks": "",
           "title": {
            "standoff": 15
           },
           "zerolinecolor": "white",
           "zerolinewidth": 2
          },
          "yaxis": {
           "automargin": true,
           "gridcolor": "white",
           "linecolor": "white",
           "ticks": "",
           "title": {
            "standoff": 15
           },
           "zerolinecolor": "white",
           "zerolinewidth": 2
          }
         }
        },
        "title": {
         "text": "Model Agreement on Detected Anomalies"
        },
        "xaxis": {
         "anchor": "y",
         "domain": [
          0,
          1
         ],
         "title": {
          "text": "cycle"
         }
        },
        "yaxis": {
         "anchor": "x",
         "domain": [
          0,
          1
         ],
         "title": {
          "text": "capacity"
         }
        }
       }
      }
     },
     "metadata": {},
     "output_type": "display_data"
    }
   ],
   "source": [
    "df_model[\"anomaly_sum\"] = (\n",
    "    df_model[[\"anomaly_iso\",\"anomaly_lof\",\"anomaly_svm\",\"anomaly_ee\"]].sum(axis=1)\n",
    ")\n",
    "\n",
    "# 0 = normal by all, 4 = anomaly by all\n",
    "df_model[\"agreement_level\"] = df_model[\"anomaly_sum\"].map({\n",
    "    0:\"Normal (All agree)\",\n",
    "    1:\"1 model flagged\",\n",
    "    2:\"2 models flagged\",\n",
    "    3:\"3 models flagged\",\n",
    "    4:\"All models flagged\"\n",
    "})\n",
    "\n",
    "fig = px.scatter(\n",
    "    df_model, x=\"cycle\", y=\"capacity\",\n",
    "    color=\"agreement_level\",\n",
    "    title=\"Model Agreement on Detected Anomalies\",\n",
    "    color_discrete_sequence=px.colors.qualitative.Dark24,\n",
    "    opacity=0.8\n",
    ")\n",
    "fig.update_traces(marker=dict(size=6))\n",
    "fig.show()\n"
   ]
  },
  {
   "cell_type": "code",
   "execution_count": 16,
   "id": "597e84ca",
   "metadata": {},
   "outputs": [
    {
     "data": {
      "application/vnd.plotly.v1+json": {
       "config": {
        "plotlyServerURL": "https://plot.ly"
       },
       "data": [
        {
         "coloraxis": "coloraxis",
         "hovertemplate": "x: %{x}<br>y: %{y}<br>color: %{z}<extra></extra>",
         "name": "0",
         "texttemplate": "%{z}",
         "type": "heatmap",
         "x": [
          "anomaly_iso",
          "anomaly_lof",
          "anomaly_svm",
          "anomaly_ee"
         ],
         "xaxis": "x",
         "y": [
          "anomaly_iso",
          "anomaly_lof",
          "anomaly_svm",
          "anomaly_ee"
         ],
         "yaxis": "y",
         "z": [
          [
           1,
           0.05555555555555555,
           0.1935483870967742,
           0.35714285714285715
          ],
          [
           0.05555555555555555,
           1,
           0.4230769230769231,
           0.11764705882352941
          ],
          [
           0.1935483870967742,
           0.4230769230769231,
           1,
           0.23333333333333334
          ],
          [
           0.35714285714285715,
           0.11764705882352941,
           0.23333333333333334,
           1
          ]
         ]
        }
       ],
       "layout": {
        "coloraxis": {
         "colorscale": [
          [
           0,
           "rgb(247,251,255)"
          ],
          [
           0.125,
           "rgb(222,235,247)"
          ],
          [
           0.25,
           "rgb(198,219,239)"
          ],
          [
           0.375,
           "rgb(158,202,225)"
          ],
          [
           0.5,
           "rgb(107,174,214)"
          ],
          [
           0.625,
           "rgb(66,146,198)"
          ],
          [
           0.75,
           "rgb(33,113,181)"
          ],
          [
           0.875,
           "rgb(8,81,156)"
          ],
          [
           1,
           "rgb(8,48,107)"
          ]
         ]
        },
        "template": {
         "data": {
          "bar": [
           {
            "error_x": {
             "color": "#2a3f5f"
            },
            "error_y": {
             "color": "#2a3f5f"
            },
            "marker": {
             "line": {
              "color": "#E5ECF6",
              "width": 0.5
             },
             "pattern": {
              "fillmode": "overlay",
              "size": 10,
              "solidity": 0.2
             }
            },
            "type": "bar"
           }
          ],
          "barpolar": [
           {
            "marker": {
             "line": {
              "color": "#E5ECF6",
              "width": 0.5
             },
             "pattern": {
              "fillmode": "overlay",
              "size": 10,
              "solidity": 0.2
             }
            },
            "type": "barpolar"
           }
          ],
          "carpet": [
           {
            "aaxis": {
             "endlinecolor": "#2a3f5f",
             "gridcolor": "white",
             "linecolor": "white",
             "minorgridcolor": "white",
             "startlinecolor": "#2a3f5f"
            },
            "baxis": {
             "endlinecolor": "#2a3f5f",
             "gridcolor": "white",
             "linecolor": "white",
             "minorgridcolor": "white",
             "startlinecolor": "#2a3f5f"
            },
            "type": "carpet"
           }
          ],
          "choropleth": [
           {
            "colorbar": {
             "outlinewidth": 0,
             "ticks": ""
            },
            "type": "choropleth"
           }
          ],
          "contour": [
           {
            "colorbar": {
             "outlinewidth": 0,
             "ticks": ""
            },
            "colorscale": [
             [
              0,
              "#0d0887"
             ],
             [
              0.1111111111111111,
              "#46039f"
             ],
             [
              0.2222222222222222,
              "#7201a8"
             ],
             [
              0.3333333333333333,
              "#9c179e"
             ],
             [
              0.4444444444444444,
              "#bd3786"
             ],
             [
              0.5555555555555556,
              "#d8576b"
             ],
             [
              0.6666666666666666,
              "#ed7953"
             ],
             [
              0.7777777777777778,
              "#fb9f3a"
             ],
             [
              0.8888888888888888,
              "#fdca26"
             ],
             [
              1,
              "#f0f921"
             ]
            ],
            "type": "contour"
           }
          ],
          "contourcarpet": [
           {
            "colorbar": {
             "outlinewidth": 0,
             "ticks": ""
            },
            "type": "contourcarpet"
           }
          ],
          "heatmap": [
           {
            "colorbar": {
             "outlinewidth": 0,
             "ticks": ""
            },
            "colorscale": [
             [
              0,
              "#0d0887"
             ],
             [
              0.1111111111111111,
              "#46039f"
             ],
             [
              0.2222222222222222,
              "#7201a8"
             ],
             [
              0.3333333333333333,
              "#9c179e"
             ],
             [
              0.4444444444444444,
              "#bd3786"
             ],
             [
              0.5555555555555556,
              "#d8576b"
             ],
             [
              0.6666666666666666,
              "#ed7953"
             ],
             [
              0.7777777777777778,
              "#fb9f3a"
             ],
             [
              0.8888888888888888,
              "#fdca26"
             ],
             [
              1,
              "#f0f921"
             ]
            ],
            "type": "heatmap"
           }
          ],
          "heatmapgl": [
           {
            "colorbar": {
             "outlinewidth": 0,
             "ticks": ""
            },
            "colorscale": [
             [
              0,
              "#0d0887"
             ],
             [
              0.1111111111111111,
              "#46039f"
             ],
             [
              0.2222222222222222,
              "#7201a8"
             ],
             [
              0.3333333333333333,
              "#9c179e"
             ],
             [
              0.4444444444444444,
              "#bd3786"
             ],
             [
              0.5555555555555556,
              "#d8576b"
             ],
             [
              0.6666666666666666,
              "#ed7953"
             ],
             [
              0.7777777777777778,
              "#fb9f3a"
             ],
             [
              0.8888888888888888,
              "#fdca26"
             ],
             [
              1,
              "#f0f921"
             ]
            ],
            "type": "heatmapgl"
           }
          ],
          "histogram": [
           {
            "marker": {
             "pattern": {
              "fillmode": "overlay",
              "size": 10,
              "solidity": 0.2
             }
            },
            "type": "histogram"
           }
          ],
          "histogram2d": [
           {
            "colorbar": {
             "outlinewidth": 0,
             "ticks": ""
            },
            "colorscale": [
             [
              0,
              "#0d0887"
             ],
             [
              0.1111111111111111,
              "#46039f"
             ],
             [
              0.2222222222222222,
              "#7201a8"
             ],
             [
              0.3333333333333333,
              "#9c179e"
             ],
             [
              0.4444444444444444,
              "#bd3786"
             ],
             [
              0.5555555555555556,
              "#d8576b"
             ],
             [
              0.6666666666666666,
              "#ed7953"
             ],
             [
              0.7777777777777778,
              "#fb9f3a"
             ],
             [
              0.8888888888888888,
              "#fdca26"
             ],
             [
              1,
              "#f0f921"
             ]
            ],
            "type": "histogram2d"
           }
          ],
          "histogram2dcontour": [
           {
            "colorbar": {
             "outlinewidth": 0,
             "ticks": ""
            },
            "colorscale": [
             [
              0,
              "#0d0887"
             ],
             [
              0.1111111111111111,
              "#46039f"
             ],
             [
              0.2222222222222222,
              "#7201a8"
             ],
             [
              0.3333333333333333,
              "#9c179e"
             ],
             [
              0.4444444444444444,
              "#bd3786"
             ],
             [
              0.5555555555555556,
              "#d8576b"
             ],
             [
              0.6666666666666666,
              "#ed7953"
             ],
             [
              0.7777777777777778,
              "#fb9f3a"
             ],
             [
              0.8888888888888888,
              "#fdca26"
             ],
             [
              1,
              "#f0f921"
             ]
            ],
            "type": "histogram2dcontour"
           }
          ],
          "mesh3d": [
           {
            "colorbar": {
             "outlinewidth": 0,
             "ticks": ""
            },
            "type": "mesh3d"
           }
          ],
          "parcoords": [
           {
            "line": {
             "colorbar": {
              "outlinewidth": 0,
              "ticks": ""
             }
            },
            "type": "parcoords"
           }
          ],
          "pie": [
           {
            "automargin": true,
            "type": "pie"
           }
          ],
          "scatter": [
           {
            "fillpattern": {
             "fillmode": "overlay",
             "size": 10,
             "solidity": 0.2
            },
            "type": "scatter"
           }
          ],
          "scatter3d": [
           {
            "line": {
             "colorbar": {
              "outlinewidth": 0,
              "ticks": ""
             }
            },
            "marker": {
             "colorbar": {
              "outlinewidth": 0,
              "ticks": ""
             }
            },
            "type": "scatter3d"
           }
          ],
          "scattercarpet": [
           {
            "marker": {
             "colorbar": {
              "outlinewidth": 0,
              "ticks": ""
             }
            },
            "type": "scattercarpet"
           }
          ],
          "scattergeo": [
           {
            "marker": {
             "colorbar": {
              "outlinewidth": 0,
              "ticks": ""
             }
            },
            "type": "scattergeo"
           }
          ],
          "scattergl": [
           {
            "marker": {
             "colorbar": {
              "outlinewidth": 0,
              "ticks": ""
             }
            },
            "type": "scattergl"
           }
          ],
          "scattermapbox": [
           {
            "marker": {
             "colorbar": {
              "outlinewidth": 0,
              "ticks": ""
             }
            },
            "type": "scattermapbox"
           }
          ],
          "scatterpolar": [
           {
            "marker": {
             "colorbar": {
              "outlinewidth": 0,
              "ticks": ""
             }
            },
            "type": "scatterpolar"
           }
          ],
          "scatterpolargl": [
           {
            "marker": {
             "colorbar": {
              "outlinewidth": 0,
              "ticks": ""
             }
            },
            "type": "scatterpolargl"
           }
          ],
          "scatterternary": [
           {
            "marker": {
             "colorbar": {
              "outlinewidth": 0,
              "ticks": ""
             }
            },
            "type": "scatterternary"
           }
          ],
          "surface": [
           {
            "colorbar": {
             "outlinewidth": 0,
             "ticks": ""
            },
            "colorscale": [
             [
              0,
              "#0d0887"
             ],
             [
              0.1111111111111111,
              "#46039f"
             ],
             [
              0.2222222222222222,
              "#7201a8"
             ],
             [
              0.3333333333333333,
              "#9c179e"
             ],
             [
              0.4444444444444444,
              "#bd3786"
             ],
             [
              0.5555555555555556,
              "#d8576b"
             ],
             [
              0.6666666666666666,
              "#ed7953"
             ],
             [
              0.7777777777777778,
              "#fb9f3a"
             ],
             [
              0.8888888888888888,
              "#fdca26"
             ],
             [
              1,
              "#f0f921"
             ]
            ],
            "type": "surface"
           }
          ],
          "table": [
           {
            "cells": {
             "fill": {
              "color": "#EBF0F8"
             },
             "line": {
              "color": "white"
             }
            },
            "header": {
             "fill": {
              "color": "#C8D4E3"
             },
             "line": {
              "color": "white"
             }
            },
            "type": "table"
           }
          ]
         },
         "layout": {
          "annotationdefaults": {
           "arrowcolor": "#2a3f5f",
           "arrowhead": 0,
           "arrowwidth": 1
          },
          "autotypenumbers": "strict",
          "coloraxis": {
           "colorbar": {
            "outlinewidth": 0,
            "ticks": ""
           }
          },
          "colorscale": {
           "diverging": [
            [
             0,
             "#8e0152"
            ],
            [
             0.1,
             "#c51b7d"
            ],
            [
             0.2,
             "#de77ae"
            ],
            [
             0.3,
             "#f1b6da"
            ],
            [
             0.4,
             "#fde0ef"
            ],
            [
             0.5,
             "#f7f7f7"
            ],
            [
             0.6,
             "#e6f5d0"
            ],
            [
             0.7,
             "#b8e186"
            ],
            [
             0.8,
             "#7fbc41"
            ],
            [
             0.9,
             "#4d9221"
            ],
            [
             1,
             "#276419"
            ]
           ],
           "sequential": [
            [
             0,
             "#0d0887"
            ],
            [
             0.1111111111111111,
             "#46039f"
            ],
            [
             0.2222222222222222,
             "#7201a8"
            ],
            [
             0.3333333333333333,
             "#9c179e"
            ],
            [
             0.4444444444444444,
             "#bd3786"
            ],
            [
             0.5555555555555556,
             "#d8576b"
            ],
            [
             0.6666666666666666,
             "#ed7953"
            ],
            [
             0.7777777777777778,
             "#fb9f3a"
            ],
            [
             0.8888888888888888,
             "#fdca26"
            ],
            [
             1,
             "#f0f921"
            ]
           ],
           "sequentialminus": [
            [
             0,
             "#0d0887"
            ],
            [
             0.1111111111111111,
             "#46039f"
            ],
            [
             0.2222222222222222,
             "#7201a8"
            ],
            [
             0.3333333333333333,
             "#9c179e"
            ],
            [
             0.4444444444444444,
             "#bd3786"
            ],
            [
             0.5555555555555556,
             "#d8576b"
            ],
            [
             0.6666666666666666,
             "#ed7953"
            ],
            [
             0.7777777777777778,
             "#fb9f3a"
            ],
            [
             0.8888888888888888,
             "#fdca26"
            ],
            [
             1,
             "#f0f921"
            ]
           ]
          },
          "colorway": [
           "#636efa",
           "#EF553B",
           "#00cc96",
           "#ab63fa",
           "#FFA15A",
           "#19d3f3",
           "#FF6692",
           "#B6E880",
           "#FF97FF",
           "#FECB52"
          ],
          "font": {
           "color": "#2a3f5f"
          },
          "geo": {
           "bgcolor": "white",
           "lakecolor": "white",
           "landcolor": "#E5ECF6",
           "showlakes": true,
           "showland": true,
           "subunitcolor": "white"
          },
          "hoverlabel": {
           "align": "left"
          },
          "hovermode": "closest",
          "mapbox": {
           "style": "light"
          },
          "paper_bgcolor": "white",
          "plot_bgcolor": "#E5ECF6",
          "polar": {
           "angularaxis": {
            "gridcolor": "white",
            "linecolor": "white",
            "ticks": ""
           },
           "bgcolor": "#E5ECF6",
           "radialaxis": {
            "gridcolor": "white",
            "linecolor": "white",
            "ticks": ""
           }
          },
          "scene": {
           "xaxis": {
            "backgroundcolor": "#E5ECF6",
            "gridcolor": "white",
            "gridwidth": 2,
            "linecolor": "white",
            "showbackground": true,
            "ticks": "",
            "zerolinecolor": "white"
           },
           "yaxis": {
            "backgroundcolor": "#E5ECF6",
            "gridcolor": "white",
            "gridwidth": 2,
            "linecolor": "white",
            "showbackground": true,
            "ticks": "",
            "zerolinecolor": "white"
           },
           "zaxis": {
            "backgroundcolor": "#E5ECF6",
            "gridcolor": "white",
            "gridwidth": 2,
            "linecolor": "white",
            "showbackground": true,
            "ticks": "",
            "zerolinecolor": "white"
           }
          },
          "shapedefaults": {
           "line": {
            "color": "#2a3f5f"
           }
          },
          "ternary": {
           "aaxis": {
            "gridcolor": "white",
            "linecolor": "white",
            "ticks": ""
           },
           "baxis": {
            "gridcolor": "white",
            "linecolor": "white",
            "ticks": ""
           },
           "bgcolor": "#E5ECF6",
           "caxis": {
            "gridcolor": "white",
            "linecolor": "white",
            "ticks": ""
           }
          },
          "title": {
           "x": 0.05
          },
          "xaxis": {
           "automargin": true,
           "gridcolor": "white",
           "linecolor": "white",
           "ticks": "",
           "title": {
            "standoff": 15
           },
           "zerolinecolor": "white",
           "zerolinewidth": 2
          },
          "yaxis": {
           "automargin": true,
           "gridcolor": "white",
           "linecolor": "white",
           "ticks": "",
           "title": {
            "standoff": 15
           },
           "zerolinecolor": "white",
           "zerolinewidth": 2
          }
         }
        },
        "title": {
         "text": "Model Agreement (Jaccard Similarity: 1 = full overlap)"
        },
        "xaxis": {
         "anchor": "y",
         "constrain": "domain",
         "domain": [
          0,
          1
         ],
         "scaleanchor": "y"
        },
        "yaxis": {
         "anchor": "x",
         "autorange": "reversed",
         "constrain": "domain",
         "domain": [
          0,
          1
         ]
        }
       }
      }
     },
     "metadata": {},
     "output_type": "display_data"
    },
    {
     "name": "stderr",
     "output_type": "stream",
     "text": [
      "/opt/anaconda3/lib/python3.11/site-packages/plotly/express/_core.py:1979: FutureWarning:\n",
      "\n",
      "When grouping with a length-1 list-like, you will need to pass a length-1 tuple to get_group in a future version of pandas. Pass `(name,)` instead of `name` to silence this warning.\n",
      "\n"
     ]
    },
    {
     "data": {
      "application/vnd.plotly.v1+json": {
       "config": {
        "plotlyServerURL": "https://plot.ly"
       },
       "data": [
        {
         "alignmentgroup": "True",
         "hovertemplate": "Model=%{x}<br>Percent=%{y}<br>text=%{text}<extra></extra>",
         "legendgroup": "anomaly_iso",
         "marker": {
          "color": "rgb(27,158,119)",
          "pattern": {
           "shape": ""
          }
         },
         "name": "anomaly_iso",
         "offsetgroup": "anomaly_iso",
         "orientation": "v",
         "showlegend": true,
         "text": [
          3.12
         ],
         "textposition": "outside",
         "type": "bar",
         "x": [
          "anomaly_iso"
         ],
         "xaxis": "x",
         "y": [
          3.125
         ],
         "yaxis": "y"
        },
        {
         "alignmentgroup": "True",
         "hovertemplate": "Model=%{x}<br>Percent=%{y}<br>text=%{text}<extra></extra>",
         "legendgroup": "anomaly_lof",
         "marker": {
          "color": "rgb(217,95,2)",
          "pattern": {
           "shape": ""
          }
         },
         "name": "anomaly_lof",
         "offsetgroup": "anomaly_lof",
         "orientation": "v",
         "showlegend": true,
         "text": [
          3.12
         ],
         "textposition": "outside",
         "type": "bar",
         "x": [
          "anomaly_lof"
         ],
         "xaxis": "x",
         "y": [
          3.125
         ],
         "yaxis": "y"
        },
        {
         "alignmentgroup": "True",
         "hovertemplate": "Model=%{x}<br>Percent=%{y}<br>text=%{text}<extra></extra>",
         "legendgroup": "anomaly_svm",
         "marker": {
          "color": "rgb(117,112,179)",
          "pattern": {
           "shape": ""
          }
         },
         "name": "anomaly_svm",
         "offsetgroup": "anomaly_svm",
         "orientation": "v",
         "showlegend": true,
         "text": [
          2.96
         ],
         "textposition": "outside",
         "type": "bar",
         "x": [
          "anomaly_svm"
         ],
         "xaxis": "x",
         "y": [
          2.960526315789474
         ],
         "yaxis": "y"
        },
        {
         "alignmentgroup": "True",
         "hovertemplate": "Model=%{x}<br>Percent=%{y}<br>text=%{text}<extra></extra>",
         "legendgroup": "anomaly_ee",
         "marker": {
          "color": "rgb(231,41,138)",
          "pattern": {
           "shape": ""
          }
         },
         "name": "anomaly_ee",
         "offsetgroup": "anomaly_ee",
         "orientation": "v",
         "showlegend": true,
         "text": [
          3.12
         ],
         "textposition": "outside",
         "type": "bar",
         "x": [
          "anomaly_ee"
         ],
         "xaxis": "x",
         "y": [
          3.125
         ],
         "yaxis": "y"
        }
       ],
       "layout": {
        "barmode": "relative",
        "legend": {
         "title": {
          "text": "Model"
         },
         "tracegroupgap": 0
        },
        "template": {
         "data": {
          "bar": [
           {
            "error_x": {
             "color": "#2a3f5f"
            },
            "error_y": {
             "color": "#2a3f5f"
            },
            "marker": {
             "line": {
              "color": "#E5ECF6",
              "width": 0.5
             },
             "pattern": {
              "fillmode": "overlay",
              "size": 10,
              "solidity": 0.2
             }
            },
            "type": "bar"
           }
          ],
          "barpolar": [
           {
            "marker": {
             "line": {
              "color": "#E5ECF6",
              "width": 0.5
             },
             "pattern": {
              "fillmode": "overlay",
              "size": 10,
              "solidity": 0.2
             }
            },
            "type": "barpolar"
           }
          ],
          "carpet": [
           {
            "aaxis": {
             "endlinecolor": "#2a3f5f",
             "gridcolor": "white",
             "linecolor": "white",
             "minorgridcolor": "white",
             "startlinecolor": "#2a3f5f"
            },
            "baxis": {
             "endlinecolor": "#2a3f5f",
             "gridcolor": "white",
             "linecolor": "white",
             "minorgridcolor": "white",
             "startlinecolor": "#2a3f5f"
            },
            "type": "carpet"
           }
          ],
          "choropleth": [
           {
            "colorbar": {
             "outlinewidth": 0,
             "ticks": ""
            },
            "type": "choropleth"
           }
          ],
          "contour": [
           {
            "colorbar": {
             "outlinewidth": 0,
             "ticks": ""
            },
            "colorscale": [
             [
              0,
              "#0d0887"
             ],
             [
              0.1111111111111111,
              "#46039f"
             ],
             [
              0.2222222222222222,
              "#7201a8"
             ],
             [
              0.3333333333333333,
              "#9c179e"
             ],
             [
              0.4444444444444444,
              "#bd3786"
             ],
             [
              0.5555555555555556,
              "#d8576b"
             ],
             [
              0.6666666666666666,
              "#ed7953"
             ],
             [
              0.7777777777777778,
              "#fb9f3a"
             ],
             [
              0.8888888888888888,
              "#fdca26"
             ],
             [
              1,
              "#f0f921"
             ]
            ],
            "type": "contour"
           }
          ],
          "contourcarpet": [
           {
            "colorbar": {
             "outlinewidth": 0,
             "ticks": ""
            },
            "type": "contourcarpet"
           }
          ],
          "heatmap": [
           {
            "colorbar": {
             "outlinewidth": 0,
             "ticks": ""
            },
            "colorscale": [
             [
              0,
              "#0d0887"
             ],
             [
              0.1111111111111111,
              "#46039f"
             ],
             [
              0.2222222222222222,
              "#7201a8"
             ],
             [
              0.3333333333333333,
              "#9c179e"
             ],
             [
              0.4444444444444444,
              "#bd3786"
             ],
             [
              0.5555555555555556,
              "#d8576b"
             ],
             [
              0.6666666666666666,
              "#ed7953"
             ],
             [
              0.7777777777777778,
              "#fb9f3a"
             ],
             [
              0.8888888888888888,
              "#fdca26"
             ],
             [
              1,
              "#f0f921"
             ]
            ],
            "type": "heatmap"
           }
          ],
          "heatmapgl": [
           {
            "colorbar": {
             "outlinewidth": 0,
             "ticks": ""
            },
            "colorscale": [
             [
              0,
              "#0d0887"
             ],
             [
              0.1111111111111111,
              "#46039f"
             ],
             [
              0.2222222222222222,
              "#7201a8"
             ],
             [
              0.3333333333333333,
              "#9c179e"
             ],
             [
              0.4444444444444444,
              "#bd3786"
             ],
             [
              0.5555555555555556,
              "#d8576b"
             ],
             [
              0.6666666666666666,
              "#ed7953"
             ],
             [
              0.7777777777777778,
              "#fb9f3a"
             ],
             [
              0.8888888888888888,
              "#fdca26"
             ],
             [
              1,
              "#f0f921"
             ]
            ],
            "type": "heatmapgl"
           }
          ],
          "histogram": [
           {
            "marker": {
             "pattern": {
              "fillmode": "overlay",
              "size": 10,
              "solidity": 0.2
             }
            },
            "type": "histogram"
           }
          ],
          "histogram2d": [
           {
            "colorbar": {
             "outlinewidth": 0,
             "ticks": ""
            },
            "colorscale": [
             [
              0,
              "#0d0887"
             ],
             [
              0.1111111111111111,
              "#46039f"
             ],
             [
              0.2222222222222222,
              "#7201a8"
             ],
             [
              0.3333333333333333,
              "#9c179e"
             ],
             [
              0.4444444444444444,
              "#bd3786"
             ],
             [
              0.5555555555555556,
              "#d8576b"
             ],
             [
              0.6666666666666666,
              "#ed7953"
             ],
             [
              0.7777777777777778,
              "#fb9f3a"
             ],
             [
              0.8888888888888888,
              "#fdca26"
             ],
             [
              1,
              "#f0f921"
             ]
            ],
            "type": "histogram2d"
           }
          ],
          "histogram2dcontour": [
           {
            "colorbar": {
             "outlinewidth": 0,
             "ticks": ""
            },
            "colorscale": [
             [
              0,
              "#0d0887"
             ],
             [
              0.1111111111111111,
              "#46039f"
             ],
             [
              0.2222222222222222,
              "#7201a8"
             ],
             [
              0.3333333333333333,
              "#9c179e"
             ],
             [
              0.4444444444444444,
              "#bd3786"
             ],
             [
              0.5555555555555556,
              "#d8576b"
             ],
             [
              0.6666666666666666,
              "#ed7953"
             ],
             [
              0.7777777777777778,
              "#fb9f3a"
             ],
             [
              0.8888888888888888,
              "#fdca26"
             ],
             [
              1,
              "#f0f921"
             ]
            ],
            "type": "histogram2dcontour"
           }
          ],
          "mesh3d": [
           {
            "colorbar": {
             "outlinewidth": 0,
             "ticks": ""
            },
            "type": "mesh3d"
           }
          ],
          "parcoords": [
           {
            "line": {
             "colorbar": {
              "outlinewidth": 0,
              "ticks": ""
             }
            },
            "type": "parcoords"
           }
          ],
          "pie": [
           {
            "automargin": true,
            "type": "pie"
           }
          ],
          "scatter": [
           {
            "fillpattern": {
             "fillmode": "overlay",
             "size": 10,
             "solidity": 0.2
            },
            "type": "scatter"
           }
          ],
          "scatter3d": [
           {
            "line": {
             "colorbar": {
              "outlinewidth": 0,
              "ticks": ""
             }
            },
            "marker": {
             "colorbar": {
              "outlinewidth": 0,
              "ticks": ""
             }
            },
            "type": "scatter3d"
           }
          ],
          "scattercarpet": [
           {
            "marker": {
             "colorbar": {
              "outlinewidth": 0,
              "ticks": ""
             }
            },
            "type": "scattercarpet"
           }
          ],
          "scattergeo": [
           {
            "marker": {
             "colorbar": {
              "outlinewidth": 0,
              "ticks": ""
             }
            },
            "type": "scattergeo"
           }
          ],
          "scattergl": [
           {
            "marker": {
             "colorbar": {
              "outlinewidth": 0,
              "ticks": ""
             }
            },
            "type": "scattergl"
           }
          ],
          "scattermapbox": [
           {
            "marker": {
             "colorbar": {
              "outlinewidth": 0,
              "ticks": ""
             }
            },
            "type": "scattermapbox"
           }
          ],
          "scatterpolar": [
           {
            "marker": {
             "colorbar": {
              "outlinewidth": 0,
              "ticks": ""
             }
            },
            "type": "scatterpolar"
           }
          ],
          "scatterpolargl": [
           {
            "marker": {
             "colorbar": {
              "outlinewidth": 0,
              "ticks": ""
             }
            },
            "type": "scatterpolargl"
           }
          ],
          "scatterternary": [
           {
            "marker": {
             "colorbar": {
              "outlinewidth": 0,
              "ticks": ""
             }
            },
            "type": "scatterternary"
           }
          ],
          "surface": [
           {
            "colorbar": {
             "outlinewidth": 0,
             "ticks": ""
            },
            "colorscale": [
             [
              0,
              "#0d0887"
             ],
             [
              0.1111111111111111,
              "#46039f"
             ],
             [
              0.2222222222222222,
              "#7201a8"
             ],
             [
              0.3333333333333333,
              "#9c179e"
             ],
             [
              0.4444444444444444,
              "#bd3786"
             ],
             [
              0.5555555555555556,
              "#d8576b"
             ],
             [
              0.6666666666666666,
              "#ed7953"
             ],
             [
              0.7777777777777778,
              "#fb9f3a"
             ],
             [
              0.8888888888888888,
              "#fdca26"
             ],
             [
              1,
              "#f0f921"
             ]
            ],
            "type": "surface"
           }
          ],
          "table": [
           {
            "cells": {
             "fill": {
              "color": "#EBF0F8"
             },
             "line": {
              "color": "white"
             }
            },
            "header": {
             "fill": {
              "color": "#C8D4E3"
             },
             "line": {
              "color": "white"
             }
            },
            "type": "table"
           }
          ]
         },
         "layout": {
          "annotationdefaults": {
           "arrowcolor": "#2a3f5f",
           "arrowhead": 0,
           "arrowwidth": 1
          },
          "autotypenumbers": "strict",
          "coloraxis": {
           "colorbar": {
            "outlinewidth": 0,
            "ticks": ""
           }
          },
          "colorscale": {
           "diverging": [
            [
             0,
             "#8e0152"
            ],
            [
             0.1,
             "#c51b7d"
            ],
            [
             0.2,
             "#de77ae"
            ],
            [
             0.3,
             "#f1b6da"
            ],
            [
             0.4,
             "#fde0ef"
            ],
            [
             0.5,
             "#f7f7f7"
            ],
            [
             0.6,
             "#e6f5d0"
            ],
            [
             0.7,
             "#b8e186"
            ],
            [
             0.8,
             "#7fbc41"
            ],
            [
             0.9,
             "#4d9221"
            ],
            [
             1,
             "#276419"
            ]
           ],
           "sequential": [
            [
             0,
             "#0d0887"
            ],
            [
             0.1111111111111111,
             "#46039f"
            ],
            [
             0.2222222222222222,
             "#7201a8"
            ],
            [
             0.3333333333333333,
             "#9c179e"
            ],
            [
             0.4444444444444444,
             "#bd3786"
            ],
            [
             0.5555555555555556,
             "#d8576b"
            ],
            [
             0.6666666666666666,
             "#ed7953"
            ],
            [
             0.7777777777777778,
             "#fb9f3a"
            ],
            [
             0.8888888888888888,
             "#fdca26"
            ],
            [
             1,
             "#f0f921"
            ]
           ],
           "sequentialminus": [
            [
             0,
             "#0d0887"
            ],
            [
             0.1111111111111111,
             "#46039f"
            ],
            [
             0.2222222222222222,
             "#7201a8"
            ],
            [
             0.3333333333333333,
             "#9c179e"
            ],
            [
             0.4444444444444444,
             "#bd3786"
            ],
            [
             0.5555555555555556,
             "#d8576b"
            ],
            [
             0.6666666666666666,
             "#ed7953"
            ],
            [
             0.7777777777777778,
             "#fb9f3a"
            ],
            [
             0.8888888888888888,
             "#fdca26"
            ],
            [
             1,
             "#f0f921"
            ]
           ]
          },
          "colorway": [
           "#636efa",
           "#EF553B",
           "#00cc96",
           "#ab63fa",
           "#FFA15A",
           "#19d3f3",
           "#FF6692",
           "#B6E880",
           "#FF97FF",
           "#FECB52"
          ],
          "font": {
           "color": "#2a3f5f"
          },
          "geo": {
           "bgcolor": "white",
           "lakecolor": "white",
           "landcolor": "#E5ECF6",
           "showlakes": true,
           "showland": true,
           "subunitcolor": "white"
          },
          "hoverlabel": {
           "align": "left"
          },
          "hovermode": "closest",
          "mapbox": {
           "style": "light"
          },
          "paper_bgcolor": "white",
          "plot_bgcolor": "#E5ECF6",
          "polar": {
           "angularaxis": {
            "gridcolor": "white",
            "linecolor": "white",
            "ticks": ""
           },
           "bgcolor": "#E5ECF6",
           "radialaxis": {
            "gridcolor": "white",
            "linecolor": "white",
            "ticks": ""
           }
          },
          "scene": {
           "xaxis": {
            "backgroundcolor": "#E5ECF6",
            "gridcolor": "white",
            "gridwidth": 2,
            "linecolor": "white",
            "showbackground": true,
            "ticks": "",
            "zerolinecolor": "white"
           },
           "yaxis": {
            "backgroundcolor": "#E5ECF6",
            "gridcolor": "white",
            "gridwidth": 2,
            "linecolor": "white",
            "showbackground": true,
            "ticks": "",
            "zerolinecolor": "white"
           },
           "zaxis": {
            "backgroundcolor": "#E5ECF6",
            "gridcolor": "white",
            "gridwidth": 2,
            "linecolor": "white",
            "showbackground": true,
            "ticks": "",
            "zerolinecolor": "white"
           }
          },
          "shapedefaults": {
           "line": {
            "color": "#2a3f5f"
           }
          },
          "ternary": {
           "aaxis": {
            "gridcolor": "white",
            "linecolor": "white",
            "ticks": ""
           },
           "baxis": {
            "gridcolor": "white",
            "linecolor": "white",
            "ticks": ""
           },
           "bgcolor": "#E5ECF6",
           "caxis": {
            "gridcolor": "white",
            "linecolor": "white",
            "ticks": ""
           }
          },
          "title": {
           "x": 0.05
          },
          "xaxis": {
           "automargin": true,
           "gridcolor": "white",
           "linecolor": "white",
           "ticks": "",
           "title": {
            "standoff": 15
           },
           "zerolinecolor": "white",
           "zerolinewidth": 2
          },
          "yaxis": {
           "automargin": true,
           "gridcolor": "white",
           "linecolor": "white",
           "ticks": "",
           "title": {
            "standoff": 15
           },
           "zerolinecolor": "white",
           "zerolinewidth": 2
          }
         }
        },
        "title": {
         "text": "Anomaly % per Model"
        },
        "xaxis": {
         "anchor": "y",
         "categoryarray": [
          "anomaly_iso",
          "anomaly_lof",
          "anomaly_svm",
          "anomaly_ee"
         ],
         "categoryorder": "array",
         "domain": [
          0,
          1
         ],
         "title": {
          "text": "Model"
         }
        },
        "yaxis": {
         "anchor": "x",
         "domain": [
          0,
          1
         ],
         "title": {
          "text": "Percent"
         }
        }
       }
      }
     },
     "metadata": {},
     "output_type": "display_data"
    },
    {
     "data": {
      "image/png": "[encoded data removed]",
      "text/plain": [
       "<Figure size 640x480 with 2 Axes>"
      ]
     },
     "metadata": {},
     "output_type": "display_data"
    }
   ],
   "source": [
    "# === Cell 8: Compare model overlaps and correlations ===\n",
    "import pandas as pd\n",
    "import numpy as np\n",
    "import plotly.express as px\n",
    "import plotly.figure_factory as ff\n",
    "import seaborn as sns\n",
    "import matplotlib.pyplot as plt\n",
    "\n",
    "# Binary anomaly columns\n",
    "anomaly_cols = [\"anomaly_iso\",\"anomaly_lof\",\"anomaly_svm\",\"anomaly_ee\"]\n",
    "\n",
    "# ---- 1️⃣ Overlap / Agreement Matrix ----\n",
    "agree = pd.DataFrame(index=anomaly_cols, columns=anomaly_cols, dtype=float)\n",
    "for a in anomaly_cols:\n",
    "    for b in anomaly_cols:\n",
    "        inter = np.logical_and(df_model[a]==1, df_model[b]==1).sum()\n",
    "        union = np.logical_or(df_model[a]==1, df_model[b]==1).sum()\n",
    "        agree.loc[a,b] = inter/union if union>0 else 0.0\n",
    "\n",
    "fig = px.imshow(\n",
    "    agree, text_auto=True, color_continuous_scale=\"Blues\",\n",
    "    title=\"Model Agreement (Jaccard Similarity: 1 = full overlap)\"\n",
    ")\n",
    "fig.show()\n",
    "\n",
    "# ---- 2️⃣ Anomaly Counts Bar Plot ----\n",
    "count_df = (\n",
    "    df_model[anomaly_cols].sum().reset_index()\n",
    "    .rename(columns={\"index\":\"Model\",0:\"Anomaly_Count\"})\n",
    ")\n",
    "count_df[\"Percent\"] = 100*count_df[\"Anomaly_Count\"]/len(df_model)\n",
    "fig2 = px.bar(\n",
    "    count_df, x=\"Model\", y=\"Percent\",\n",
    "    color=\"Model\", title=\"Anomaly % per Model\",\n",
    "    text=round(count_df[\"Percent\"],2),\n",
    "    color_discrete_sequence=px.colors.qualitative.Dark2\n",
    ")\n",
    "fig2.update_traces(textposition=\"outside\")\n",
    "fig2.show()\n",
    "\n",
    "# ---- 3️⃣ Correlation between model scores ----\n",
    "score_cols = [\"score_iso\",\"score_lof\",\"score_svm\",\"score_ee\"]\n",
    "corr = df_model[score_cols].corr()\n",
    "sns.heatmap(corr, annot=True, cmap=\"coolwarm\", fmt=\".2f\")\n",
    "plt.title(\"Correlation Between Model Anomaly Scores\")\n",
    "plt.show()\n"
   ]
  },
  {
   "cell_type": "code",
   "execution_count": 17,
   "id": "cc01a0b2",
   "metadata": {},
   "outputs": [
    {
     "data": {
      "text/html": [
       "<div>\n",
       "<style scoped>\n",
       "    .dataframe tbody tr th:only-of-type {\n",
       "        vertical-align: middle;\n",
       "    }\n",
       "\n",
       "    .dataframe tbody tr th {\n",
       "        vertical-align: top;\n",
       "    }\n",
       "\n",
       "    .dataframe thead th {\n",
       "        text-align: right;\n",
       "    }\n",
       "</style>\n",
       "<table border=\"1\" class=\"dataframe\">\n",
       "  <thead>\n",
       "    <tr style=\"text-align: right;\">\n",
       "      <th></th>\n",
       "      <th>battery_id</th>\n",
       "      <th>cycle</th>\n",
       "      <th>capacity</th>\n",
       "      <th>discharge_temp_sg</th>\n",
       "      <th>capacity_trend</th>\n",
       "      <th>voltage_trend</th>\n",
       "      <th>ensemble_score</th>\n",
       "      <th>models_flagged</th>\n",
       "    </tr>\n",
       "  </thead>\n",
       "  <tbody>\n",
       "    <tr>\n",
       "      <th>0</th>\n",
       "      <td>B7</td>\n",
       "      <td>121</td>\n",
       "      <td>1.3986</td>\n",
       "      <td>33.5437</td>\n",
       "      <td>-0.0051</td>\n",
       "      <td>0.0028</td>\n",
       "      <td>0.9863</td>\n",
       "      <td>0</td>\n",
       "    </tr>\n",
       "    <tr>\n",
       "      <th>1</th>\n",
       "      <td>B7</td>\n",
       "      <td>125</td>\n",
       "      <td>1.3798</td>\n",
       "      <td>33.3895</td>\n",
       "      <td>-0.0051</td>\n",
       "      <td>-0.0030</td>\n",
       "      <td>0.9834</td>\n",
       "      <td>0</td>\n",
       "    </tr>\n",
       "    <tr>\n",
       "      <th>2</th>\n",
       "      <td>B7</td>\n",
       "      <td>148</td>\n",
       "      <td>1.2662</td>\n",
       "      <td>33.4394</td>\n",
       "      <td>-0.0049</td>\n",
       "      <td>-0.0002</td>\n",
       "      <td>0.9816</td>\n",
       "      <td>0</td>\n",
       "    </tr>\n",
       "    <tr>\n",
       "      <th>3</th>\n",
       "      <td>B5</td>\n",
       "      <td>119</td>\n",
       "      <td>1.4012</td>\n",
       "      <td>33.0274</td>\n",
       "      <td>-0.0051</td>\n",
       "      <td>-0.0049</td>\n",
       "      <td>0.9804</td>\n",
       "      <td>0</td>\n",
       "    </tr>\n",
       "    <tr>\n",
       "      <th>4</th>\n",
       "      <td>B6</td>\n",
       "      <td>98</td>\n",
       "      <td>1.5112</td>\n",
       "      <td>33.4019</td>\n",
       "      <td>-0.0050</td>\n",
       "      <td>0.0013</td>\n",
       "      <td>0.9803</td>\n",
       "      <td>0</td>\n",
       "    </tr>\n",
       "    <tr>\n",
       "      <th>5</th>\n",
       "      <td>B7</td>\n",
       "      <td>95</td>\n",
       "      <td>1.5334</td>\n",
       "      <td>33.2024</td>\n",
       "      <td>-0.0049</td>\n",
       "      <td>-0.0003</td>\n",
       "      <td>0.9787</td>\n",
       "      <td>0</td>\n",
       "    </tr>\n",
       "    <tr>\n",
       "      <th>6</th>\n",
       "      <td>B7</td>\n",
       "      <td>127</td>\n",
       "      <td>1.3615</td>\n",
       "      <td>33.0776</td>\n",
       "      <td>-0.0050</td>\n",
       "      <td>-0.0029</td>\n",
       "      <td>0.9781</td>\n",
       "      <td>0</td>\n",
       "    </tr>\n",
       "    <tr>\n",
       "      <th>7</th>\n",
       "      <td>B6</td>\n",
       "      <td>121</td>\n",
       "      <td>1.3987</td>\n",
       "      <td>33.3785</td>\n",
       "      <td>-0.0051</td>\n",
       "      <td>0.0031</td>\n",
       "      <td>0.9773</td>\n",
       "      <td>0</td>\n",
       "    </tr>\n",
       "    <tr>\n",
       "      <th>8</th>\n",
       "      <td>B6</td>\n",
       "      <td>127</td>\n",
       "      <td>1.3704</td>\n",
       "      <td>33.2941</td>\n",
       "      <td>-0.0050</td>\n",
       "      <td>0.0078</td>\n",
       "      <td>0.9772</td>\n",
       "      <td>0</td>\n",
       "    </tr>\n",
       "    <tr>\n",
       "      <th>9</th>\n",
       "      <td>B7</td>\n",
       "      <td>145</td>\n",
       "      <td>1.2716</td>\n",
       "      <td>33.2295</td>\n",
       "      <td>-0.0049</td>\n",
       "      <td>-0.0009</td>\n",
       "      <td>0.9769</td>\n",
       "      <td>0</td>\n",
       "    </tr>\n",
       "    <tr>\n",
       "      <th>10</th>\n",
       "      <td>B6</td>\n",
       "      <td>116</td>\n",
       "      <td>1.4197</td>\n",
       "      <td>33.0857</td>\n",
       "      <td>-0.0051</td>\n",
       "      <td>-0.0024</td>\n",
       "      <td>0.9764</td>\n",
       "      <td>0</td>\n",
       "    </tr>\n",
       "    <tr>\n",
       "      <th>11</th>\n",
       "      <td>B7</td>\n",
       "      <td>174</td>\n",
       "      <td>1.1299</td>\n",
       "      <td>32.6404</td>\n",
       "      <td>-0.0050</td>\n",
       "      <td>0.0017</td>\n",
       "      <td>0.9746</td>\n",
       "      <td>0</td>\n",
       "    </tr>\n",
       "    <tr>\n",
       "      <th>12</th>\n",
       "      <td>B6</td>\n",
       "      <td>144</td>\n",
       "      <td>1.2779</td>\n",
       "      <td>33.3279</td>\n",
       "      <td>-0.0050</td>\n",
       "      <td>0.0088</td>\n",
       "      <td>0.9743</td>\n",
       "      <td>0</td>\n",
       "    </tr>\n",
       "    <tr>\n",
       "      <th>13</th>\n",
       "      <td>B5</td>\n",
       "      <td>103</td>\n",
       "      <td>1.4878</td>\n",
       "      <td>33.1762</td>\n",
       "      <td>-0.0050</td>\n",
       "      <td>0.0042</td>\n",
       "      <td>0.9733</td>\n",
       "      <td>0</td>\n",
       "    </tr>\n",
       "    <tr>\n",
       "      <th>14</th>\n",
       "      <td>B5</td>\n",
       "      <td>114</td>\n",
       "      <td>1.4312</td>\n",
       "      <td>33.2217</td>\n",
       "      <td>-0.0050</td>\n",
       "      <td>0.0047</td>\n",
       "      <td>0.9730</td>\n",
       "      <td>0</td>\n",
       "    </tr>\n",
       "    <tr>\n",
       "      <th>15</th>\n",
       "      <td>B6</td>\n",
       "      <td>99</td>\n",
       "      <td>1.5071</td>\n",
       "      <td>33.7630</td>\n",
       "      <td>-0.0050</td>\n",
       "      <td>-0.0013</td>\n",
       "      <td>0.9729</td>\n",
       "      <td>0</td>\n",
       "    </tr>\n",
       "    <tr>\n",
       "      <th>16</th>\n",
       "      <td>B6</td>\n",
       "      <td>175</td>\n",
       "      <td>1.1292</td>\n",
       "      <td>32.8004</td>\n",
       "      <td>-0.0049</td>\n",
       "      <td>0.0014</td>\n",
       "      <td>0.9726</td>\n",
       "      <td>0</td>\n",
       "    </tr>\n",
       "    <tr>\n",
       "      <th>17</th>\n",
       "      <td>B6</td>\n",
       "      <td>126</td>\n",
       "      <td>1.3739</td>\n",
       "      <td>33.4446</td>\n",
       "      <td>-0.0050</td>\n",
       "      <td>0.0101</td>\n",
       "      <td>0.9715</td>\n",
       "      <td>0</td>\n",
       "    </tr>\n",
       "    <tr>\n",
       "      <th>18</th>\n",
       "      <td>B6</td>\n",
       "      <td>115</td>\n",
       "      <td>1.4289</td>\n",
       "      <td>33.5002</td>\n",
       "      <td>-0.0050</td>\n",
       "      <td>-0.0050</td>\n",
       "      <td>0.9711</td>\n",
       "      <td>0</td>\n",
       "    </tr>\n",
       "    <tr>\n",
       "      <th>19</th>\n",
       "      <td>B5</td>\n",
       "      <td>180</td>\n",
       "      <td>1.1006</td>\n",
       "      <td>33.2702</td>\n",
       "      <td>-0.0049</td>\n",
       "      <td>0.0028</td>\n",
       "      <td>0.9711</td>\n",
       "      <td>0</td>\n",
       "    </tr>\n",
       "    <tr>\n",
       "      <th>20</th>\n",
       "      <td>B6</td>\n",
       "      <td>128</td>\n",
       "      <td>1.3651</td>\n",
       "      <td>33.1219</td>\n",
       "      <td>-0.0049</td>\n",
       "      <td>0.0042</td>\n",
       "      <td>0.9707</td>\n",
       "      <td>0</td>\n",
       "    </tr>\n",
       "    <tr>\n",
       "      <th>21</th>\n",
       "      <td>B7</td>\n",
       "      <td>128</td>\n",
       "      <td>1.3580</td>\n",
       "      <td>32.6831</td>\n",
       "      <td>-0.0050</td>\n",
       "      <td>-0.0029</td>\n",
       "      <td>0.9705</td>\n",
       "      <td>0</td>\n",
       "    </tr>\n",
       "    <tr>\n",
       "      <th>22</th>\n",
       "      <td>B6</td>\n",
       "      <td>142</td>\n",
       "      <td>1.2932</td>\n",
       "      <td>33.0755</td>\n",
       "      <td>-0.0049</td>\n",
       "      <td>0.0034</td>\n",
       "      <td>0.9702</td>\n",
       "      <td>0</td>\n",
       "    </tr>\n",
       "    <tr>\n",
       "      <th>23</th>\n",
       "      <td>B6</td>\n",
       "      <td>173</td>\n",
       "      <td>1.1349</td>\n",
       "      <td>32.9116</td>\n",
       "      <td>-0.0050</td>\n",
       "      <td>0.0043</td>\n",
       "      <td>0.9697</td>\n",
       "      <td>0</td>\n",
       "    </tr>\n",
       "    <tr>\n",
       "      <th>24</th>\n",
       "      <td>B7</td>\n",
       "      <td>129</td>\n",
       "      <td>1.3482</td>\n",
       "      <td>32.9905</td>\n",
       "      <td>-0.0051</td>\n",
       "      <td>-0.0016</td>\n",
       "      <td>0.9687</td>\n",
       "      <td>0</td>\n",
       "    </tr>\n",
       "  </tbody>\n",
       "</table>\n",
       "</div>"
      ],
      "text/plain": [
       "   battery_id  cycle  capacity  discharge_temp_sg  capacity_trend  \\\n",
       "0          B7    121    1.3986            33.5437         -0.0051   \n",
       "1          B7    125    1.3798            33.3895         -0.0051   \n",
       "2          B7    148    1.2662            33.4394         -0.0049   \n",
       "3          B5    119    1.4012            33.0274         -0.0051   \n",
       "4          B6     98    1.5112            33.4019         -0.0050   \n",
       "5          B7     95    1.5334            33.2024         -0.0049   \n",
       "6          B7    127    1.3615            33.0776         -0.0050   \n",
       "7          B6    121    1.3987            33.3785         -0.0051   \n",
       "8          B6    127    1.3704            33.2941         -0.0050   \n",
       "9          B7    145    1.2716            33.2295         -0.0049   \n",
       "10         B6    116    1.4197            33.0857         -0.0051   \n",
       "11         B7    174    1.1299            32.6404         -0.0050   \n",
       "12         B6    144    1.2779            33.3279         -0.0050   \n",
       "13         B5    103    1.4878            33.1762         -0.0050   \n",
       "14         B5    114    1.4312            33.2217         -0.0050   \n",
       "15         B6     99    1.5071            33.7630         -0.0050   \n",
       "16         B6    175    1.1292            32.8004         -0.0049   \n",
       "17         B6    126    1.3739            33.4446         -0.0050   \n",
       "18         B6    115    1.4289            33.5002         -0.0050   \n",
       "19         B5    180    1.1006            33.2702         -0.0049   \n",
       "20         B6    128    1.3651            33.1219         -0.0049   \n",
       "21         B7    128    1.3580            32.6831         -0.0050   \n",
       "22         B6    142    1.2932            33.0755         -0.0049   \n",
       "23         B6    173    1.1349            32.9116         -0.0050   \n",
       "24         B7    129    1.3482            32.9905         -0.0051   \n",
       "\n",
       "    voltage_trend  ensemble_score  models_flagged  \n",
       "0          0.0028          0.9863               0  \n",
       "1         -0.0030          0.9834               0  \n",
       "2         -0.0002          0.9816               0  \n",
       "3         -0.0049          0.9804               0  \n",
       "4          0.0013          0.9803               0  \n",
       "5         -0.0003          0.9787               0  \n",
       "6         -0.0029          0.9781               0  \n",
       "7          0.0031          0.9773               0  \n",
       "8          0.0078          0.9772               0  \n",
       "9         -0.0009          0.9769               0  \n",
       "10        -0.0024          0.9764               0  \n",
       "11         0.0017          0.9746               0  \n",
       "12         0.0088          0.9743               0  \n",
       "13         0.0042          0.9733               0  \n",
       "14         0.0047          0.9730               0  \n",
       "15        -0.0013          0.9729               0  \n",
       "16         0.0014          0.9726               0  \n",
       "17         0.0101          0.9715               0  \n",
       "18        -0.0050          0.9711               0  \n",
       "19         0.0028          0.9711               0  \n",
       "20         0.0042          0.9707               0  \n",
       "21        -0.0029          0.9705               0  \n",
       "22         0.0034          0.9702               0  \n",
       "23         0.0043          0.9697               0  \n",
       "24        -0.0016          0.9687               0  "
      ]
     },
     "metadata": {},
     "output_type": "display_data"
    },
    {
     "name": "stdout",
     "output_type": "stream",
     "text": [
      "✅ Top 25 anomalies saved to: ../Data/results/top_anomalies.csv\n"
     ]
    },
    {
     "data": {
      "application/vnd.plotly.v1+json": {
       "config": {
        "plotlyServerURL": "https://plot.ly"
       },
       "data": [
        {
         "customdata": [
          [
           "B5",
           0.6821271805945919
          ],
          [
           "B5",
           0.7686714755139566
          ],
          [
           "B5",
           0.6866636226938292
          ],
          [
           "B5",
           0.7120425726010732
          ],
          [
           "B5",
           0.456842246926479
          ],
          [
           "B5",
           0.6781311649086197
          ],
          [
           "B5",
           0.7433475055004487
          ],
          [
           "B5",
           0.7661819955405486
          ],
          [
           "B5",
           0.8186383125446034
          ],
          [
           "B5",
           0.7225838833064722
          ],
          [
           "B5",
           0.7544830600659763
          ],
          [
           "B5",
           0.6996210259585454
          ],
          [
           "B5",
           0.7761857228970717
          ],
          [
           "B5",
           0.7956769446979557
          ],
          [
           "B5",
           0.8431998081845679
          ],
          [
           "B5",
           0.8059608254719317
          ],
          [
           "B5",
           0.866646841007386
          ],
          [
           "B5",
           0.8168967805348996
          ],
          [
           "B5",
           0.7538361327213625
          ],
          [
           "B5",
           0.6756106364509717
          ],
          [
           "B5",
           0.6798925537975492
          ],
          [
           "B5",
           0.7063615353699051
          ],
          [
           "B5",
           0.7112798976981753
          ],
          [
           "B5",
           0.6574120943017108
          ],
          [
           "B5",
           0.7575507756999522
          ],
          [
           "B5",
           0.8152554471931281
          ],
          [
           "B5",
           0.817039168142099
          ],
          [
           "B5",
           0.8409958829009513
          ],
          [
           "B5",
           0.7912672522110085
          ],
          [
           "B5",
           0.8642127177286129
          ],
          [
           "B5",
           0.8161208723186646
          ],
          [
           "B5",
           0.8438364982699723
          ],
          [
           "B5",
           0.9258855833655579
          ],
          [
           "B5",
           0.9172857223263495
          ],
          [
           "B5",
           0.933975936488552
          ],
          [
           "B5",
           0.8668177432326942
          ],
          [
           "B5",
           0.8483791376144756
          ],
          [
           "B5",
           0.8672078658121176
          ],
          [
           "B5",
           0.8603460354989728
          ],
          [
           "B5",
           0.8681526802325484
          ],
          [
           "B5",
           0.8484810558875326
          ],
          [
           "B5",
           0.7915135588691529
          ],
          [
           "B5",
           0.8327981625710783
          ],
          [
           "B5",
           0.8228031245290781
          ],
          [
           "B5",
           0.7832739117640987
          ],
          [
           "B5",
           0.7669541241424056
          ],
          [
           "B5",
           0.39461220835366106
          ],
          [
           "B5",
           0.7418267587559639
          ],
          [
           "B5",
           0.8906109811045015
          ],
          [
           "B5",
           0.9280958654382829
          ],
          [
           "B5",
           0.802058203992127
          ],
          [
           "B5",
           0.9001919373093656
          ],
          [
           "B5",
           0.9147706823957948
          ],
          [
           "B5",
           0.8159197662729346
          ],
          [
           "B5",
           0.7630026085977077
          ],
          [
           "B5",
           0.8585966901092795
          ],
          [
           "B5",
           0.8697020435247942
          ],
          [
           "B5",
           0.8854217655092882
          ],
          [
           "B5",
           0.9189495617849481
          ],
          [
           "B5",
           0.9430920396414559
          ],
          [
           "B5",
           0.9304754536556626
          ],
          [
           "B5",
           0.9438541477530918
          ],
          [
           "B5",
           0.9022970001838091
          ],
          [
           "B5",
           0.8293658372021131
          ],
          [
           "B5",
           0.8876466835691441
          ],
          [
           "B5",
           0.9228358552230963
          ],
          [
           "B5",
           0.9550138071880633
          ],
          [
           "B5",
           0.9514698390865708
          ],
          [
           "B5",
           0.949572308411768
          ],
          [
           "B5",
           0.9372322304312445
          ],
          [
           "B5",
           0.947350678255939
          ],
          [
           "B5",
           0.9043671000188763
          ],
          [
           "B5",
           0.9112246193566269
          ],
          [
           "B5",
           0.9138684303848612
          ],
          [
           "B5",
           0.9373489393476362
          ],
          [
           "B5",
           0.9414290805024125
          ],
          [
           "B5",
           0.9314374515363333
          ],
          [
           "B5",
           0.9669846192760041
          ],
          [
           "B5",
           0.9733076566077559
          ],
          [
           "B5",
           0.9374399678359787
          ],
          [
           "B5",
           0.9410659252062089
          ],
          [
           "B5",
           0.9611238283842354
          ],
          [
           "B5",
           0.9347125501254812
          ],
          [
           "B5",
           0.9139555428344801
          ],
          [
           "B5",
           0.915666388103413
          ],
          [
           "B5",
           0.8797542089796032
          ],
          [
           "B5",
           0.8399187666795067
          ],
          [
           "B5",
           0.7118356066707479
          ],
          [
           "B5",
           0.8595781192675341
          ],
          [
           "B5",
           0.9730394778301524
          ],
          [
           "B5",
           0.9219700262448679
          ],
          [
           "B5",
           0.9206645107558558
          ],
          [
           "B5",
           0.8977942431939105
          ],
          [
           "B5",
           0.9235786461426077
          ],
          [
           "B5",
           0.9803853345117681
          ],
          [
           "B5",
           0.9663259969516733
          ],
          [
           "B5",
           0.9574053896295094
          ],
          [
           "B5",
           0.968357478731714
          ],
          [
           "B5",
           0.930268525344246
          ],
          [
           "B5",
           0.9151168669147207
          ],
          [
           "B5",
           0.9290008719896853
          ],
          [
           "B5",
           0.8980000217362684
          ],
          [
           "B5",
           0.8394771753870296
          ],
          [
           "B5",
           0.7980307312490037
          ],
          [
           "B5",
           0.649296543276375
          ],
          [
           "B5",
           0.7206147343861665
          ],
          [
           "B5",
           0.8849883270124469
          ],
          [
           "B5",
           0.9429686532170194
          ],
          [
           "B5",
           0.9388020064996904
          ],
          [
           "B5",
           0.9086399895776577
          ],
          [
           "B5",
           0.7141215187907716
          ],
          [
           "B5",
           0.5520960117156185
          ],
          [
           "B5",
           0.7576712880077537
          ],
          [
           "B5",
           0.889875006257598
          ],
          [
           "B5",
           0.6804451206197776
          ],
          [
           "B5",
           0.8050329457693237
          ],
          [
           "B5",
           0.8240036009068845
          ],
          [
           "B5",
           0.8262498365581061
          ],
          [
           "B5",
           0.8806239879594016
          ],
          [
           "B5",
           0.8674239250853989
          ],
          [
           "B5",
           0.7015777815021857
          ],
          [
           "B5",
           0.4388158393130773
          ],
          [
           "B5",
           0.1626889518814384
          ],
          [
           "B5",
           0.27074383799602897
          ],
          [
           "B5",
           0.5545851894529187
          ],
          [
           "B5",
           0.9059328970324975
          ],
          [
           "B5",
           0.8684844395357783
          ],
          [
           "B5",
           0.9277302744695387
          ],
          [
           "B5",
           0.9294384569981751
          ],
          [
           "B5",
           0.9171871521723771
          ],
          [
           "B5",
           0.9317304744704487
          ],
          [
           "B5",
           0.9436390665296148
          ],
          [
           "B5",
           0.96626044380665
          ],
          [
           "B5",
           0.9582412467443442
          ],
          [
           "B5",
           0.9034644355176537
          ],
          [
           "B5",
           0.921322667637428
          ],
          [
           "B5",
           0.6608031582416097
          ],
          [
           "B5",
           0.5287871162121325
          ],
          [
           "B5",
           0.5225896353999147
          ],
          [
           "B5",
           0.8587169173237942
          ],
          [
           "B5",
           0.9013593028730376
          ],
          [
           "B5",
           0.9392919127129944
          ],
          [
           "B5",
           0.38325810691271167
          ],
          [
           "B5",
           0.43119354661366527
          ],
          [
           "B5",
           0.9109518882233327
          ],
          [
           "B5",
           0.9265170575571582
          ],
          [
           "B5",
           0.9147182016172357
          ],
          [
           "B5",
           0.9309873453081721
          ],
          [
           "B5",
           0.8485840150493893
          ],
          [
           "B5",
           0.864496772846079
          ],
          [
           "B5",
           0.7082023099958966
          ],
          [
           "B5",
           0.8741552820727234
          ],
          [
           "B5",
           0.9604231279540995
          ],
          [
           "B5",
           0.9685160056142577
          ],
          [
           "B5",
           0.961590132759624
          ],
          [
           "B5",
           0.9711247164087374
          ],
          [
           "B5",
           0.9633172912886317
          ],
          [
           "B5",
           0.9610711028028556
          ],
          [
           "B5",
           0.9554793122050254
          ],
          [
           "B5",
           0.9457950184157797
          ],
          [
           "B5",
           0.9490822808381948
          ],
          [
           "B5",
           0.9267494273215378
          ],
          [
           "B5",
           0.9530602478474616
          ],
          [
           "B5",
           0.9106214634332664
          ],
          [
           "B5",
           0.7163640690701465
          ],
          [
           "B5",
           0.8824752264331593
          ],
          [
           "B5",
           0.8588448344879234
          ],
          [
           "B5",
           0.7863912927410848
          ],
          [
           "B5",
           0.946564812291615
          ],
          [
           "B5",
           0.8932164586242812
          ],
          [
           "B5",
           0.8110984699558139
          ],
          [
           "B5",
           0.7251630979510743
          ],
          [
           "B5",
           0.8014861228476486
          ],
          [
           "B5",
           0.8324653742874352
          ],
          [
           "B5",
           0.8196982220473981
          ],
          [
           "B5",
           0.6987838940281774
          ],
          [
           "B5",
           0.7124872101538569
          ],
          [
           "B5",
           0.8235476975696348
          ],
          [
           "B5",
           0.8814912199648982
          ],
          [
           "B5",
           0.8917560891045445
          ],
          [
           "B5",
           0.9316217127095856
          ],
          [
           "B5",
           0.9291976615108164
          ],
          [
           "B5",
           0.8950054418600486
          ],
          [
           "B5",
           0.8976679478650926
          ],
          [
           "B5",
           0.8532582223295759
          ],
          [
           "B5",
           0.743581753893073
          ],
          [
           "B5",
           0.65682536480162
          ],
          [
           "B5",
           0.8259590255204337
          ],
          [
           "B5",
           0.8632410609095571
          ],
          [
           "B5",
           0.8781551071874908
          ],
          [
           "B5",
           0.8607013058082178
          ],
          [
           "B5",
           0.8527037394075061
          ],
          [
           "B5",
           0.7729284671490481
          ],
          [
           "B5",
           0.7836185499784485
          ],
          [
           "B5",
           0.8505097577606088
          ],
          [
           "B5",
           0.8264725522467584
          ],
          [
           "B6",
           0.781957696334348
          ],
          [
           "B6",
           0.8279997834437617
          ],
          [
           "B6",
           0.8200054973960512
          ],
          [
           "B6",
           0.848261755764492
          ],
          [
           "B6",
           0.8218997799121923
          ],
          [
           "B6",
           0.8332949737122594
          ],
          [
           "B6",
           0.8180791394898302
          ],
          [
           "B6",
           0.8245711270395131
          ],
          [
           "B6",
           0.763336988426369
          ],
          [
           "B6",
           0.7474766329267437
          ],
          [
           "B6",
           0.700981177584085
          ],
          [
           "B6",
           0.7775519119429097
          ],
          [
           "B6",
           0.8290256483232373
          ],
          [
           "B6",
           0.847366812933025
          ],
          [
           "B6",
           0.8505221254529982
          ],
          [
           "B6",
           0.7970119172605196
          ],
          [
           "B6",
           0.831986612825913
          ],
          [
           "B6",
           0.8282305780560909
          ],
          [
           "B6",
           0.8615473519968353
          ],
          [
           "B6",
           0.8838169632776349
          ],
          [
           "B6",
           0.7931050037013131
          ],
          [
           "B6",
           0.19429866496150808
          ],
          [
           "B6",
           0.4274437559135964
          ],
          [
           "B6",
           0.38484684280247605
          ],
          [
           "B6",
           0.592405277496722
          ],
          [
           "B6",
           0.7722677003807739
          ],
          [
           "B6",
           0.7755414892813728
          ],
          [
           "B6",
           0.8531146111279986
          ],
          [
           "B6",
           0.9199716619247553
          ],
          [
           "B6",
           0.8169320698098601
          ],
          [
           "B6",
           0.6772163059536962
          ],
          [
           "B6",
           0.7656204529148832
          ],
          [
           "B6",
           0.8449336673891834
          ],
          [
           "B6",
           0.8687262121150078
          ],
          [
           "B6",
           0.9279360051112148
          ],
          [
           "B6",
           0.8804866175204027
          ],
          [
           "B6",
           0.5824006214863775
          ],
          [
           "B6",
           0.580052526419814
          ],
          [
           "B6",
           0.7461710571298489
          ],
          [
           "B6",
           0.7720819800560687
          ],
          [
           "B6",
           0.8988301155893785
          ],
          [
           "B6",
           0.9510897133083761
          ],
          [
           "B6",
           0.9388583347213693
          ],
          [
           "B6",
           0.8980730991376338
          ],
          [
           "B6",
           0.8346165827210472
          ],
          [
           "B6",
           0.8358580561705706
          ],
          [
           "B6",
           0.934726385935782
          ],
          [
           "B6",
           0.8949114053301713
          ],
          [
           "B6",
           0.9060688049035419
          ],
          [
           "B6",
           0.8901440211181052
          ],
          [
           "B6",
           0.8859820647430035
          ],
          [
           "B6",
           0.8409937841137686
          ],
          [
           "B6",
           0.9138131939757703
          ],
          [
           "B6",
           0.9207318639357495
          ],
          [
           "B6",
           0.905180360683263
          ],
          [
           "B6",
           0.955539052540757
          ],
          [
           "B6",
           0.9506692133758567
          ],
          [
           "B6",
           0.9314502932951395
          ],
          [
           "B6",
           0.9575370353682846
          ],
          [
           "B6",
           0.9411853116069498
          ],
          [
           "B6",
           0.9446274187208715
          ],
          [
           "B6",
           0.8991941801500583
          ],
          [
           "B6",
           0.8998608311815374
          ],
          [
           "B6",
           0.8222738142039152
          ],
          [
           "B6",
           0.8588400991287437
          ],
          [
           "B6",
           0.8875407771779495
          ],
          [
           "B6",
           0.8786597824943443
          ],
          [
           "B6",
           0.9086938112016977
          ],
          [
           "B6",
           0.7918653497915348
          ],
          [
           "B6",
           0.8623177033968978
          ],
          [
           "B6",
           0.8832348473709047
          ],
          [
           "B6",
           0.8445768421554516
          ],
          [
           "B6",
           0.9558532411872814
          ],
          [
           "B6",
           0.980333817925026
          ],
          [
           "B6",
           0.9728957937148397
          ],
          [
           "B6",
           0.9097639306948103
          ],
          [
           "B6",
           0.8902478948211352
          ],
          [
           "B6",
           0.945546206002303
          ],
          [
           "B6",
           0.9326019220273777
          ],
          [
           "B6",
           0.9445476472988696
          ],
          [
           "B6",
           0.9001938145783243
          ],
          [
           "B6",
           0.8527654157397109
          ],
          [
           "B6",
           0.8734181745617244
          ],
          [
           "B6",
           0.9455124792347953
          ],
          [
           "B6",
           0.9179324767858386
          ],
          [
           "B6",
           0.8168930193099151
          ],
          [
           "B6",
           0.7384352395872213
          ],
          [
           "B6",
           0.8563123201825584
          ],
          [
           "B6",
           0.9531384748651269
          ],
          [
           "B6",
           0.9653521225847929
          ],
          [
           "B6",
           0.9711341497415665
          ],
          [
           "B6",
           0.9763902411369418
          ],
          [
           "B6",
           0.9686128756043813
          ],
          [
           "B6",
           0.9399963883399585
          ],
          [
           "B6",
           0.9244501818632396
          ],
          [
           "B6",
           0.907083617479916
          ],
          [
           "B6",
           0.9772861530519725
          ],
          [
           "B6",
           0.9535874216892797
          ],
          [
           "B6",
           0.956284416241012
          ],
          [
           "B6",
           0.9252832660455078
          ],
          [
           "B6",
           0.9438582951240162
          ],
          [
           "B6",
           0.9714622628456246
          ],
          [
           "B6",
           0.9771866673647922
          ],
          [
           "B6",
           0.9706816075620583
          ],
          [
           "B6",
           0.8753967020194202
          ],
          [
           "B6",
           0.7833171639456635
          ],
          [
           "B6",
           0.9052431877694491
          ],
          [
           "B6",
           0.8913691354589274
          ],
          [
           "B6",
           0.8262981678725987
          ],
          [
           "B6",
           0.793459082621737
          ],
          [
           "B6",
           0.9427358907811548
          ],
          [
           "B6",
           0.8706696116812247
          ],
          [
           "B6",
           0.8557883987035091
          ],
          [
           "B6",
           0.7689933331721792
          ],
          [
           "B6",
           0.8326166410534562
          ],
          [
           "B6",
           0.8775710860653474
          ],
          [
           "B6",
           0.7976224329163465
          ],
          [
           "B6",
           0.9701900015957704
          ],
          [
           "B6",
           0.9566597857775085
          ],
          [
           "B6",
           0.9743177163487103
          ],
          [
           "B6",
           0.9619170170894485
          ],
          [
           "B6",
           0.9552188161201576
          ],
          [
           "B6",
           0.8919018911352643
          ],
          [
           "B6",
           0.8762431174143087
          ],
          [
           "B6",
           0.8728423635148278
          ],
          [
           "B6",
           0.9217609873742021
          ],
          [
           "B6",
           0.9361172940491227
          ],
          [
           "B6",
           0.9642383618385726
          ],
          [
           "B6",
           0.8938091534782335
          ],
          [
           "B6",
           0.9449111502681713
          ],
          [
           "B6",
           0.9199501674777988
          ],
          [
           "B6",
           0.8836460867528458
          ],
          [
           "B6",
           0.8489431097992541
          ],
          [
           "B6",
           0.7959453621925708
          ],
          [
           "B6",
           0.9344954362957921
          ],
          [
           "B6",
           0.8633167102092006
          ],
          [
           "B6",
           0.8598232235719914
          ],
          [
           "B6",
           0.9379795111957141
          ],
          [
           "B6",
           0.948668090835974
          ],
          [
           "B6",
           0.9491815200769911
          ],
          [
           "B6",
           0.9533758072316223
          ],
          [
           "B6",
           0.939508373024144
          ],
          [
           "B6",
           0.9086651926668179
          ],
          [
           "B6",
           0.8425459699583819
          ],
          [
           "B6",
           0.8923063890458769
          ],
          [
           "B6",
           0.9320699479560561
          ],
          [
           "B6",
           0.9648069438310249
          ],
          [
           "B6",
           0.962181402143141
          ],
          [
           "B6",
           0.9697031022673978
          ],
          [
           "B6",
           0.9608171455571878
          ],
          [
           "B6",
           0.972558681807174
          ],
          [
           "B6",
           0.9217219650038367
          ],
          [
           "B6",
           0.8254939893630003
          ],
          [
           "B6",
           0.835876355431606
          ],
          [
           "B6",
           0.9332473708188531
          ],
          [
           "B6",
           0.9258930918626018
          ],
          [
           "B6",
           0.9260190241143224
          ],
          [
           "B6",
           0.8597671831327014
          ],
          [
           "B6",
           0.9132776463143204
          ],
          [
           "B6",
           0.8881254864942505
          ],
          [
           "B6",
           0.8711791231319268
          ],
          [
           "B6",
           0.7435340935783918
          ],
          [
           "B6",
           0.7670984464092513
          ],
          [
           "B6",
           0.7839769786014422
          ],
          [
           "B6",
           0.9379780881780383
          ],
          [
           "B6",
           0.9374870279545883
          ],
          [
           "B6",
           0.949500685539481
          ],
          [
           "B6",
           0.9215936997875938
          ],
          [
           "B6",
           0.8844226895310126
          ],
          [
           "B6",
           0.9126756941326076
          ],
          [
           "B6",
           0.9454347101858678
          ],
          [
           "B6",
           0.9532338749707048
          ],
          [
           "B6",
           0.9390446550385261
          ],
          [
           "B6",
           0.9409108986045307
          ],
          [
           "B6",
           0.9389732001584752
          ],
          [
           "B6",
           0.9215116355818016
          ],
          [
           "B6",
           0.8858879937249
          ],
          [
           "B6",
           0.923675211157459
          ],
          [
           "B6",
           0.8868606459234236
          ],
          [
           "B6",
           0.8158995325969671
          ],
          [
           "B6",
           0.463162066618533
          ],
          [
           "B6",
           0.6217208144479713
          ],
          [
           "B6",
           0.7526823377711516
          ],
          [
           "B6",
           0.9103127327796292
          ],
          [
           "B6",
           0.9016522845535228
          ],
          [
           "B6",
           0.6405344353990373
          ],
          [
           "B7",
           0.8060798587659669
          ],
          [
           "B7",
           0.7974729212338993
          ],
          [
           "B7",
           0.8215338580180425
          ],
          [
           "B7",
           0.7442499418978504
          ],
          [
           "B7",
           0.8251086804720188
          ],
          [
           "B7",
           0.7469228241895092
          ],
          [
           "B7",
           0.7971848556332066
          ],
          [
           "B7",
           0.7971086512577321
          ],
          [
           "B7",
           0.5682439213407506
          ],
          [
           "B7",
           0.42563146765415516
          ],
          [
           "B7",
           0.6845016900980173
          ],
          [
           "B7",
           0.7429577854714107
          ],
          [
           "B7",
           0.7885745066721314
          ],
          [
           "B7",
           0.7953466646509046
          ],
          [
           "B7",
           0.8107075763439011
          ],
          [
           "B7",
           0.7557255847648637
          ],
          [
           "B7",
           0.782086177685168
          ],
          [
           "B7",
           0.710278408437683
          ],
          [
           "B7",
           0.8830800624822162
          ],
          [
           "B7",
           0.880528205169752
          ],
          [
           "B7",
           0.893583400844542
          ],
          [
           "B7",
           0.8021120987824727
          ],
          [
           "B7",
           0.8437656181764681
          ],
          [
           "B7",
           0.7973365699661263
          ],
          [
           "B7",
           0.9059756587444036
          ],
          [
           "B7",
           0.8485875409698004
          ],
          [
           "B7",
           0.8689105035187948
          ],
          [
           "B7",
           0.7576732951899596
          ],
          [
           "B7",
           0.6901063155235613
          ],
          [
           "B7",
           0.776629395082598
          ],
          [
           "B7",
           0.8071851744606966
          ],
          [
           "B7",
           0.8326649883106956
          ],
          [
           "B7",
           0.8572421128849756
          ],
          [
           "B7",
           0.8902858857965944
          ],
          [
           "B7",
           0.8694024215693542
          ],
          [
           "B7",
           0.836648337408564
          ],
          [
           "B7",
           0.8719629238236103
          ],
          [
           "B7",
           0.9099327848975394
          ],
          [
           "B7",
           0.8458602198005449
          ],
          [
           "B7",
           0.786325496389647
          ],
          [
           "B7",
           0.7569910828455305
          ],
          [
           "B7",
           0.7687197342172333
          ],
          [
           "B7",
           0.806034410049989
          ],
          [
           "B7",
           0.9020006545072814
          ],
          [
           "B7",
           0.9379490879305659
          ],
          [
           "B7",
           0.8951824676763844
          ],
          [
           "B7",
           0.9203560916433378
          ],
          [
           "B7",
           0.9440494738250764
          ],
          [
           "B7",
           0.9577534028014696
          ],
          [
           "B7",
           0.886545710643525
          ],
          [
           "B7",
           0.9489410983270472
          ],
          [
           "B7",
           0.9033271234355168
          ],
          [
           "B7",
           0.8942433416177311
          ],
          [
           "B7",
           0.919102931121188
          ],
          [
           "B7",
           0.9139709610150033
          ],
          [
           "B7",
           0.8810221035331474
          ],
          [
           "B7",
           0.8989506472613404
          ],
          [
           "B7",
           0.8842810008490705
          ],
          [
           "B7",
           0.7524169058108782
          ],
          [
           "B7",
           0.8629758651881416
          ],
          [
           "B7",
           0.7620595327583479
          ],
          [
           "B7",
           0.7685097873523394
          ],
          [
           "B7",
           0.8487351929444754
          ],
          [
           "B7",
           0.8252965079867732
          ],
          [
           "B7",
           0.8395822588374763
          ],
          [
           "B7",
           0.9054476059654646
          ],
          [
           "B7",
           0.9261705107763465
          ],
          [
           "B7",
           0.8901628771697194
          ],
          [
           "B7",
           0.9193439210723028
          ],
          [
           "B7",
           0.9079505685135001
          ],
          [
           "B7",
           0.9786748653353987
          ],
          [
           "B7",
           0.9606335994814391
          ],
          [
           "B7",
           0.9037478613400785
          ],
          [
           "B7",
           0.9195856109591553
          ],
          [
           "B7",
           0.968098384414718
          ],
          [
           "B7",
           0.9334142510872124
          ],
          [
           "B7",
           0.8753365872668424
          ],
          [
           "B7",
           0.7942129887518068
          ],
          [
           "B7",
           0.8304025896926509
          ],
          [
           "B7",
           0.8171034319323538
          ],
          [
           "B7",
           0.7992871836552684
          ],
          [
           "B7",
           0.6351833778593663
          ],
          [
           "B7",
           0.430976948943503
          ],
          [
           "B7",
           0.34271641186388985
          ],
          [
           "B7",
           0.5748242079262226
          ],
          [
           "B7",
           0.8186907457724263
          ],
          [
           "B7",
           0.8980111140648301
          ],
          [
           "B7",
           0.9081958462562367
          ],
          [
           "B7",
           0.8980977788038947
          ],
          [
           "B7",
           0.8647681453856952
          ],
          [
           "B7",
           0.934170286616899
          ],
          [
           "B7",
           0.9532308371059137
          ],
          [
           "B7",
           0.9425144952987552
          ],
          [
           "B7",
           0.9121017441180526
          ],
          [
           "B7",
           0.9557716770955097
          ],
          [
           "B7",
           0.9614050627560753
          ],
          [
           "B7",
           0.9862582118871881
          ],
          [
           "B7",
           0.9533311793205543
          ],
          [
           "B7",
           0.9415730567931311
          ],
          [
           "B7",
           0.9425743158781061
          ],
          [
           "B7",
           0.9834291750927224
          ],
          [
           "B7",
           0.9145531554242168
          ],
          [
           "B7",
           0.9781155324103515
          ],
          [
           "B7",
           0.970543806942175
          ],
          [
           "B7",
           0.9687492622087706
          ],
          [
           "B7",
           0.9365551891358923
          ],
          [
           "B7",
           0.8900223763061944
          ],
          [
           "B7",
           0.8830943630406143
          ],
          [
           "B7",
           0.7894840057450476
          ],
          [
           "B7",
           0.8242009407337475
          ],
          [
           "B7",
           0.7708855204039265
          ],
          [
           "B7",
           0.6569230567368995
          ],
          [
           "B7",
           0.894179729761164
          ],
          [
           "B7",
           0.941598724825685
          ],
          [
           "B7",
           0.8926203959463015
          ],
          [
           "B7",
           0.9374124696913144
          ],
          [
           "B7",
           0.8647096600362152
          ],
          [
           "B7",
           0.765407353990343
          ],
          [
           "B7",
           0.9186351377666349
          ],
          [
           "B7",
           0.9499289270072064
          ],
          [
           "B7",
           0.9769121373190909
          ],
          [
           "B7",
           0.9379045036256508
          ],
          [
           "B7",
           0.9386483896575706
          ],
          [
           "B7",
           0.9816482189298503
          ],
          [
           "B7",
           0.9576430533083394
          ],
          [
           "B7",
           0.9259997443629915
          ],
          [
           "B7",
           0.9101576923146589
          ],
          [
           "B7",
           0.9071725007679812
          ],
          [
           "B7",
           0.9193922522970044
          ],
          [
           "B7",
           0.9544136793772545
          ],
          [
           "B7",
           0.9282885445428071
          ],
          [
           "B7",
           0.9303119952463252
          ],
          [
           "B7",
           0.9345913809507411
          ],
          [
           "B7",
           0.8928173778326358
          ],
          [
           "B7",
           0.8941876896928829
          ],
          [
           "B7",
           0.8502536530008844
          ],
          [
           "B7",
           0.870531258576045
          ],
          [
           "B7",
           0.8709894178095241
          ],
          [
           "B7",
           0.9359343713036363
          ],
          [
           "B7",
           0.8946649309160994
          ],
          [
           "B7",
           0.9036471413206991
          ],
          [
           "B7",
           0.8999810258851707
          ],
          [
           "B7",
           0.9300141225311765
          ],
          [
           "B7",
           0.9463960565548083
          ],
          [
           "B7",
           0.9404986260099091
          ],
          [
           "B7",
           0.9387300809641184
          ],
          [
           "B7",
           0.938657545598703
          ],
          [
           "B7",
           0.9630296145725702
          ],
          [
           "B7",
           0.9671932326706396
          ],
          [
           "B7",
           0.9746038379220765
          ],
          [
           "B7",
           0.9436118092004164
          ],
          [
           "B7",
           0.7718055013141001
          ],
          [
           "B7",
           0.8583509446257616
          ],
          [
           "B7",
           0.9155971255961226
          ],
          [
           "B7",
           0.939475954391362
          ],
          [
           "B7",
           0.8863546276225839
          ],
          [
           "B7",
           0.8540512744036128
          ],
          [
           "B7",
           0.7629899729569268
          ],
          [
           "B7",
           0.862395411847057
          ],
          [
           "B7",
           0.959068480396535
          ],
          [
           "B7",
           0.9546223170947589
          ],
          [
           "B7",
           0.9176283060202769
          ],
          [
           "B7",
           0.95556493993538
          ],
          [
           "B7",
           0.9367761280307008
          ],
          [
           "B7",
           0.9360684499980152
          ],
          [
           "B7",
           0.8446243098326429
          ],
          [
           "B7",
           0.8574136585635546
          ],
          [
           "B7",
           0.9226725244085796
          ],
          [
           "B7",
           0.9465521981366442
          ],
          [
           "B7",
           0.9335061660463991
          ],
          [
           "B7",
           0.9348383490622143
          ],
          [
           "B7",
           0.8456659878357814
          ],
          [
           "B7",
           0.9175956198296932
          ],
          [
           "B7",
           0.8974517950324568
          ],
          [
           "B7",
           0.8304582026386125
          ],
          [
           "B7",
           0.725598638501943
          ],
          [
           "B7",
           0.8380668208272857
          ],
          [
           "B7",
           0.789343390232159
          ],
          [
           "B7",
           0.7839879771318549
          ],
          [
           "B7",
           0.7625714137045829
          ],
          [
           "B7",
           0.8973155149815714
          ],
          [
           "B7",
           0.886620106025401
          ],
          [
           "B7",
           0.8805873685906757
          ],
          [
           "B7",
           0.8396068730845044
          ],
          [
           "B7",
           0.7218563441933632
          ],
          [
           "B7",
           0.7758965571283
          ],
          [
           "B7",
           0.5552099800451821
          ],
          [
           "B7",
           0.5449229068312185
          ],
          [
           "B7",
           0.5833733605952282
          ],
          [
           "B7",
           0.5634961129153373
          ],
          [
           "B7",
           0.758785780420257
          ],
          [
           "B7",
           0.7867243530406671
          ],
          [
           "B7",
           0.8657248129650996
          ],
          [
           "B7",
           0.9076668763846658
          ],
          [
           "B7",
           0.8682896512403475
          ],
          [
           "B7",
           0.8098999298927877
          ],
          [
           "B7",
           0.8293659462504356
          ],
          [
           "B7",
           0.7448345598742665
          ],
          [
           "B7",
           0.8265655476284521
          ],
          [
           "B7",
           0.8638829470995603
          ],
          [
           "B7",
           0.8348072724651896
          ],
          [
           "B7",
           0.8307588788220738
          ],
          [
           "B7",
           0.8789063064878895
          ],
          [
           "B7",
           0.8570715643962568
          ],
          [
           "B7",
           0.8036325802554669
          ],
          [
           "B7",
           0.8347869121188113
          ],
          [
           "B7",
           0.8277200325096802
          ],
          [
           "B7",
           0.7980313484847625
          ],
          [
           "B7",
           0.7116637620669433
          ],
          [
           "B7",
           0.6634118716830485
          ],
          [
           "B7",
           0.6664348820732238
          ],
          [
           "B7",
           0.8202473348688654
          ],
          [
           "B7",
           0.8301707895658446
          ],
          [
           "B7",
           0.8599586677721041
          ],
          [
           "B7",
           0.8484182502514996
          ],
          [
           "B7",
           0.8557868145166989
          ],
          [
           "B7",
           0.8226829698069047
          ],
          [
           "B7",
           0.8065020339410776
          ],
          [
           "B7",
           0.7942742108768046
          ],
          [
           "B7",
           0.8037858795112687
          ],
          [
           "B7",
           0.7580846964086418
          ],
          [
           "B7",
           0.6858355704130912
          ],
          [
           "B7",
           0.6738650784463961
          ],
          [
           "B7",
           0.6901114687139944
          ],
          [
           "B7",
           0.6221694226674288
          ],
          [
           "B7",
           0.6462249492778261
          ]
         ],
         "hovertemplate": "cycle=%{x}<br>capacity=%{y}<br>battery_id=%{customdata[0]}<br>ensemble_score=%{marker.color}<extra></extra>",
         "legendgroup": "",
         "marker": {
          "color": [
           0.6821271805945919,
           0.7686714755139566,
           0.6866636226938292,
           0.7120425726010732,
           0.456842246926479,
           0.6781311649086197,
           0.7433475055004487,
           0.7661819955405486,
           0.8186383125446034,
           0.7225838833064722,
           0.7544830600659763,
           0.6996210259585454,
           0.7761857228970717,
           0.7956769446979557,
           0.8431998081845679,
           0.8059608254719317,
           0.866646841007386,
           0.8168967805348996,
           0.7538361327213625,
           0.6756106364509717,
           0.6798925537975492,
           0.7063615353699051,
           0.7112798976981753,
           0.6574120943017108,
           0.7575507756999522,
           0.8152554471931281,
           0.817039168142099,
           0.8409958829009513,
           0.7912672522110085,
           0.8642127177286129,
           0.8161208723186646,
           0.8438364982699723,
           0.9258855833655579,
           0.9172857223263495,
           0.933975936488552,
           0.8668177432326942,
           0.8483791376144756,
           0.8672078658121176,
           0.8603460354989728,
           0.8681526802325484,
           0.8484810558875326,
           0.7915135588691529,
           0.8327981625710783,
           0.8228031245290781,
           0.7832739117640987,
           0.7669541241424056,
           0.39461220835366106,
           0.7418267587559639,
           0.8906109811045015,
           0.9280958654382829,
           0.802058203992127,
           0.9001919373093656,
           0.9147706823957948,
           0.8159197662729346,
           0.7630026085977077,
           0.8585966901092795,
           0.8697020435247942,
           0.8854217655092882,
           0.9189495617849481,
           0.9430920396414559,
           0.9304754536556626,
           0.9438541477530918,
           0.9022970001838091,
           0.8293658372021131,
           0.8876466835691441,
           0.9228358552230963,
           0.9550138071880633,
           0.9514698390865708,
           0.949572308411768,
           0.9372322304312445,
           0.947350678255939,
           0.9043671000188763,
           0.9112246193566269,
           0.9138684303848612,
           0.9373489393476362,
           0.9414290805024125,
           0.9314374515363333,
           0.9669846192760041,
           0.9733076566077559,
           0.9374399678359787,
           0.9410659252062089,
           0.9611238283842354,
           0.9347125501254812,
           0.9139555428344801,
           0.915666388103413,
           0.8797542089796032,
           0.8399187666795067,
           0.7118356066707479,
           0.8595781192675341,
           0.9730394778301524,
           0.9219700262448679,
           0.9206645107558558,
           0.8977942431939105,
           0.9235786461426077,
           0.9803853345117681,
           0.9663259969516733,
           0.9574053896295094,
           0.968357478731714,
           0.930268525344246,
           0.9151168669147207,
           0.9290008719896853,
           0.8980000217362684,
           0.8394771753870296,
           0.7980307312490037,
           0.649296543276375,
           0.7206147343861665,
           0.8849883270124469,
           0.9429686532170194,
           0.9388020064996904,
           0.9086399895776577,
           0.7141215187907716,
           0.5520960117156185,
           0.7576712880077537,
           0.889875006257598,
           0.6804451206197776,
           0.8050329457693237,
           0.8240036009068845,
           0.8262498365581061,
           0.8806239879594016,
           0.8674239250853989,
           0.7015777815021857,
           0.4388158393130773,
           0.1626889518814384,
           0.27074383799602897,
           0.5545851894529187,
           0.9059328970324975,
           0.8684844395357783,
           0.9277302744695387,
           0.9294384569981751,
           0.9171871521723771,
           0.9317304744704487,
           0.9436390665296148,
           0.96626044380665,
           0.9582412467443442,
           0.9034644355176537,
           0.921322667637428,
           0.6608031582416097,
           0.5287871162121325,
           0.5225896353999147,
           0.8587169173237942,
           0.9013593028730376,
           0.9392919127129944,
           0.38325810691271167,
           0.43119354661366527,
           0.9109518882233327,
           0.9265170575571582,
           0.9147182016172357,
           0.9309873453081721,
           0.8485840150493893,
           0.864496772846079,
           0.7082023099958966,
           0.8741552820727234,
           0.9604231279540995,
           0.9685160056142577,
           0.961590132759624,
           0.9711247164087374,
           0.9633172912886317,
           0.9610711028028556,
           0.9554793122050254,
           0.9457950184157797,
           0.9490822808381948,
           0.9267494273215378,
           0.9530602478474616,
           0.9106214634332664,
           0.7163640690701465,
           0.8824752264331593,
           0.8588448344879234,
           0.7863912927410848,
           0.946564812291615,
           0.8932164586242812,
           0.8110984699558139,
           0.7251630979510743,
           0.8014861228476486,
           0.8324653742874352,
           0.8196982220473981,
           0.6987838940281774,
           0.7124872101538569,
           0.8235476975696348,
           0.8814912199648982,
           0.8917560891045445,
           0.9316217127095856,
           0.9291976615108164,
           0.8950054418600486,
           0.8976679478650926,
           0.8532582223295759,
           0.743581753893073,
           0.65682536480162,
           0.8259590255204337,
           0.8632410609095571,
           0.8781551071874908,
           0.8607013058082178,
           0.8527037394075061,
           0.7729284671490481,
           0.7836185499784485,
           0.8505097577606088,
           0.8264725522467584,
           0.781957696334348,
           0.8279997834437617,
           0.8200054973960512,
           0.848261755764492,
           0.8218997799121923,
           0.8332949737122594,
           0.8180791394898302,
           0.8245711270395131,
           0.763336988426369,
           0.7474766329267437,
           0.700981177584085,
           0.7775519119429097,
           0.8290256483232373,
           0.847366812933025,
           0.8505221254529982,
           0.7970119172605196,
           0.831986612825913,
           0.8282305780560909,
           0.8615473519968353,
           0.8838169632776349,
           0.7931050037013131,
           0.19429866496150808,
           0.4274437559135964,
           0.38484684280247605,
           0.592405277496722,
           0.7722677003807739,
           0.7755414892813728,
           0.8531146111279986,
           0.9199716619247553,
           0.8169320698098601,
           0.6772163059536962,
           0.7656204529148832,
           0.8449336673891834,
           0.8687262121150078,
           0.9279360051112148,
           0.8804866175204027,
           0.5824006214863775,
           0.580052526419814,
           0.7461710571298489,
           0.7720819800560687,
           0.8988301155893785,
           0.9510897133083761,
           0.9388583347213693,
           0.8980730991376338,
           0.8346165827210472,
           0.8358580561705706,
           0.934726385935782,
           0.8949114053301713,
           0.9060688049035419,
           0.8901440211181052,
           0.8859820647430035,
           0.8409937841137686,
           0.9138131939757703,
           0.9207318639357495,
           0.905180360683263,
           0.955539052540757,
           0.9506692133758567,
           0.9314502932951395,
           0.9575370353682846,
           0.9411853116069498,
           0.9446274187208715,
           0.8991941801500583,
           0.8998608311815374,
           0.8222738142039152,
           0.8588400991287437,
           0.8875407771779495,
           0.8786597824943443,
           0.9086938112016977,
           0.7918653497915348,
           0.8623177033968978,
           0.8832348473709047,
           0.8445768421554516,
           0.9558532411872814,
           0.980333817925026,
           0.9728957937148397,
           0.9097639306948103,
           0.8902478948211352,
           0.945546206002303,
           0.9326019220273777,
           0.9445476472988696,
           0.9001938145783243,
           0.8527654157397109,
           0.8734181745617244,
           0.9455124792347953,
           0.9179324767858386,
           0.8168930193099151,
           0.7384352395872213,
           0.8563123201825584,
           0.9531384748651269,
           0.9653521225847929,
           0.9711341497415665,
           0.9763902411369418,
           0.9686128756043813,
           0.9399963883399585,
           0.9244501818632396,
           0.907083617479916,
           0.9772861530519725,
           0.9535874216892797,
           0.956284416241012,
           0.9252832660455078,
           0.9438582951240162,
           0.9714622628456246,
           0.9771866673647922,
           0.9706816075620583,
           0.8753967020194202,
           0.7833171639456635,
           0.9052431877694491,
           0.8913691354589274,
           0.8262981678725987,
           0.793459082621737,
           0.9427358907811548,
           0.8706696116812247,
           0.8557883987035091,
           0.7689933331721792,
           0.8326166410534562,
           0.8775710860653474,
           0.7976224329163465,
           0.9701900015957704,
           0.9566597857775085,
           0.9743177163487103,
           0.9619170170894485,
           0.9552188161201576,
           0.8919018911352643,
           0.8762431174143087,
           0.8728423635148278,
           0.9217609873742021,
           0.9361172940491227,
           0.9642383618385726,
           0.8938091534782335,
           0.9449111502681713,
           0.9199501674777988,
           0.8836460867528458,
           0.8489431097992541,
           0.7959453621925708,
           0.9344954362957921,
           0.8633167102092006,
           0.8598232235719914,
           0.9379795111957141,
           0.948668090835974,
           0.9491815200769911,
           0.9533758072316223,
           0.939508373024144,
           0.9086651926668179,
           0.8425459699583819,
           0.8923063890458769,
           0.9320699479560561,
           0.9648069438310249,
           0.962181402143141,
           0.9697031022673978,
           0.9608171455571878,
           0.972558681807174,
           0.9217219650038367,
           0.8254939893630003,
           0.835876355431606,
           0.9332473708188531,
           0.9258930918626018,
           0.9260190241143224,
           0.8597671831327014,
           0.9132776463143204,
           0.8881254864942505,
           0.8711791231319268,
           0.7435340935783918,
           0.7670984464092513,
           0.7839769786014422,
           0.9379780881780383,
           0.9374870279545883,
           0.949500685539481,
           0.9215936997875938,
           0.8844226895310126,
           0.9126756941326076,
           0.9454347101858678,
           0.9532338749707048,
           0.9390446550385261,
           0.9409108986045307,
           0.9389732001584752,
           0.9215116355818016,
           0.8858879937249,
           0.923675211157459,
           0.8868606459234236,
           0.8158995325969671,
           0.463162066618533,
           0.6217208144479713,
           0.7526823377711516,
           0.9103127327796292,
           0.9016522845535228,
           0.6405344353990373,
           0.8060798587659669,
           0.7974729212338993,
           0.8215338580180425,
           0.7442499418978504,
           0.8251086804720188,
           0.7469228241895092,
           0.7971848556332066,
           0.7971086512577321,
           0.5682439213407506,
           0.42563146765415516,
           0.6845016900980173,
           0.7429577854714107,
           0.7885745066721314,
           0.7953466646509046,
           0.8107075763439011,
           0.7557255847648637,
           0.782086177685168,
           0.710278408437683,
           0.8830800624822162,
           0.880528205169752,
           0.893583400844542,
           0.8021120987824727,
           0.8437656181764681,
           0.7973365699661263,
           0.9059756587444036,
           0.8485875409698004,
           0.8689105035187948,
           0.7576732951899596,
           0.6901063155235613,
           0.776629395082598,
           0.8071851744606966,
           0.8326649883106956,
           0.8572421128849756,
           0.8902858857965944,
           0.8694024215693542,
           0.836648337408564,
           0.8719629238236103,
           0.9099327848975394,
           0.8458602198005449,
           0.786325496389647,
           0.7569910828455305,
           0.7687197342172333,
           0.806034410049989,
           0.9020006545072814,
           0.9379490879305659,
           0.8951824676763844,
           0.9203560916433378,
           0.9440494738250764,
           0.9577534028014696,
           0.886545710643525,
           0.9489410983270472,
           0.9033271234355168,
           0.8942433416177311,
           0.919102931121188,
           0.9139709610150033,
           0.8810221035331474,
           0.8989506472613404,
           0.8842810008490705,
           0.7524169058108782,
           0.8629758651881416,
           0.7620595327583479,
           0.7685097873523394,
           0.8487351929444754,
           0.8252965079867732,
           0.8395822588374763,
           0.9054476059654646,
           0.9261705107763465,
           0.8901628771697194,
           0.9193439210723028,
           0.9079505685135001,
           0.9786748653353987,
           0.9606335994814391,
           0.9037478613400785,
           0.9195856109591553,
           0.968098384414718,
           0.9334142510872124,
           0.8753365872668424,
           0.7942129887518068,
           0.8304025896926509,
           0.8171034319323538,
           0.7992871836552684,
           0.6351833778593663,
           0.430976948943503,
           0.34271641186388985,
           0.5748242079262226,
           0.8186907457724263,
           0.8980111140648301,
           0.9081958462562367,
           0.8980977788038947,
           0.8647681453856952,
           0.934170286616899,
           0.9532308371059137,
           0.9425144952987552,
           0.9121017441180526,
           0.9557716770955097,
           0.9614050627560753,
           0.9862582118871881,
           0.9533311793205543,
           0.9415730567931311,
           0.9425743158781061,
           0.9834291750927224,
           0.9145531554242168,
           0.9781155324103515,
           0.970543806942175,
           0.9687492622087706,
           0.9365551891358923,
           0.8900223763061944,
           0.8830943630406143,
           0.7894840057450476,
           0.8242009407337475,
           0.7708855204039265,
           0.6569230567368995,
           0.894179729761164,
           0.941598724825685,
           0.8926203959463015,
           0.9374124696913144,
           0.8647096600362152,
           0.765407353990343,
           0.9186351377666349,
           0.9499289270072064,
           0.9769121373190909,
           0.9379045036256508,
           0.9386483896575706,
           0.9816482189298503,
           0.9576430533083394,
           0.9259997443629915,
           0.9101576923146589,
           0.9071725007679812,
           0.9193922522970044,
           0.9544136793772545,
           0.9282885445428071,
           0.9303119952463252,
           0.9345913809507411,
           0.8928173778326358,
           0.8941876896928829,
           0.8502536530008844,
           0.870531258576045,
           0.8709894178095241,
           0.9359343713036363,
           0.8946649309160994,
           0.9036471413206991,
           0.8999810258851707,
           0.9300141225311765,
           0.9463960565548083,
           0.9404986260099091,
           0.9387300809641184,
           0.938657545598703,
           0.9630296145725702,
           0.9671932326706396,
           0.9746038379220765,
           0.9436118092004164,
           0.7718055013141001,
           0.8583509446257616,
           0.9155971255961226,
           0.939475954391362,
           0.8863546276225839,
           0.8540512744036128,
           0.7629899729569268,
           0.862395411847057,
           0.959068480396535,
           0.9546223170947589,
           0.9176283060202769,
           0.95556493993538,
           0.9367761280307008,
           0.9360684499980152,
           0.8446243098326429,
           0.8574136585635546,
           0.9226725244085796,
           0.9465521981366442,
           0.9335061660463991,
           0.9348383490622143,
           0.8456659878357814,
           0.9175956198296932,
           0.8974517950324568,
           0.8304582026386125,
           0.725598638501943,
           0.8380668208272857,
           0.789343390232159,
           0.7839879771318549,
           0.7625714137045829,
           0.8973155149815714,
           0.886620106025401,
           0.8805873685906757,
           0.8396068730845044,
           0.7218563441933632,
           0.7758965571283,
           0.5552099800451821,
           0.5449229068312185,
           0.5833733605952282,
           0.5634961129153373,
           0.758785780420257,
           0.7867243530406671,
           0.8657248129650996,
           0.9076668763846658,
           0.8682896512403475,
           0.8098999298927877,
           0.8293659462504356,
           0.7448345598742665,
           0.8265655476284521,
           0.8638829470995603,
           0.8348072724651896,
           0.8307588788220738,
           0.8789063064878895,
           0.8570715643962568,
           0.8036325802554669,
           0.8347869121188113,
           0.8277200325096802,
           0.7980313484847625,
           0.7116637620669433,
           0.6634118716830485,
           0.6664348820732238,
           0.8202473348688654,
           0.8301707895658446,
           0.8599586677721041,
           0.8484182502514996,
           0.8557868145166989,
           0.8226829698069047,
           0.8065020339410776,
           0.7942742108768046,
           0.8037858795112687,
           0.7580846964086418,
           0.6858355704130912,
           0.6738650784463961,
           0.6901114687139944,
           0.6221694226674288,
           0.6462249492778261
          ],
          "coloraxis": "coloraxis",
          "opacity": 0.7,
          "symbol": "circle"
         },
         "mode": "markers",
         "name": "",
         "orientation": "v",
         "showlegend": false,
         "type": "scatter",
         "x": [
          25,
          26,
          27,
          28,
          29,
          30,
          31,
          32,
          33,
          34,
          35,
          36,
          37,
          38,
          39,
          40,
          41,
          42,
          43,
          44,
          45,
          46,
          47,
          48,
          49,
          50,
          51,
          52,
          53,
          54,
          55,
          56,
          57,
          58,
          59,
          60,
          61,
          62,
          63,
          64,
          65,
          66,
          67,
          68,
          69,
          70,
          71,
          72,
          73,
          74,
          75,
          76,
          77,
          78,
          79,
          80,
          81,
          82,
          83,
          84,
          85,
          86,
          87,
          88,
          89,
          90,
          91,
          92,
          93,
          94,
          95,
          96,
          97,
          98,
          99,
          100,
          101,
          102,
          103,
          104,
          105,
          106,
          107,
          108,
          109,
          110,
          111,
          112,
          113,
          114,
          115,
          116,
          117,
          118,
          119,
          120,
          121,
          122,
          123,
          124,
          125,
          126,
          127,
          128,
          129,
          130,
          131,
          132,
          133,
          134,
          135,
          136,
          137,
          138,
          139,
          140,
          141,
          142,
          143,
          144,
          145,
          146,
          147,
          148,
          149,
          150,
          151,
          152,
          153,
          154,
          155,
          156,
          157,
          158,
          159,
          160,
          161,
          162,
          163,
          164,
          165,
          166,
          167,
          168,
          169,
          170,
          171,
          172,
          173,
          174,
          175,
          176,
          177,
          178,
          179,
          180,
          181,
          182,
          183,
          184,
          185,
          186,
          187,
          188,
          189,
          190,
          191,
          192,
          193,
          194,
          195,
          196,
          197,
          198,
          199,
          200,
          201,
          202,
          203,
          204,
          205,
          206,
          207,
          208,
          209,
          210,
          211,
          212,
          213,
          214,
          215,
          216,
          217,
          218,
          219,
          220,
          25,
          26,
          27,
          28,
          29,
          30,
          31,
          32,
          33,
          34,
          35,
          36,
          37,
          38,
          39,
          40,
          41,
          42,
          43,
          44,
          45,
          46,
          47,
          48,
          49,
          50,
          51,
          52,
          53,
          54,
          55,
          56,
          57,
          58,
          59,
          60,
          61,
          62,
          63,
          64,
          65,
          66,
          67,
          68,
          69,
          70,
          71,
          72,
          73,
          74,
          75,
          76,
          77,
          78,
          79,
          80,
          81,
          82,
          83,
          84,
          85,
          86,
          87,
          88,
          89,
          90,
          91,
          92,
          93,
          94,
          95,
          96,
          97,
          98,
          99,
          100,
          101,
          102,
          103,
          104,
          105,
          106,
          107,
          108,
          109,
          110,
          111,
          112,
          113,
          114,
          115,
          116,
          117,
          118,
          119,
          120,
          121,
          122,
          123,
          124,
          125,
          126,
          127,
          128,
          129,
          130,
          131,
          132,
          133,
          134,
          135,
          136,
          137,
          138,
          139,
          140,
          141,
          142,
          143,
          144,
          145,
          146,
          147,
          148,
          149,
          150,
          151,
          152,
          153,
          154,
          155,
          156,
          157,
          158,
          159,
          160,
          161,
          162,
          163,
          164,
          165,
          166,
          167,
          168,
          169,
          170,
          171,
          172,
          173,
          174,
          175,
          176,
          177,
          178,
          179,
          180,
          181,
          182,
          183,
          184,
          185,
          186,
          187,
          188,
          189,
          190,
          191,
          192,
          193,
          194,
          195,
          196,
          197,
          198,
          199,
          200,
          201,
          202,
          203,
          204,
          205,
          206,
          207,
          208,
          209,
          210,
          25,
          26,
          27,
          28,
          29,
          30,
          31,
          32,
          33,
          34,
          35,
          36,
          37,
          38,
          39,
          40,
          41,
          42,
          43,
          44,
          45,
          46,
          47,
          48,
          49,
          50,
          51,
          52,
          53,
          54,
          55,
          56,
          57,
          58,
          59,
          60,
          61,
          62,
          63,
          64,
          65,
          66,
          67,
          68,
          69,
          70,
          71,
          72,
          73,
          74,
          75,
          76,
          77,
          78,
          79,
          80,
          81,
          82,
          83,
          84,
          85,
          86,
          87,
          88,
          89,
          90,
          91,
          92,
          93,
          94,
          95,
          96,
          97,
          98,
          99,
          100,
          101,
          102,
          103,
          104,
          105,
          106,
          107,
          108,
          109,
          110,
          111,
          112,
          113,
          114,
          115,
          116,
          117,
          118,
          119,
          120,
          121,
          122,
          123,
          124,
          125,
          126,
          127,
          128,
          129,
          130,
          131,
          132,
          133,
          134,
          135,
          136,
          137,
          138,
          139,
          140,
          141,
          142,
          143,
          144,
          145,
          146,
          147,
          148,
          149,
          150,
          151,
          152,
          153,
          154,
          155,
          156,
          157,
          158,
          159,
          160,
          161,
          162,
          163,
          164,
          165,
          166,
          167,
          168,
          169,
          170,
          171,
          172,
          173,
          174,
          175,
          176,
          177,
          178,
          179,
          180,
          181,
          182,
          183,
          184,
          185,
          186,
          187,
          188,
          189,
          190,
          191,
          192,
          193,
          194,
          195,
          196,
          197,
          198,
          199,
          200,
          201,
          202,
          203,
          204,
          205,
          206,
          207,
          208,
          209,
          210,
          211,
          212,
          213,
          214,
          215,
          216,
          217,
          218,
          219,
          220,
          221,
          222,
          223,
          224,
          225,
          226,
          227,
          228,
          229,
          230,
          231,
          232,
          233,
          234,
          235,
          236,
          237,
          238,
          239,
          240,
          241,
          242,
          243,
          244,
          245,
          246,
          247,
          248,
          249,
          250
         ],
         "xaxis": "x",
         "y": [
          1.8783020419890513,
          1.8690386029237387,
          1.8712057465115557,
          1.860995593267933,
          1.85652647603498,
          1.8577588742918512,
          1.8399530815449032,
          1.844025621373125,
          1.833854949902544,
          1.8276520153865292,
          1.8243416628581433,
          1.8250231760379776,
          1.8110581701692603,
          1.8104985564797615,
          1.8097314516266576,
          1.798558349005696,
          1.7920944651211794,
          1.786120080632509,
          1.7749905242263415,
          1.7743753925214114,
          1.7652167595004378,
          1.764737524685241,
          1.7643911298664483,
          1.769523036509107,
          1.759995713743414,
          1.7480940593532488,
          1.73982431439465,
          1.7371851833232514,
          1.7299871468656065,
          1.7323238580694529,
          1.7209341618662128,
          1.713891905858941,
          1.713899184581786,
          1.703854363938203,
          1.700981609423062,
          1.70950799300196,
          1.691824434592704,
          1.696293715042448,
          1.6829179887676688,
          1.6720803887244702,
          1.6738074060244772,
          1.671659330883717,
          1.666378096159242,
          1.6643182665578933,
          1.6559072982464025,
          1.6441951700494508,
          1.6381897366709262,
          1.6416763215832957,
          1.637427452798397,
          1.6336620945529312,
          1.6285920688676307,
          1.6190703940748394,
          1.618851425049173,
          1.620955730711498,
          1.6064911943067326,
          1.5997733729495642,
          1.5984154209669446,
          1.5947425111620623,
          1.5903042497145692,
          1.5780228710530555,
          1.5739984913377778,
          1.571679578390346,
          1.5689657060311557,
          1.5620420096379293,
          1.559397172374145,
          1.5498633139885336,
          1.544385812604455,
          1.5402955691220284,
          1.5370306562508038,
          1.523527779287409,
          1.52282406787441,
          1.521711559098804,
          1.5141353251726375,
          1.5091173539254787,
          1.5076881509064308,
          1.5001683079604744,
          1.5033396334825486,
          1.4949819341254744,
          1.4877968536673951,
          1.4712834148089948,
          1.474052971743023,
          1.472688416608939,
          1.4579964072127864,
          1.462155303099654,
          1.4506154941958582,
          1.4462356747677252,
          1.4497039388691506,
          1.4299294287875823,
          1.441146258149521,
          1.4312065207106124,
          1.420907423789488,
          1.4218562146919662,
          1.419790982958564,
          1.4091091550903836,
          1.4011824170411182,
          1.404154345809635,
          1.390227433913874,
          1.389866334080364,
          1.3791159628040883,
          1.37816985910965,
          1.3765651018596998,
          1.3683996037066437,
          1.3605749678751686,
          1.3599104252836438,
          1.3509332962763931,
          1.3556794701646135,
          1.3540205708973445,
          1.341762460770013,
          1.3391975132314309,
          1.328898961395504,
          1.3320122269204886,
          1.3223353171902046,
          1.312108800693079,
          1.304413427341349,
          1.3200310955375127,
          1.2988478422597274,
          1.30254101736836,
          1.2870365986190366,
          1.285848291359001,
          1.2883588376764097,
          1.2783413021411505,
          1.2654316566259234,
          1.262438000782824,
          1.248388443840062,
          1.2605094049734695,
          1.2579681708384602,
          1.24178686910991,
          1.2476111633090028,
          1.232946491720674,
          1.2309484898446303,
          1.230397968555791,
          1.2206974724809825,
          1.210307712712401,
          1.2066209074172625,
          1.2057237218343233,
          1.2011707083939114,
          1.1919067298058663,
          1.190676398851544,
          1.1859493502680734,
          1.1860911178349478,
          1.1691864208876823,
          1.1660408873524628,
          1.1641789279159291,
          1.156900321368686,
          1.1598368128632297,
          1.1419416882466935,
          1.1510513918710932,
          1.134170482973417,
          1.1325993613947416,
          1.1331590633812725,
          1.1166007046053734,
          1.1262063460801517,
          1.1159587710799874,
          1.1077723041013623,
          1.1075336381818566,
          1.1005891332447766,
          1.0925908994500562,
          1.087456685388673,
          1.0875799613219803,
          1.0758400758042836,
          1.072454615749279,
          1.0763539913811355,
          1.0716852276453803,
          1.0635129706965876,
          1.0597700685575966,
          1.048986955099116,
          1.036396529538486,
          1.041632610487517,
          1.0360377963288778,
          1.0326681133434323,
          1.027892379852147,
          1.0204149335437391,
          1.0177385508377048,
          1.0155830626281963,
          1.0116661798948683,
          1.011095970520563,
          0.9971310081993704,
          0.9918103489841744,
          0.9784282230745284,
          0.9792796273668368,
          0.967829715232912,
          0.9682160047944872,
          0.9630708601027888,
          0.9551021798209324,
          0.954664234779361,
          0.9559518766643176,
          0.9348537643436626,
          0.9460037553446822,
          0.93158499272178,
          0.93509924751778,
          0.925349701238104,
          0.9198850663894408,
          0.9071845451514998,
          0.912027381081192,
          0.910944242606161,
          0.8982616468068921,
          1.8682602703345608,
          1.8696214760160657,
          1.8594545071702857,
          1.8558803252594145,
          1.8478276061917276,
          1.8461524333396433,
          1.849859784385165,
          1.8446616335056265,
          1.8286107262049611,
          1.830185447127808,
          1.81858856947958,
          1.821936018539325,
          1.8218436461281988,
          1.8188572335528763,
          1.809428632444584,
          1.7998709923891525,
          1.794018795735292,
          1.7897809308243464,
          1.787339091992021,
          1.7775220917753067,
          1.777636158476828,
          1.7769007840769329,
          1.7718279054610075,
          1.7622756700501552,
          1.754711197314859,
          1.7470587541789484,
          1.7504138860150271,
          1.7363030479479875,
          1.7322996730867457,
          1.734783962780972,
          1.7220229822289987,
          1.721311068229144,
          1.7166447901731363,
          1.704413891474968,
          1.7043983746458604,
          1.7026685815692182,
          1.682214688407616,
          1.6905138406165063,
          1.6826523292618762,
          1.6920665459324349,
          1.6800098087315205,
          1.6716649766187153,
          1.6643344994631846,
          1.6583530511961029,
          1.653933621774757,
          1.658728727974904,
          1.645794240148629,
          1.647784881653437,
          1.6334920010541407,
          1.6318227081832548,
          1.6338869310617368,
          1.6226679595853688,
          1.6125537343484802,
          1.6134475394923522,
          1.6037648881122113,
          1.5981491970913244,
          1.5958048116962749,
          1.591833071521248,
          1.582940244451192,
          1.582638728888567,
          1.5789535227518106,
          1.565444291021072,
          1.5619209491132704,
          1.5538701404742656,
          1.5598435036686684,
          1.552316484549933,
          1.5400353993162703,
          1.543264027350597,
          1.530011351291587,
          1.5347260407041552,
          1.519869538006151,
          1.5319183977671529,
          1.518325893437371,
          1.5111605447467764,
          1.5070765126856986,
          1.5045283202537496,
          1.494853060893935,
          1.485945140543233,
          1.4862128632667857,
          1.4797449733887331,
          1.4697368952033345,
          1.4658001433120569,
          1.47240975449043,
          1.46770721756399,
          1.4563227664707856,
          1.439642610680267,
          1.4564163490402506,
          1.4356319223009322,
          1.4321881810477588,
          1.4273689333241817,
          1.428896799076735,
          1.419710985866033,
          1.4096515518839028,
          1.41575001070564,
          1.3989715623048742,
          1.398155103098213,
          1.398692962571824,
          1.3893191971423122,
          1.3889558088336358,
          1.3714511878626312,
          1.3760667107136326,
          1.3739363182204702,
          1.3703740309889212,
          1.3650556335660002,
          1.3510749148348302,
          1.3515899480684384,
          1.342840465764784,
          1.3415461554709047,
          1.3362878352617371,
          1.3381014616784892,
          1.323708811244544,
          1.325642023699261,
          1.3225418787333645,
          1.31647463555362,
          1.3033931137174728,
          1.2927112270903618,
          1.2993476403044997,
          1.2932121203288605,
          1.283225135446575,
          1.27794783261294,
          1.273851071759564,
          1.2725635930293389,
          1.2539073780666588,
          1.2648887804118405,
          1.256722319408052,
          1.2528465532628377,
          1.2482728388121576,
          1.24803296106419,
          1.2279985579572708,
          1.22494928818536,
          1.230636019396659,
          1.2154246550519785,
          1.2139106285100936,
          1.2068010006054275,
          1.2013116828360084,
          1.1916174147216798,
          1.1994798407171028,
          1.1881908996748958,
          1.1867854834221272,
          1.180030226495947,
          1.1693012025917189,
          1.1730940024318133,
          1.1765772672513768,
          1.1545055676608569,
          1.1611852079874214,
          1.1462214343525643,
          1.1443326294183584,
          1.1415208462361093,
          1.1348569192397953,
          1.1290668251595857,
          1.1292233456324128,
          1.1171388133571434,
          1.1143013651733022,
          1.1061723786680957,
          1.1088577789920502,
          1.1035742572961402,
          1.0926257182382857,
          1.0953768107810185,
          1.084648772838101,
          1.0795034388762872,
          1.0765031219167875,
          1.0647592415968825,
          1.0634756822467868,
          1.0611424014182478,
          1.0552707164550077,
          1.0476976417039694,
          1.0463496746703902,
          1.0313296319858247,
          1.0361646177036912,
          1.0270428121751718,
          1.0271985254571856,
          1.0257902285251004,
          1.0153933771088912,
          1.0095147548654235,
          1.003607593444711,
          0.9917620771754024,
          0.999689148737084,
          0.9882602458548786,
          0.9961810937569536,
          0.988228813650097,
          0.969674176988908,
          0.9671609967619784,
          0.961438751942512,
          0.9585382233165056,
          0.9561198293151252,
          0.942195033773607,
          1.8715601460868816,
          1.8716170176185916,
          1.867922583679949,
          1.8526572577770293,
          1.8530106491376883,
          1.8544258607566055,
          1.8522428177432648,
          1.84243370438938,
          1.8396087574011235,
          1.8274387131101424,
          1.8232805507249257,
          1.8200725867112115,
          1.8237568523832015,
          1.8167774828083447,
          1.804744858027464,
          1.8006339889671796,
          1.7960142906345569,
          1.789703588930808,
          1.7846694190205836,
          1.7728950129603172,
          1.7644177989572665,
          1.772213059773229,
          1.7733025175484969,
          1.763613076498732,
          1.757483422020997,
          1.73908433989408,
          1.7444468907840505,
          1.7228305715876715,
          1.735892068777228,
          1.728295230828977,
          1.7232963105506989,
          1.7217064842396634,
          1.7154862432357925,
          1.7121019791767746,
          1.6973421963409154,
          1.7093281093174617,
          1.695820911715664,
          1.6828028611367845,
          1.6799078513534793,
          1.6800360134943209,
          1.675612502917802,
          1.6697825725525686,
          1.6678152191160338,
          1.655072921176333,
          1.655921246402743,
          1.64045695998008,
          1.6429965115886953,
          1.6344794720372855,
          1.6303267570816755,
          1.6365772348517371,
          1.6302112417426426,
          1.629279461983458,
          1.6110655044323283,
          1.6043267013634992,
          1.601596144233382,
          1.6021013186845128,
          1.594659159482358,
          1.5965129266167568,
          1.591159205244597,
          1.5805008679519796,
          1.570760037157003,
          1.5698661590535568,
          1.566081045127136,
          1.5530051387442572,
          1.5527720232588282,
          1.5486247079453854,
          1.5439372195142478,
          1.5417065146714335,
          1.527873698920378,
          1.5365770325858403,
          1.5334224344941647,
          1.5257637768159094,
          1.5140453508136804,
          1.5129399583527237,
          1.509972079724289,
          1.5039274785612198,
          1.5003850203588476,
          1.5011731119467793,
          1.4896118862339096,
          1.485136380303075,
          1.4744990239029243,
          1.4701389148201736,
          1.4609714688276614,
          1.4577230184670358,
          1.462628522790249,
          1.4554045028828586,
          1.4508940665443557,
          1.4345839215717624,
          1.443621600845329,
          1.423997317992872,
          1.426916421970842,
          1.4285765378917223,
          1.4127725228924457,
          1.4103731138900586,
          1.4131184259601468,
          1.4013475580141423,
          1.3985721895960668,
          1.3873084860859526,
          1.3831048471159433,
          1.3861464526903733,
          1.379759764146688,
          1.3707221964149612,
          1.361527219968743,
          1.358048700520472,
          1.3481702600663916,
          1.354811896680456,
          1.337320305311622,
          1.3395844378693724,
          1.3280013221035007,
          1.3310182214176167,
          1.326747250212715,
          1.3234789124471362,
          1.3144299368438823,
          1.3197573214150244,
          1.3012684067734903,
          1.3019713505130774,
          1.305932923506864,
          1.2909579959880515,
          1.2899822749294478,
          1.2794058865485782,
          1.2715733023959834,
          1.2622384936806277,
          1.2688119170502887,
          1.2661929596539263,
          1.2548423995017683,
          1.2525238523245064,
          1.245306945838102,
          1.2434081320870354,
          1.2323402996571544,
          1.2275293779373049,
          1.22838506158524,
          1.2177609987200289,
          1.2168650961782308,
          1.203278747097785,
          1.2063649361081377,
          1.192549469678813,
          1.1907364573278478,
          1.196180791365461,
          1.1839058441655474,
          1.1759996541733273,
          1.178102373560523,
          1.165130004825801,
          1.1646786480006748,
          1.1609450895241824,
          1.1492858009591984,
          1.1463454725281828,
          1.1476519334785256,
          1.1445030586986689,
          1.1367067684770795,
          1.1299208193761563,
          1.124134345821718,
          1.1168736753599025,
          1.113577940423101,
          1.1126407787361094,
          1.102666628600098,
          1.106620376134432,
          1.0956222313721882,
          1.0816208657112143,
          1.086878122790527,
          1.0798409926947596,
          1.079639012932907,
          1.0691318673968468,
          1.0669275510128606,
          1.0630940890929983,
          1.0575195059175426,
          1.03981204741553,
          1.0435458012147234,
          1.0369047463279355,
          1.0319970804322054,
          1.03244813430152,
          1.0272552971658349,
          1.0105977383055305,
          1.0110477299244964,
          1.0035119414026996,
          0.993985008685106,
          1.0023853085281496,
          0.9955170600112594,
          0.9806520757949052,
          0.9753924430197952,
          0.9853533741998204,
          0.9742682601602264,
          0.9675845860946972,
          0.966221922661204,
          0.9600971142287744,
          0.9510004670911826,
          0.9554725775654256,
          0.9293253932736378,
          0.9477026569925454,
          0.929613922162543,
          0.926767291601442,
          0.9196437104964252,
          0.9236773573358448,
          0.9117460712543288,
          0.9022231446510104,
          0.9011917015079308,
          0.9066092454032126,
          0.8882719736298594,
          0.8964964044529493,
          0.8827834642529623,
          0.887045711926017,
          0.8722857889203456,
          0.8727623795760296,
          0.8659205263711655,
          0.853348348386368,
          0.8527145087572895,
          0.8498830027687198,
          0.8515271870515478,
          0.8401515056838506,
          0.8342625989266192,
          0.8206996733269041,
          0.8261674153040264,
          0.816360054320221,
          0.8150269217787709,
          0.8105048584178132,
          0.8083386692645638,
          0.8051844719386201,
          0.7922634902642576,
          0.7961012995992677,
          0.7881373639368348,
          0.7808477588275857,
          0.7783086700559771,
          0.7619704404853822,
          0.7659027650271983,
          0.7620101161060815,
          0.7574438607619847,
          0.7509718644896284
         ],
         "yaxis": "y"
        },
        {
         "marker": {
          "color": "red",
          "size": 10,
          "symbol": "x"
         },
         "mode": "markers",
         "name": "Top Anomalies",
         "type": "scatter",
         "x": [
          121,
          125,
          148,
          119,
          98,
          95,
          127,
          121,
          127,
          145,
          116,
          174,
          144,
          103,
          114,
          99,
          175,
          126,
          115,
          180,
          128,
          128,
          142,
          173,
          129
         ],
         "y": [
          1.3985721895960668,
          1.379759764146688,
          1.2661929596539263,
          1.4011824170411182,
          1.5111605447467764,
          1.5334224344941647,
          1.361527219968743,
          1.398692962571824,
          1.3703740309889212,
          1.2715733023959834,
          1.419710985866033,
          1.1299208193761563,
          1.27794783261294,
          1.4877968536673951,
          1.4312065207106124,
          1.5070765126856986,
          1.1292233456324128,
          1.3739363182204702,
          1.428896799076735,
          1.1005891332447766,
          1.3650556335660002,
          1.358048700520472,
          1.2932121203288605,
          1.1348569192397953,
          1.3481702600663916
         ]
        }
       ],
       "layout": {
        "coloraxis": {
         "colorbar": {
          "title": {
           "text": "ensemble_score"
          }
         },
         "colorscale": [
          [
           0,
           "rgb(49,54,149)"
          ],
          [
           0.1,
           "rgb(69,117,180)"
          ],
          [
           0.2,
           "rgb(116,173,209)"
          ],
          [
           0.3,
           "rgb(171,217,233)"
          ],
          [
           0.4,
           "rgb(224,243,248)"
          ],
          [
           0.5,
           "rgb(255,255,191)"
          ],
          [
           0.6,
           "rgb(254,224,144)"
          ],
          [
           0.7,
           "rgb(253,174,97)"
          ],
          [
           0.8,
           "rgb(244,109,67)"
          ],
          [
           0.9,
           "rgb(215,48,39)"
          ],
          [
           1,
           "rgb(165,0,38)"
          ]
         ]
        },
        "legend": {
         "tracegroupgap": 0
        },
        "template": {
         "data": {
          "bar": [
           {
            "error_x": {
             "color": "#2a3f5f"
            },
            "error_y": {
             "color": "#2a3f5f"
            },
            "marker": {
             "line": {
              "color": "#E5ECF6",
              "width": 0.5
             },
             "pattern": {
              "fillmode": "overlay",
              "size": 10,
              "solidity": 0.2
             }
            },
            "type": "bar"
           }
          ],
          "barpolar": [
           {
            "marker": {
             "line": {
              "color": "#E5ECF6",
              "width": 0.5
             },
             "pattern": {
              "fillmode": "overlay",
              "size": 10,
              "solidity": 0.2
             }
            },
            "type": "barpolar"
           }
          ],
          "carpet": [
           {
            "aaxis": {
             "endlinecolor": "#2a3f5f",
             "gridcolor": "white",
             "linecolor": "white",
             "minorgridcolor": "white",
             "startlinecolor": "#2a3f5f"
            },
            "baxis": {
             "endlinecolor": "#2a3f5f",
             "gridcolor": "white",
             "linecolor": "white",
             "minorgridcolor": "white",
             "startlinecolor": "#2a3f5f"
            },
            "type": "carpet"
           }
          ],
          "choropleth": [
           {
            "colorbar": {
             "outlinewidth": 0,
             "ticks": ""
            },
            "type": "choropleth"
           }
          ],
          "contour": [
           {
            "colorbar": {
             "outlinewidth": 0,
             "ticks": ""
            },
            "colorscale": [
             [
              0,
              "#0d0887"
             ],
             [
              0.1111111111111111,
              "#46039f"
             ],
             [
              0.2222222222222222,
              "#7201a8"
             ],
             [
              0.3333333333333333,
              "#9c179e"
             ],
             [
              0.4444444444444444,
              "#bd3786"
             ],
             [
              0.5555555555555556,
              "#d8576b"
             ],
             [
              0.6666666666666666,
              "#ed7953"
             ],
             [
              0.7777777777777778,
              "#fb9f3a"
             ],
             [
              0.8888888888888888,
              "#fdca26"
             ],
             [
              1,
              "#f0f921"
             ]
            ],
            "type": "contour"
           }
          ],
          "contourcarpet": [
           {
            "colorbar": {
             "outlinewidth": 0,
             "ticks": ""
            },
            "type": "contourcarpet"
           }
          ],
          "heatmap": [
           {
            "colorbar": {
             "outlinewidth": 0,
             "ticks": ""
            },
            "colorscale": [
             [
              0,
              "#0d0887"
             ],
             [
              0.1111111111111111,
              "#46039f"
             ],
             [
              0.2222222222222222,
              "#7201a8"
             ],
             [
              0.3333333333333333,
              "#9c179e"
             ],
             [
              0.4444444444444444,
              "#bd3786"
             ],
             [
              0.5555555555555556,
              "#d8576b"
             ],
             [
              0.6666666666666666,
              "#ed7953"
             ],
             [
              0.7777777777777778,
              "#fb9f3a"
             ],
             [
              0.8888888888888888,
              "#fdca26"
             ],
             [
              1,
              "#f0f921"
             ]
            ],
            "type": "heatmap"
           }
          ],
          "heatmapgl": [
           {
            "colorbar": {
             "outlinewidth": 0,
             "ticks": ""
            },
            "colorscale": [
             [
              0,
              "#0d0887"
             ],
             [
              0.1111111111111111,
              "#46039f"
             ],
             [
              0.2222222222222222,
              "#7201a8"
             ],
             [
              0.3333333333333333,
              "#9c179e"
             ],
             [
              0.4444444444444444,
              "#bd3786"
             ],
             [
              0.5555555555555556,
              "#d8576b"
             ],
             [
              0.6666666666666666,
              "#ed7953"
             ],
             [
              0.7777777777777778,
              "#fb9f3a"
             ],
             [
              0.8888888888888888,
              "#fdca26"
             ],
             [
              1,
              "#f0f921"
             ]
            ],
            "type": "heatmapgl"
           }
          ],
          "histogram": [
           {
            "marker": {
             "pattern": {
              "fillmode": "overlay",
              "size": 10,
              "solidity": 0.2
             }
            },
            "type": "histogram"
           }
          ],
          "histogram2d": [
           {
            "colorbar": {
             "outlinewidth": 0,
             "ticks": ""
            },
            "colorscale": [
             [
              0,
              "#0d0887"
             ],
             [
              0.1111111111111111,
              "#46039f"
             ],
             [
              0.2222222222222222,
              "#7201a8"
             ],
             [
              0.3333333333333333,
              "#9c179e"
             ],
             [
              0.4444444444444444,
              "#bd3786"
             ],
             [
              0.5555555555555556,
              "#d8576b"
             ],
             [
              0.6666666666666666,
              "#ed7953"
             ],
             [
              0.7777777777777778,
              "#fb9f3a"
             ],
             [
              0.8888888888888888,
              "#fdca26"
             ],
             [
              1,
              "#f0f921"
             ]
            ],
            "type": "histogram2d"
           }
          ],
          "histogram2dcontour": [
           {
            "colorbar": {
             "outlinewidth": 0,
             "ticks": ""
            },
            "colorscale": [
             [
              0,
              "#0d0887"
             ],
             [
              0.1111111111111111,
              "#46039f"
             ],
             [
              0.2222222222222222,
              "#7201a8"
             ],
             [
              0.3333333333333333,
              "#9c179e"
             ],
             [
              0.4444444444444444,
              "#bd3786"
             ],
             [
              0.5555555555555556,
              "#d8576b"
             ],
             [
              0.6666666666666666,
              "#ed7953"
             ],
             [
              0.7777777777777778,
              "#fb9f3a"
             ],
             [
              0.8888888888888888,
              "#fdca26"
             ],
             [
              1,
              "#f0f921"
             ]
            ],
            "type": "histogram2dcontour"
           }
          ],
          "mesh3d": [
           {
            "colorbar": {
             "outlinewidth": 0,
             "ticks": ""
            },
            "type": "mesh3d"
           }
          ],
          "parcoords": [
           {
            "line": {
             "colorbar": {
              "outlinewidth": 0,
              "ticks": ""
             }
            },
            "type": "parcoords"
           }
          ],
          "pie": [
           {
            "automargin": true,
            "type": "pie"
           }
          ],
          "scatter": [
           {
            "fillpattern": {
             "fillmode": "overlay",
             "size": 10,
             "solidity": 0.2
            },
            "type": "scatter"
           }
          ],
          "scatter3d": [
           {
            "line": {
             "colorbar": {
              "outlinewidth": 0,
              "ticks": ""
             }
            },
            "marker": {
             "colorbar": {
              "outlinewidth": 0,
              "ticks": ""
             }
            },
            "type": "scatter3d"
           }
          ],
          "scattercarpet": [
           {
            "marker": {
             "colorbar": {
              "outlinewidth": 0,
              "ticks": ""
             }
            },
            "type": "scattercarpet"
           }
          ],
          "scattergeo": [
           {
            "marker": {
             "colorbar": {
              "outlinewidth": 0,
              "ticks": ""
             }
            },
            "type": "scattergeo"
           }
          ],
          "scattergl": [
           {
            "marker": {
             "colorbar": {
              "outlinewidth": 0,
              "ticks": ""
             }
            },
            "type": "scattergl"
           }
          ],
          "scattermapbox": [
           {
            "marker": {
             "colorbar": {
              "outlinewidth": 0,
              "ticks": ""
             }
            },
            "type": "scattermapbox"
           }
          ],
          "scatterpolar": [
           {
            "marker": {
             "colorbar": {
              "outlinewidth": 0,
              "ticks": ""
             }
            },
            "type": "scatterpolar"
           }
          ],
          "scatterpolargl": [
           {
            "marker": {
             "colorbar": {
              "outlinewidth": 0,
              "ticks": ""
             }
            },
            "type": "scatterpolargl"
           }
          ],
          "scatterternary": [
           {
            "marker": {
             "colorbar": {
              "outlinewidth": 0,
              "ticks": ""
             }
            },
            "type": "scatterternary"
           }
          ],
          "surface": [
           {
            "colorbar": {
             "outlinewidth": 0,
             "ticks": ""
            },
            "colorscale": [
             [
              0,
              "#0d0887"
             ],
             [
              0.1111111111111111,
              "#46039f"
             ],
             [
              0.2222222222222222,
              "#7201a8"
             ],
             [
              0.3333333333333333,
              "#9c179e"
             ],
             [
              0.4444444444444444,
              "#bd3786"
             ],
             [
              0.5555555555555556,
              "#d8576b"
             ],
             [
              0.6666666666666666,
              "#ed7953"
             ],
             [
              0.7777777777777778,
              "#fb9f3a"
             ],
             [
              0.8888888888888888,
              "#fdca26"
             ],
             [
              1,
              "#f0f921"
             ]
            ],
            "type": "surface"
           }
          ],
          "table": [
           {
            "cells": {
             "fill": {
              "color": "#EBF0F8"
             },
             "line": {
              "color": "white"
             }
            },
            "header": {
             "fill": {
              "color": "#C8D4E3"
             },
             "line": {
              "color": "white"
             }
            },
            "type": "table"
           }
          ]
         },
         "layout": {
          "annotationdefaults": {
           "arrowcolor": "#2a3f5f",
           "arrowhead": 0,
           "arrowwidth": 1
          },
          "autotypenumbers": "strict",
          "coloraxis": {
           "colorbar": {
            "outlinewidth": 0,
            "ticks": ""
           }
          },
          "colorscale": {
           "diverging": [
            [
             0,
             "#8e0152"
            ],
            [
             0.1,
             "#c51b7d"
            ],
            [
             0.2,
             "#de77ae"
            ],
            [
             0.3,
             "#f1b6da"
            ],
            [
             0.4,
             "#fde0ef"
            ],
            [
             0.5,
             "#f7f7f7"
            ],
            [
             0.6,
             "#e6f5d0"
            ],
            [
             0.7,
             "#b8e186"
            ],
            [
             0.8,
             "#7fbc41"
            ],
            [
             0.9,
             "#4d9221"
            ],
            [
             1,
             "#276419"
            ]
           ],
           "sequential": [
            [
             0,
             "#0d0887"
            ],
            [
             0.1111111111111111,
             "#46039f"
            ],
            [
             0.2222222222222222,
             "#7201a8"
            ],
            [
             0.3333333333333333,
             "#9c179e"
            ],
            [
             0.4444444444444444,
             "#bd3786"
            ],
            [
             0.5555555555555556,
             "#d8576b"
            ],
            [
             0.6666666666666666,
             "#ed7953"
            ],
            [
             0.7777777777777778,
             "#fb9f3a"
            ],
            [
             0.8888888888888888,
             "#fdca26"
            ],
            [
             1,
             "#f0f921"
            ]
           ],
           "sequentialminus": [
            [
             0,
             "#0d0887"
            ],
            [
             0.1111111111111111,
             "#46039f"
            ],
            [
             0.2222222222222222,
             "#7201a8"
            ],
            [
             0.3333333333333333,
             "#9c179e"
            ],
            [
             0.4444444444444444,
             "#bd3786"
            ],
            [
             0.5555555555555556,
             "#d8576b"
            ],
            [
             0.6666666666666666,
             "#ed7953"
            ],
            [
             0.7777777777777778,
             "#fb9f3a"
            ],
            [
             0.8888888888888888,
             "#fdca26"
            ],
            [
             1,
             "#f0f921"
            ]
           ]
          },
          "colorway": [
           "#636efa",
           "#EF553B",
           "#00cc96",
           "#ab63fa",
           "#FFA15A",
           "#19d3f3",
           "#FF6692",
           "#B6E880",
           "#FF97FF",
           "#FECB52"
          ],
          "font": {
           "color": "#2a3f5f"
          },
          "geo": {
           "bgcolor": "white",
           "lakecolor": "white",
           "landcolor": "#E5ECF6",
           "showlakes": true,
           "showland": true,
           "subunitcolor": "white"
          },
          "hoverlabel": {
           "align": "left"
          },
          "hovermode": "closest",
          "mapbox": {
           "style": "light"
          },
          "paper_bgcolor": "white",
          "plot_bgcolor": "#E5ECF6",
          "polar": {
           "angularaxis": {
            "gridcolor": "white",
            "linecolor": "white",
            "ticks": ""
           },
           "bgcolor": "#E5ECF6",
           "radialaxis": {
            "gridcolor": "white",
            "linecolor": "white",
            "ticks": ""
           }
          },
          "scene": {
           "xaxis": {
            "backgroundcolor": "#E5ECF6",
            "gridcolor": "white",
            "gridwidth": 2,
            "linecolor": "white",
            "showbackground": true,
            "ticks": "",
            "zerolinecolor": "white"
           },
           "yaxis": {
            "backgroundcolor": "#E5ECF6",
            "gridcolor": "white",
            "gridwidth": 2,
            "linecolor": "white",
            "showbackground": true,
            "ticks": "",
            "zerolinecolor": "white"
           },
           "zaxis": {
            "backgroundcolor": "#E5ECF6",
            "gridcolor": "white",
            "gridwidth": 2,
            "linecolor": "white",
            "showbackground": true,
            "ticks": "",
            "zerolinecolor": "white"
           }
          },
          "shapedefaults": {
           "line": {
            "color": "#2a3f5f"
           }
          },
          "ternary": {
           "aaxis": {
            "gridcolor": "white",
            "linecolor": "white",
            "ticks": ""
           },
           "baxis": {
            "gridcolor": "white",
            "linecolor": "white",
            "ticks": ""
           },
           "bgcolor": "#E5ECF6",
           "caxis": {
            "gridcolor": "white",
            "linecolor": "white",
            "ticks": ""
           }
          },
          "title": {
           "x": 0.05
          },
          "xaxis": {
           "automargin": true,
           "gridcolor": "white",
           "linecolor": "white",
           "ticks": "",
           "title": {
            "standoff": 15
           },
           "zerolinecolor": "white",
           "zerolinewidth": 2
          },
          "yaxis": {
           "automargin": true,
           "gridcolor": "white",
           "linecolor": "white",
           "ticks": "",
           "title": {
            "standoff": 15
           },
           "zerolinecolor": "white",
           "zerolinewidth": 2
          }
         }
        },
        "title": {
         "text": "Top 25 Anomalies Highlighted by Ensemble Score"
        },
        "xaxis": {
         "anchor": "y",
         "domain": [
          0,
          1
         ],
         "title": {
          "text": "cycle"
         }
        },
        "yaxis": {
         "anchor": "x",
         "domain": [
          0,
          1
         ],
         "title": {
          "text": "capacity"
         }
        }
       }
      }
     },
     "metadata": {},
     "output_type": "display_data"
    }
   ],
   "source": [
    "# === Cell 9: Top-N Anomalies Exploration ===\n",
    "import pandas as pd\n",
    "import numpy as np\n",
    "import plotly.express as px\n",
    "from pathlib import Path\n",
    "\n",
    "# --- Parameters ---\n",
    "TOP_N = 25  # number of top anomalies to inspect\n",
    "SAVE_PATH = Path(\"../Data/results/top_anomalies.csv\")\n",
    "\n",
    "# --- 1️⃣ Compute an ensemble anomaly score ---\n",
    "# Normalize individual model scores (higher = more anomalous)\n",
    "def normalize_series(s):\n",
    "    s = pd.Series(s)\n",
    "    return (s - s.min()) / (s.max() - s.min())\n",
    "\n",
    "for sc in [\"score_iso\", \"score_lof\", \"score_svm\", \"score_ee\"]:\n",
    "    df_model[f\"{sc}_norm\"] = normalize_series(df_model[sc])\n",
    "\n",
    "# Combine all normalized scores (higher = more likely anomaly)\n",
    "df_model[\"ensemble_score\"] = (\n",
    "    df_model[[\"score_iso_norm\", \"score_lof_norm\", \"score_svm_norm\", \"score_ee_norm\"]].mean(axis=1)\n",
    ")\n",
    "\n",
    "# --- 2️⃣ Sort and extract top anomalies ---\n",
    "df_top = (\n",
    "    df_model.sort_values(\"ensemble_score\", ascending=False)\n",
    "    .head(TOP_N)\n",
    "    .reset_index(drop=True)\n",
    ")\n",
    "\n",
    "# Add a quick descriptor of which models agreed\n",
    "df_top[\"models_flagged\"] = (\n",
    "    df_top[[\"anomaly_iso\",\"anomaly_lof\",\"anomaly_svm\",\"anomaly_ee\"]].sum(axis=1)\n",
    ")\n",
    "\n",
    "# --- 3️⃣ Display summary ---\n",
    "cols_show = [\n",
    "    \"battery_id\",\"cycle\",\"capacity\",\"discharge_temp_sg\",\n",
    "    \"capacity_trend\",\"voltage_trend\",\n",
    "    \"ensemble_score\",\"models_flagged\"\n",
    "]\n",
    "display(df_top[cols_show].round(4))\n",
    "\n",
    "# --- 4️⃣ Save results ---\n",
    "SAVE_PATH.parent.mkdir(parents=True, exist_ok=True)\n",
    "df_top.to_csv(SAVE_PATH, index=False)\n",
    "print(f\"✅ Top {TOP_N} anomalies saved to: {SAVE_PATH}\")\n",
    "\n",
    "# --- 5️⃣ Visualize Top Anomalies on Capacity Curve ---\n",
    "fig = px.scatter(\n",
    "    df_model, x=\"cycle\", y=\"capacity\",\n",
    "    color=\"ensemble_score\", color_continuous_scale=\"RdYlBu_r\",\n",
    "    title=f\"Top {TOP_N} Anomalies Highlighted by Ensemble Score\",\n",
    "    hover_data=[\"battery_id\",\"cycle\",\"ensemble_score\"],\n",
    "    opacity=0.7\n",
    ")\n",
    "# Overlay Top anomalies\n",
    "fig.add_scatter(\n",
    "    x=df_top[\"cycle\"], y=df_top[\"capacity\"],\n",
    "    mode=\"markers\", marker=dict(size=10, color=\"red\", symbol=\"x\"),\n",
    "    name=\"Top Anomalies\"\n",
    ")\n",
    "fig.show()\n"
   ]
  }
 ],
 "metadata": {
  "kernelspec": {
   "display_name": "base",
   "language": "python",
   "name": "python3"
  },
  "language_info": {
   "codemirror_mode": {
    "name": "ipython",
    "version": 3
   },
   "file_extension": ".py",
   "mimetype": "text/x-python",
   "name": "python",
   "nbconvert_exporter": "python",
   "pygments_lexer": "ipython3",
   "version": "3.11.7"
  }
 },
 "nbformat": 4,
 "nbformat_minor": 5
}
